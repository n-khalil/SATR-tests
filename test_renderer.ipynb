{
 "cells": [
  {
   "cell_type": "code",
   "execution_count": 1,
   "metadata": {},
   "outputs": [
    {
     "name": "stdout",
     "output_type": "stream",
     "text": [
      "Torch will run on: cuda:0\n"
     ]
    }
   ],
   "source": [
    "# Imports and set torch device\n",
    "import numpy as np\n",
    "import meshplot as mp\n",
    "import torch\n",
    "import matplotlib.pyplot as plt\n",
    "import kaolin as kal\n",
    "import cv2\n",
    "from collections import defaultdict\n",
    "\n",
    "if torch.cuda.is_available():\n",
    "    device = torch.device(\"cuda:0\")\n",
    "    torch.cuda.set_device(device)\n",
    "else:\n",
    "    device = torch.device(\"cpu\")\n",
    "\n",
    "print('Torch will run on:', device)\n",
    "\n",
    "object = 'bookshelf' \n",
    "obj_path = 'data/demo/' + object + '.obj'"
   ]
  },
  {
   "cell_type": "code",
   "execution_count": 2,
   "metadata": {},
   "outputs": [
    {
     "name": "stdout",
     "output_type": "stream",
     "text": [
      "Number of vertices:  5786\n",
      "Number of faces:  8624\n"
     ]
    }
   ],
   "source": [
    "# Read mesh\n",
    "mesh = kal.io.obj.import_mesh(\n",
    "    obj_path,\n",
    "    with_normals=True,\n",
    "    with_materials=False,\n",
    ")\n",
    "\n",
    "vertices_tensor = mesh.vertices.to(device)\n",
    "faces_tensor = mesh.faces.to(device)\n",
    "\n",
    "vertices = vertices_tensor.detach().cpu().numpy()\n",
    "faces = faces_tensor.detach().cpu().numpy()\n",
    "color =  mesh.vertex_normals.cpu().numpy()\n",
    "\n",
    "print('Number of vertices: ', vertices.shape[0])\n",
    "print('Number of faces: ', faces.shape[0])"
   ]
  },
  {
   "cell_type": "code",
   "execution_count": 3,
   "metadata": {},
   "outputs": [
    {
     "data": {
      "application/vnd.jupyter.widget-view+json": {
       "model_id": "1e2fbe692dff4e008ca9eeca71ad1e5a",
       "version_major": 2,
       "version_minor": 0
      },
      "text/plain": [
       "Renderer(camera=PerspectiveCamera(children=(DirectionalLight(color='white', intensity=0.6, position=(3.4272670…"
      ]
     },
     "metadata": {},
     "output_type": "display_data"
    }
   ],
   "source": [
    "# Visualize mesh\n",
    "mp.plot(vertices, faces, color)\n",
    "plt.show()"
   ]
  },
  {
   "cell_type": "code",
   "execution_count": 4,
   "metadata": {},
   "outputs": [],
   "source": [
    "def get_camera_from_view2(elev, azim, r=3.0):\n",
    "    x = r * torch.cos(elev) * torch.cos(azim)\n",
    "    y = r * torch.sin(elev)\n",
    "    z = r * torch.cos(elev) * torch.sin(azim)\n",
    "    pos = torch.tensor([x, y, z]).unsqueeze(0)\n",
    "    look_at = torch.mean(mesh.vertices, dim=0)-pos\n",
    "    direction = torch.tensor([0.0, 1.0, 0.0]).unsqueeze(0)\n",
    "\n",
    "    camera_proj = kal.render.camera.generate_transformation_matrix(pos, look_at, direction)\n",
    "    return camera_proj\n",
    "\n",
    "\n",
    "def render_view(elev, azim, r):\n",
    "    background = torch.tensor([255.0, 255.0, 255.0]).to(device)\n",
    "    # face_attributes = kal.ops.mesh.index_vertices_by_faces(\n",
    "    #     torch.ones(1, len(mesh.vertices), 3).to(device)\n",
    "    #     * torch.tensor([0.5, 0.5, 0.5]).unsqueeze(0).unsqueeze(0).to(device),\n",
    "    #     faces_tensor,\n",
    "    # )\n",
    "    face_attributes = kal.ops.mesh.index_vertices_by_faces(\n",
    "            mesh.vertex_normals.unsqueeze(0).to(device),\n",
    "            faces_tensor\n",
    "    ) \n",
    "    face_attributes = [\n",
    "        face_attributes,  # Colors\n",
    "        torch.ones((1, faces.shape[0], 3, 1), device=device),  # hard seg. mask\n",
    "    ]\n",
    "    \n",
    "    camera_projection = kal.render.camera.generate_perspective_projection(np.pi / 3).to(\n",
    "                    device\n",
    "                )\n",
    "    camera_transform = get_camera_from_view2(elev, azim, r=r).to(device)\n",
    "    (\n",
    "        face_vertices_camera,\n",
    "        face_vertices_image,\n",
    "        face_normals,\n",
    "    ) = kal.render.mesh.prepare_vertices(\n",
    "        mesh.vertices.to(device),\n",
    "        mesh.faces.to(device),\n",
    "        camera_projection,\n",
    "        camera_transform=camera_transform,\n",
    "    )\n",
    "\n",
    "    image_features, soft_mask, face_idx = kal.render.mesh.dibr_rasterization(\n",
    "        1024,\n",
    "        1024,\n",
    "        face_vertices_camera[:, :, :, -1],\n",
    "        face_vertices_image,\n",
    "        face_attributes,\n",
    "        face_normals[:, :, -1],\n",
    "    )\n",
    "    image_features, mask = image_features\n",
    "    image = torch.clamp(image_features, 0.0, 1.0)\n",
    "    lights=torch.tensor([1.0, 1.0, 1.0, 1.0, 0.0, 0.0, 0.0, 0.0, 0.0]).unsqueeze(0).to(device)\n",
    "    image_normals = face_normals[:, face_idx].squeeze(0)\n",
    "    image_lighting = kal.render.mesh.spherical_harmonic_lighting(\n",
    "        image_normals, lights\n",
    "        ).unsqueeze(0)\n",
    "    image = image * image_lighting.repeat(1, 3, 1, 1).permute(\n",
    "        0, 2, 3, 1\n",
    "        ).to(device)\n",
    "    image = torch.clamp(image, 0.0, 1.0)\n",
    "    background_mask = torch.zeros(image.shape).to(device)\n",
    "    mask = mask.squeeze(-1)\n",
    "    background_idx = torch.where(mask == 0)\n",
    "    assert torch.all(\n",
    "        image[background_idx] == torch.zeros(3).to(device)\n",
    "    )  # Remvoe it may be taking a lot of time\n",
    "    background_mask[\n",
    "        background_idx\n",
    "    ] = background  # .repeat(background_idx[0].shape)\n",
    "    image = torch.clamp(image + background_mask, 0.0, 1.0)\n",
    "    image = image.squeeze().cpu().numpy()\n",
    "    image *= 255.0\n",
    "    image = image.astype(np.uint8)\n",
    "    return image, face_idx\n",
    "\n",
    "from SAM import SamPredictor, sam_model_registry\n",
    "sam = sam_model_registry[\"vit_h\"](checkpoint=\"./SAM/MODEL/sam_vit_h_4b8939.pth\")\n",
    "predictor = SamPredictor(sam)\n",
    "def show_mask(mask, ax, random_color=False):\n",
    "    if random_color:\n",
    "        color = np.concatenate([np.random.random(3), np.array([0.6])], axis=0)\n",
    "    else:\n",
    "        color = np.array([30/255, 144/255, 255/255, 0.6])\n",
    "    h, w = mask.shape[-2:]\n",
    "    mask_image = mask.reshape(h, w, 1) * color.reshape(1, 1, -1)\n",
    "    ax.imshow(mask_image)\n",
    "    \n",
    "def show_points(coords, labels, ax, marker_size=375):\n",
    "    pos_points = coords[labels==1]\n",
    "    neg_points = coords[labels==0]\n",
    "    ax.scatter(pos_points[:, 0], pos_points[:, 1], color='green', marker='*', s=marker_size, edgecolor='white', linewidth=1.25)\n",
    "    ax.scatter(neg_points[:, 0], neg_points[:, 1], color='red', marker='*', s=marker_size, edgecolor='white', linewidth=1.25)   \n",
    "    \n",
    "def show_box(box, ax):\n",
    "    x0, y0 = box[0], box[1]\n",
    "    w, h = box[2] - box[0], box[3] - box[1]\n",
    "    ax.add_patch(plt.Rectangle((x0, y0), w, h, edgecolor='green', facecolor=(0,0,0,0), lw=2))\n"
   ]
  },
  {
   "cell_type": "code",
   "execution_count": 5,
   "metadata": {},
   "outputs": [
    {
     "data": {
      "image/png": "[encoded data removed]",
      "text/plain": [
       "<Figure size 640x480 with 1 Axes>"
      ]
     },
     "metadata": {},
     "output_type": "display_data"
    }
   ],
   "source": [
    "elev = torch.deg2rad(torch.tensor(15)).to(device)\n",
    "azim = torch.deg2rad(torch.tensor(270)).to(device)\n",
    "image, face_idx = render_view(elev, azim, 2)\n",
    "face_idx = face_idx.squeeze()\n",
    "img_to_show = image.copy()\n",
    "startX = 300; startY = 120; endX = 720; endY = 600\n",
    "cv2.rectangle(img_to_show, (startX, startY), (endX, endY), [255,0,0], 2)\n",
    "plt.imshow(img_to_show)\n",
    "plt.show()"
   ]
  },
  {
   "cell_type": "code",
   "execution_count": 6,
   "metadata": {},
   "outputs": [
    {
     "data": {
      "application/vnd.jupyter.widget-view+json": {
       "model_id": "c2aac65d30434f158bf445281bdea844",
       "version_major": 2,
       "version_minor": 0
      },
      "text/plain": [
       "Renderer(camera=PerspectiveCamera(children=(DirectionalLight(color='white', intensity=0.6, position=(3.4272670…"
      ]
     },
     "metadata": {},
     "output_type": "display_data"
    }
   ],
   "source": [
    "# colors = np.random.rand(faces.shape[0], 3)\n",
    "colors = np.zeros((faces.shape[0], 3))\n",
    "included_faces_ids = defaultdict(int)\n",
    "for col in range(startY, endY):\n",
    "    for row in range(startX, endX):\n",
    "        face_id = face_idx[row, col]\n",
    "        if (face_id == -1):\n",
    "            continue\n",
    "        included_faces_ids[face_id] += 1\n",
    "        colors[face_id] = np.array([1,0,0])\n",
    "mp.plot(vertices, faces, colors)\n",
    "plt.show()"
   ]
  },
  {
   "cell_type": "code",
   "execution_count": null,
   "metadata": {},
   "outputs": [],
   "source": []
  }
 ],
 "metadata": {
  "kernelspec": {
   "display_name": "meshseg",
   "language": "python",
   "name": "python3"
  },
  "language_info": {
   "codemirror_mode": {
    "name": "ipython",
    "version": 3
   },
   "file_extension": ".py",
   "mimetype": "text/x-python",
   "name": "python",
   "nbconvert_exporter": "python",
   "pygments_lexer": "ipython3",
   "version": "3.9.19"
  }
 },
 "nbformat": 4,
 "nbformat_minor": 2
}
