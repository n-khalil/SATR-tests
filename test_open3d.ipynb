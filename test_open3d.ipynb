{
 "cells": [
  {
   "cell_type": "code",
   "execution_count": 8,
   "metadata": {},
   "outputs": [
    {
     "name": "stdout",
     "output_type": "stream",
     "text": [
      "Torch will run on: cuda:0\n"
     ]
    }
   ],
   "source": [
    "# Imports and set torch device\n",
    "import pyvista as pv\n",
    "import torch\n",
    "import meshplot as mp\n",
    "import kaolin as kal\n",
    "import matplotlib.pyplot as plt\n",
    "import trimesh\n",
    "import numpy as np\n",
    "import open3d as o3d\n",
    "import open3d.core as o3c\n",
    "\n",
    "if torch.cuda.is_available():\n",
    "    device = torch.device(\"cuda:0\")\n",
    "    torch.cuda.set_device(device)\n",
    "else:\n",
    "    device = torch.device(\"cpu\")\n",
    "\n",
    "print('Torch will run on:', device)\n",
    "\n",
    "object = 'bookshelf'\n",
    "obj_path = 'data/demo/' + object + '.obj'"
   ]
  },
  {
   "cell_type": "code",
   "execution_count": 9,
   "metadata": {},
   "outputs": [
    {
     "name": "stdout",
     "output_type": "stream",
     "text": [
      "Number of vertices:  5786\n",
      "Number of faces:  8624\n",
      "Number of sampled points: 11572\n"
     ]
    },
    {
     "data": {
      "application/vnd.jupyter.widget-view+json": {
       "model_id": "3d39eb164e2d47cbbd110137240bf25d",
       "version_major": 2,
       "version_minor": 0
      },
      "text/plain": [
       "Renderer(camera=PerspectiveCamera(children=(DirectionalLight(color='white', intensity=0.6, position=(-0.003204…"
      ]
     },
     "metadata": {},
     "output_type": "display_data"
    }
   ],
   "source": [
    "# Read mesh\n",
    "mesh = kal.io.obj.import_mesh(\n",
    "    obj_path,\n",
    "    with_normals=True,\n",
    "    with_materials=False,\n",
    ")\n",
    "\n",
    "vertices = mesh.vertices.cpu().numpy()\n",
    "faces = mesh.faces.cpu().numpy()\n",
    "colors = mesh.vertex_normals.cpu().numpy()\n",
    "vertices = (vertices - np.mean(vertices, axis=0)) / np.std(vertices)\n",
    "# Sample Point Cloud\n",
    "np.random.seed(42)\n",
    "n_samples = int(vertices.shape[0] * 2.)\n",
    "trimeshMesh = trimesh.Trimesh(vertices, faces)\n",
    "point_cloud = np.asarray(trimesh.sample.sample_surface_even(trimeshMesh, n_samples)[0])\n",
    "# point_cloud = (point_cloud - np.mean(point_cloud, axis=0)) / np.std(point_cloud)\n",
    "print('Number of vertices: ', vertices.shape[0])\n",
    "print('Number of faces: ', faces.shape[0])\n",
    "print('Number of sampled points:', point_cloud.shape[0])\n",
    "mp.plot(point_cloud, shading={'point_size':0.2})\n",
    "plt.show()"
   ]
  },
  {
   "cell_type": "markdown",
   "metadata": {},
   "source": [
    "## Using Alpha Shapes"
   ]
  },
  {
   "cell_type": "code",
   "execution_count": null,
   "metadata": {},
   "outputs": [],
   "source": [
    "alpha = 0.15\n",
    "o3d_points = o3d.cpu.pybind.utility.Vector3dVector(point_cloud)\n",
    "pcd = o3d.cpu.pybind.geometry.PointCloud(o3d_points)\n",
    "mesh = o3d.geometry.TriangleMesh.create_from_point_cloud_alpha_shape(pcd, alpha)\n",
    "remeshed_vertices = np.asarray(mesh.vertices)\n",
    "remeshed_faces = np.asarray(mesh.triangles)\n",
    "print('Number of remeshed vertices: ', remeshed_vertices.shape[0])\n",
    "print('Number of remeshed faces: ', remeshed_faces.shape[0])\n",
    "mp.plot(remeshed_vertices, remeshed_faces, np.random.rand(remeshed_faces.shape[0]))\n",
    "plt.show()"
   ]
  },
  {
   "cell_type": "markdown",
   "metadata": {},
   "source": [
    "## Using Ball Pivoting"
   ]
  },
  {
   "cell_type": "markdown",
   "metadata": {},
   "source": []
  }
 ],
 "metadata": {
  "kernelspec": {
   "display_name": "triangulation",
   "language": "python",
   "name": "python3"
  },
  "language_info": {
   "codemirror_mode": {
    "name": "ipython",
    "version": 3
   },
   "file_extension": ".py",
   "mimetype": "text/x-python",
   "name": "python",
   "nbconvert_exporter": "python",
   "pygments_lexer": "ipython3",
   "version": "3.9.19"
  }
 },
 "nbformat": 4,
 "nbformat_minor": 2
}
