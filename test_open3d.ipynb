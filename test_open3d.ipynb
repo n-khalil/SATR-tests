{
 "cells": [
  {
   "cell_type": "code",
   "execution_count": 1,
   "metadata": {},
   "outputs": [
    {
     "name": "stdout",
     "output_type": "stream",
     "text": [
      "Jupyter environment detected. Enabling Open3D WebVisualizer.\n",
      "[Open3D INFO] WebRTC GUI backend enabled.\n",
      "[Open3D INFO] WebRTCWindowSystem: HTTP handshake server disabled.\n",
      "Torch will run on: cuda:0\n"
     ]
    }
   ],
   "source": [
    "# Imports and set torch device\n",
    "import torch\n",
    "import meshplot as mp\n",
    "import kaolin as kal\n",
    "import matplotlib.pyplot as plt\n",
    "import trimesh\n",
    "import numpy as np\n",
    "import open3d as o3d\n",
    "import open3d.core as o3c\n",
    "\n",
    "if torch.cuda.is_available():\n",
    "    device = torch.device(\"cuda:0\")\n",
    "    torch.cuda.set_device(device)\n",
    "else:\n",
    "    device = torch.device(\"cpu\")\n",
    "\n",
    "print('Torch will run on:', device)\n",
    "\n",
    "object = 'bookshelf'\n",
    "obj_path = 'data/demo/' + object + '.obj'"
   ]
  },
  {
   "cell_type": "code",
   "execution_count": 2,
   "metadata": {},
   "outputs": [
    {
     "name": "stdout",
     "output_type": "stream",
     "text": [
      "Number of vertices:  5786\n",
      "Number of faces:  8624\n",
      "Number of sampled points: 11572\n"
     ]
    },
    {
     "data": {
      "application/vnd.jupyter.widget-view+json": {
       "model_id": "1ff810d60d7d41658aa8171c20840911",
       "version_major": 2,
       "version_minor": 0
      },
      "text/plain": [
       "Renderer(camera=PerspectiveCamera(children=(DirectionalLight(color='white', intensity=0.6, position=(-0.003204…"
      ]
     },
     "metadata": {},
     "output_type": "display_data"
    }
   ],
   "source": [
    "# Read mesh\n",
    "mesh = kal.io.obj.import_mesh(\n",
    "    obj_path,\n",
    "    with_normals=True,\n",
    "    with_materials=False,\n",
    ")\n",
    "\n",
    "vertices = mesh.vertices.cpu().numpy()\n",
    "faces = mesh.faces.cpu().numpy()\n",
    "colors = mesh.vertex_normals.cpu().numpy()\n",
    "vertices = (vertices - np.mean(vertices, axis=0)) / np.std(vertices)\n",
    "# Sample Point Cloud\n",
    "np.random.seed(42)\n",
    "n_samples = int(vertices.shape[0] * 2.)\n",
    "trimeshMesh = trimesh.Trimesh(vertices, faces)\n",
    "point_cloud = np.asarray(trimesh.sample.sample_surface_even(trimeshMesh, n_samples)[0])\n",
    "# point_cloud = (point_cloud - np.mean(point_cloud, axis=0)) / np.std(point_cloud)\n",
    "print('Number of vertices: ', vertices.shape[0])\n",
    "print('Number of faces: ', faces.shape[0])\n",
    "print('Number of sampled points:', point_cloud.shape[0])\n",
    "mp.plot(point_cloud, shading={'point_size':0.2})\n",
    "plt.show()"
   ]
  },
  {
   "cell_type": "markdown",
   "metadata": {},
   "source": [
    "## Using Alpha Shapes"
   ]
  },
  {
   "cell_type": "code",
   "execution_count": 3,
   "metadata": {},
   "outputs": [
    {
     "name": "stdout",
     "output_type": "stream",
     "text": [
      "Number of remeshed vertices:  8759\n",
      "Number of remeshed faces:  17514\n"
     ]
    },
    {
     "data": {
      "application/vnd.jupyter.widget-view+json": {
       "model_id": "ee42efa491fc4880affca1c39886224e",
       "version_major": 2,
       "version_minor": 0
      },
      "text/plain": [
       "Renderer(camera=PerspectiveCamera(children=(DirectionalLight(color='white', intensity=0.6, position=(-0.003204…"
      ]
     },
     "metadata": {},
     "output_type": "display_data"
    }
   ],
   "source": [
    "alpha = 0.15\n",
    "o3d_points = o3d.cpu.pybind.utility.Vector3dVector(point_cloud)\n",
    "pcd = o3d.cpu.pybind.geometry.PointCloud(o3d_points)\n",
    "mesh = o3d.geometry.TriangleMesh.create_from_point_cloud_alpha_shape(pcd, alpha)\n",
    "remeshed_vertices = np.asarray(mesh.vertices)\n",
    "remeshed_faces = np.asarray(mesh.triangles)\n",
    "print('Number of remeshed vertices: ', remeshed_vertices.shape[0])\n",
    "print('Number of remeshed faces: ', remeshed_faces.shape[0])\n",
    "mp.plot(remeshed_vertices, remeshed_faces, np.random.rand(remeshed_faces.shape[0]))\n",
    "plt.show()"
   ]
  },
  {
   "cell_type": "markdown",
   "metadata": {},
   "source": [
    "## Poisson Surface Reconstruction"
   ]
  },
  {
   "cell_type": "code",
   "execution_count": 4,
   "metadata": {},
   "outputs": [
    {
     "name": "stdout",
     "output_type": "stream",
     "text": [
      "[Open3D DEBUG] Input Points / Samples: 11572 / 11572\n",
      "[Open3D DEBUG] #   Got kernel density: 0.0380001 (s), 417.211 (MB) / 417.211 (MB) / 417 (MB)\n",
      "[Open3D DEBUG] #     Got normal field: 0.023 (s), 421.758 (MB) / 421.758 (MB) / 421 (MB)\n",
      "[Open3D DEBUG] Point weight / Estimated Area: 3.290125e-04 / 3.807333e+00\n",
      "[Open3D DEBUG] #       Finalized tree: 0.0420001 (s), 433.258 (MB) / 433.258 (MB) / 433 (MB)\n",
      "[Open3D DEBUG] #  Set FEM constraints: 0.0319998 (s), 427.375 (MB) / 433.258 (MB) / 433 (MB)\n",
      "[Open3D DEBUG] #Set point constraints: 0.0110002 (s), 427.414 (MB) / 433.258 (MB) / 433 (MB)\n",
      "[Open3D DEBUG] Leaf Nodes / Active Nodes / Ghost Nodes: 433518 / 124896 / 370553\n",
      "[Open3D DEBUG] Memory Usage: 427.414 MB\n",
      "[Open3D DEBUG] # Linear system solved: 0.124 (s), 431.676 (MB) / 433.258 (MB) / 433 (MB)\n",
      "[Open3D DEBUG] Got average: 0.00299978 (s), 431.719 (MB) / 433.258 (MB) / 433 (MB)\n",
      "[Open3D DEBUG] Iso-Value: 5.010170e-01 = 5.797769e+03 / 1.157200e+04\n",
      "[Open3D DEBUG] #          Total Solve:       0.6 (s),     457.3 (MB)\n",
      "Number of remeshed vertices:  20805\n",
      "Number of remeshed faces:  41360\n"
     ]
    },
    {
     "data": {
      "application/vnd.jupyter.widget-view+json": {
       "model_id": "a3f3d2b6194047f58a3a9a1df2ed5e16",
       "version_major": 2,
       "version_minor": 0
      },
      "text/plain": [
       "Renderer(camera=PerspectiveCamera(children=(DirectionalLight(color='white', intensity=0.6, position=(0.1734335…"
      ]
     },
     "metadata": {},
     "output_type": "display_data"
    }
   ],
   "source": [
    "with o3d.utility.VerbosityContextManager(\n",
    "        o3d.utility.VerbosityLevel.Debug) as cm:\n",
    "    pcd.estimate_normals()\n",
    "    mesh, densities = o3d.geometry.TriangleMesh.create_from_point_cloud_poisson(\n",
    "        pcd, depth=9)\n",
    "densities = np.asarray(densities)\n",
    "vertices_to_remove = densities < np.quantile(densities, 0.01)\n",
    "mesh.remove_vertices_by_mask(vertices_to_remove)\n",
    "remeshed_vertices = np.asarray(mesh.vertices)\n",
    "remeshed_faces = np.asarray(mesh.triangles)\n",
    "print('Number of remeshed vertices: ', remeshed_vertices.shape[0])\n",
    "print('Number of remeshed faces: ', remeshed_faces.shape[0])\n",
    "mp.plot(remeshed_vertices, remeshed_faces, np.random.rand(remeshed_faces.shape[0]))\n",
    "# mp.plot(remeshed_vertices, remeshed_faces, np.asarray(densities))\n",
    "plt.show()"
   ]
  }
 ],
 "metadata": {
  "kernelspec": {
   "display_name": "triangulation",
   "language": "python",
   "name": "python3"
  },
  "language_info": {
   "codemirror_mode": {
    "name": "ipython",
    "version": 3
   },
   "file_extension": ".py",
   "mimetype": "text/x-python",
   "name": "python",
   "nbconvert_exporter": "python",
   "pygments_lexer": "ipython3",
   "version": "3.9.19"
  }
 },
 "nbformat": 4,
 "nbformat_minor": 2
}
