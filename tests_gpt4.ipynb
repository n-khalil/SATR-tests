{
 "cells": [
  {
   "cell_type": "code",
   "execution_count": 1,
   "metadata": {},
   "outputs": [
    {
     "name": "stdout",
     "output_type": "stream",
     "text": [
      "1fa4c9bdb66e406fb5ba963e2bcdad27\n"
     ]
    }
   ],
   "source": [
    "from openai import AzureOpenAI\n",
    "import os\n",
    "import base64\n",
    "\n",
    "# api_base = os.getenv(\"AZURE_OPENAI_ENDPOINT\")\n",
    "# api_key = os.getenv(\"1fa4c9bdb66e406fb5ba963e2bcdad27\")\n",
    "api_base = \"https://mdu-gpt-vision-poc.openai.azure.com/\"\n",
    "api_key = \"1fa4c9bdb66e406fb5ba963e2bcdad27\"\n",
    "print(api_key)\n",
    "\n",
    "deployment_name = \"MDU-vision-preview\"\n",
    "api_version = \"2023-12-01-preview\"  # this might change in the future"
   ]
  },
  {
   "cell_type": "code",
   "execution_count": 2,
   "metadata": {},
   "outputs": [],
   "source": [
    "# api_base = os.getenv(\"AZURE_OPENAI_ENDPOINT\")\n",
    "# api_key = os.getenv(\"AZURE_OPENAI_KEY\")\n",
    "\n",
    "deployment_name = \"MDU-vision-preview\"\n",
    "api_version = \"2023-12-01-preview\"  # this might change in the future\n",
    "\n",
    "client = AzureOpenAI(\n",
    "    api_key=api_key,\n",
    "    api_version=api_version,\n",
    "    base_url=f\"{api_base}/openai/deployments/{deployment_name}\",\n",
    ")\n",
    "\n",
    "def image_to_base64(image_pth):\n",
    "    with open(image_pth, \"rb\") as image_file:\n",
    "        encoded_string = base64.b64encode(image_file.read())\n",
    "        return encoded_string.decode(\"utf-8\")\n"
   ]
  },
  {
   "cell_type": "code",
   "execution_count": 4,
   "metadata": {},
   "outputs": [
    {
     "name": "stdout",
     "output_type": "stream",
     "text": [
      "The object in the image is a dresser.\n",
      "\n",
      "A potential segmentation as a dictionary of words for this object could be:\n",
      "\n",
      "{\n",
      "  \"top_panel\": \"The flat horizontal surface on the top of the dresser.\",\n",
      "  \"drawers\": \"The sliding storage compartments, six in total, with horizontal handles.\",\n",
      "  \"handles\": \"The elongated horizontal pieces used to open and close the drawers.\",\n",
      "  \"side_panels\": \"The vertical surfaces on the left and right sides of the dresser.\",\n",
      "  \"bottom_panel\": \"The flat surface forming the base of the dresser.\",\n",
      "  \"back_panel\": \"The vertical surface on the rear side of the dresser, not visible in the image.\"\n",
      "}\n"
     ]
    }
   ],
   "source": [
    "response = client.chat.completions.create(\n",
    "    model=deployment_name,\n",
    "    messages=[\n",
    "        {\"role\": \"system\", \"content\": \"You are a helpful assistant you can look at images.\"},\n",
    "        {\n",
    "            \"role\": \"user\",\n",
    "            \"content\": [\n",
    "                {\n",
    "                    \"type\": \"text\",\n",
    "                    # \"text\": \"for the object in the image provided can you give an approximate taxonomy of the parts.\",\n",
    "                    # \"text\": \"for the object in the image provided can you give an approximate taxonomy of the parts as a python dictionary where the key is the assembly name and the value is a list of parts within the assembly.\",\n",
    "                    \"text\": \"give the name of the object in the image.\\\n",
    "                        Then, for this object, give a potential segmentation as a dictionnary of words\",\n",
    "                    # \"text\": \"give only the name of the object in the image.\",\n",
    "                },\n",
    "                {\n",
    "                    \"type\": \"image_url\",\n",
    "                    \"image_url\": {\n",
    "                        # \"url\": \"https://www.m-s-c.org/wp-content/uploads/2018/03/71jiIUq2zSL._SL1500_.jpg\"\n",
    "                        # \"url\": f\"./data/img/street.jpg\"\n",
    "                        \"url\": f\"data:image/jpg;base64,{image_to_base64('./data/img/test.png')}\"\n",
    "                    },\n",
    "                },\n",
    "            ],\n",
    "        },\n",
    "    ],\n",
    "    max_tokens=500,\n",
    ")\n",
    "\n",
    "print(response.choices[0].message.content)"
   ]
  }
 ],
 "metadata": {
  "kernelspec": {
   "display_name": "clip",
   "language": "python",
   "name": "python3"
  },
  "language_info": {
   "codemirror_mode": {
    "name": "ipython",
    "version": 3
   },
   "file_extension": ".py",
   "mimetype": "text/x-python",
   "name": "python",
   "nbconvert_exporter": "python",
   "pygments_lexer": "ipython3",
   "version": "3.9.19"
  }
 },
 "nbformat": 4,
 "nbformat_minor": 2
}
