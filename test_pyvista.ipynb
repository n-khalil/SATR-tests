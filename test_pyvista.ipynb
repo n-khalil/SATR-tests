{
 "cells": [
  {
   "cell_type": "code",
   "execution_count": 4,
   "metadata": {},
   "outputs": [
    {
     "name": "stdout",
     "output_type": "stream",
     "text": [
      "Torch will run on: cuda:0\n"
     ]
    }
   ],
   "source": [
    "# Imports and set torch device\n",
    "import pyvista as pv\n",
    "import torch\n",
    "import meshplot as mp\n",
    "import kaolin as kal\n",
    "import matplotlib.pyplot as plt\n",
    "import trimesh\n",
    "import numpy as np\n",
    "\n",
    "if torch.cuda.is_available():\n",
    "    device = torch.device(\"cuda:0\")\n",
    "    torch.cuda.set_device(device)\n",
    "else:\n",
    "    device = torch.device(\"cpu\")\n",
    "\n",
    "print('Torch will run on:', device)\n",
    "\n",
    "object = 'nightstand'\n",
    "obj_path = 'data/demo/' + object + '.obj'"
   ]
  },
  {
   "cell_type": "code",
   "execution_count": 6,
   "metadata": {},
   "outputs": [
    {
     "name": "stderr",
     "output_type": "stream",
     "text": [
      "only got 13236/13280 samples!\n"
     ]
    },
    {
     "name": "stdout",
     "output_type": "stream",
     "text": [
      "Number of vertices:  6640\n",
      "Number of faces:  8426\n",
      "Number of sampled points: 13236\n"
     ]
    }
   ],
   "source": [
    "# Read mesh\n",
    "mesh = kal.io.obj.import_mesh(\n",
    "    obj_path,\n",
    "    with_normals=True,\n",
    "    with_materials=False,\n",
    ")\n",
    "\n",
    "vertices = mesh.vertices.cpu().numpy()\n",
    "faces = mesh.faces.cpu().numpy()\n",
    "colors = mesh.vertex_normals.cpu().numpy()\n",
    "\n",
    "n_samples = int(vertices.shape[0] * 2)\n",
    "trimeshMesh = trimesh.Trimesh(vertices, faces)\n",
    "point_cloud = trimesh.sample.sample_surface_even(trimeshMesh, n_samples)[0]\n",
    "print('Number of vertices: ', vertices.shape[0])\n",
    "print('Number of faces: ', faces.shape[0])\n",
    "print('Number of sampled points:', point_cloud.shape[0])"
   ]
  },
  {
   "cell_type": "code",
   "execution_count": 20,
   "metadata": {},
   "outputs": [
    {
     "data": {
      "application/vnd.jupyter.widget-view+json": {
       "model_id": "9a9a9f003f254dc8afb58e81913b2ea2",
       "version_major": 2,
       "version_minor": 0
      },
      "text/plain": [
       "Renderer(camera=PerspectiveCamera(children=(DirectionalLight(color='white', intensity=0.6, position=(0.0, 0.36…"
      ]
     },
     "metadata": {},
     "output_type": "display_data"
    }
   ],
   "source": [
    "from scipy.spatial import Delaunay\n",
    "tri = Delaunay(point_cloud)\n",
    "mp.plot(tri.points, tri.simplices)\n",
    "plt.show()"
   ]
  },
  {
   "cell_type": "code",
   "execution_count": 4,
   "metadata": {},
   "outputs": [
    {
     "name": "stdout",
     "output_type": "stream",
     "text": [
      "Reconstruct Surface\n"
     ]
    },
    {
     "data": {
      "application/vnd.jupyter.widget-view+json": {
       "model_id": "7ac21c1301b84767aecd966fc4a8dcd0",
       "version_major": 2,
       "version_minor": 0
      },
      "text/plain": [
       "Renderer(camera=PerspectiveCamera(children=(DirectionalLight(color='white', intensity=0.6, position=(-0.013181…"
      ]
     },
     "metadata": {},
     "output_type": "display_data"
    }
   ],
   "source": [
    "trimeshMeshSampled = trimesh.Trimesh(point_cloud)\n",
    "# points = pv.wrap(trimeshMeshSampled)\n",
    "points = pv.wrap(point_cloud)\n",
    "surf = points.reconstruct_surface()\n",
    "reconstructed_faces = []\n",
    "for i in range(0, surf.faces.shape[0], 4):\n",
    "    face=[]\n",
    "    face.append(surf.faces[i+1])\n",
    "    face.append(surf.faces[i+2])\n",
    "    face.append(surf.faces[i+3])\n",
    "    reconstructed_faces.append(face)\n",
    "reconstructed_faces = np.array(reconstructed_faces)\n",
    "print('Reconstruct Surface')\n",
    "mp.plot(surf.points, reconstructed_faces, np.random.rand(reconstructed_faces.shape[0]))\n",
    "plt.show()"
   ]
  },
  {
   "cell_type": "code",
   "execution_count": 5,
   "metadata": {},
   "outputs": [
    {
     "name": "stdout",
     "output_type": "stream",
     "text": [
      "Delaunay 2D\n"
     ]
    },
    {
     "data": {
      "application/vnd.jupyter.widget-view+json": {
       "model_id": "8128174957e441ab86141d9cf04c5e5b",
       "version_major": 2,
       "version_minor": 0
      },
      "text/plain": [
       "Renderer(camera=PerspectiveCamera(children=(DirectionalLight(color='white', intensity=0.6, position=(0.0, 0.36…"
      ]
     },
     "metadata": {},
     "output_type": "display_data"
    }
   ],
   "source": [
    "del2d = points.delaunay_2d()\n",
    "reconstructed_faces = []\n",
    "for i in range(0, del2d.faces.shape[0], 4):\n",
    "    face=[]\n",
    "    face.append(del2d.faces[i+1])\n",
    "    face.append(del2d.faces[i+2])\n",
    "    face.append(del2d.faces[i+3])\n",
    "    reconstructed_faces.append(face)\n",
    "reconstructed_faces = np.array(reconstructed_faces)\n",
    "print('Delaunay 2D')\n",
    "mp.plot(del2d.points, reconstructed_faces, np.random.rand(reconstructed_faces.shape[0]))\n",
    "plt.show()"
   ]
  },
  {
   "cell_type": "code",
   "execution_count": null,
   "metadata": {},
   "outputs": [],
   "source": [
    "del3d = points.delaunay_3d()\n",
    "reconstructed_faces = []\n",
    "for i in range(0, del3d.cells.shape[0], 5):\n",
    "    face=[]\n",
    "    face.append(del3d.cells[i+1])\n",
    "    face.append(del3d.cells[i+2])\n",
    "    face.append(del3d.cells[i+3])\n",
    "    face.append(del3d.cells[i+4])\n",
    "    reconstructed_faces.append(face)\n",
    "reconstructed_faces = np.array(reconstructed_faces)\n",
    "print('Delaunay 3D')\n",
    "mp.plot(del3d.points, reconstructed_faces)\n",
    "plt.show()"
   ]
  },
  {
   "cell_type": "code",
   "execution_count": null,
   "metadata": {},
   "outputs": [],
   "source": [
    "import pyvista as pv\n",
    "sphere = pv.Sphere(theta_resolution=5, phi_resolution=5)\n",
    "grid = sphere.delaunay_3d()\n",
    "reconstructed_faces = []\n",
    "for i in range(0, grid.cells.shape[0], 5):\n",
    "    face=[]\n",
    "    face.append(grid.cells[i+1])\n",
    "    face.append(grid.cells[i+2])\n",
    "    face.append(grid.cells[i+3])\n",
    "    face.append(grid.cells[i+4])\n",
    "    reconstructed_faces.append(face)\n",
    "reconstructed_faces = np.array(reconstructed_faces)\n",
    "mp.plot(grid.points, reconstructed_faces)\n",
    "plt.show()"
   ]
  }
 ],
 "metadata": {
  "kernelspec": {
   "display_name": "meshseg",
   "language": "python",
   "name": "python3"
  },
  "language_info": {
   "codemirror_mode": {
    "name": "ipython",
    "version": 3
   },
   "file_extension": ".py",
   "mimetype": "text/x-python",
   "name": "python",
   "nbconvert_exporter": "python",
   "pygments_lexer": "ipython3",
   "version": "3.9.19"
  }
 },
 "nbformat": 4,
 "nbformat_minor": 2
}
