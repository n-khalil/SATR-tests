{
 "cells": [
  {
   "cell_type": "code",
   "execution_count": 80,
   "metadata": {},
   "outputs": [
    {
     "name": "stdout",
     "output_type": "stream",
     "text": [
      "Torch will run on: cuda:0\n"
     ]
    }
   ],
   "source": [
    "# Imports and set torch device\n",
    "import numpy as np\n",
    "import meshplot as mp\n",
    "import torch\n",
    "import sys\n",
    "import kaolin as kal\n",
    "import matplotlib.pyplot as plt\n",
    "import igl\n",
    "\n",
    "if torch.cuda.is_available():\n",
    "    device = torch.device(\"cuda:0\")\n",
    "    torch.cuda.set_device(device)\n",
    "else:\n",
    "    device = torch.device(\"cpu\")\n",
    "\n",
    "print('Torch will run on:', device)\n",
    "\n",
    "object = 'nightstand'\n",
    "obj_path = 'data/demo/' + object + '.obj'"
   ]
  },
  {
   "cell_type": "code",
   "execution_count": 81,
   "metadata": {},
   "outputs": [
    {
     "name": "stdout",
     "output_type": "stream",
     "text": [
      "Number of vertices:  6640\n",
      "Number of faces:  8426\n"
     ]
    }
   ],
   "source": [
    "# Read mesh\n",
    "mesh = kal.io.obj.import_mesh(\n",
    "    obj_path,\n",
    "    with_normals=True,\n",
    "    with_materials=False,\n",
    ")\n",
    "\n",
    "vertices_tensor = mesh.vertices.to(device)\n",
    "faces_tensor = mesh.faces.to(device)\n",
    "\n",
    "vertices = vertices_tensor.detach().cpu().numpy()\n",
    "faces = faces_tensor.detach().cpu().numpy()\n",
    "colors = mesh.vertex_normals.cpu().numpy()\n",
    "\n",
    "print('Number of vertices: ', vertices.shape[0])\n",
    "print('Number of faces: ', faces.shape[0])"
   ]
  },
  {
   "cell_type": "code",
   "execution_count": 82,
   "metadata": {},
   "outputs": [
    {
     "name": "stdout",
     "output_type": "stream",
     "text": [
      "Face: 3\n",
      "Point: [[ 0.00790948  0.72697294 -0.07581344]]\n"
     ]
    },
    {
     "data": {
      "application/vnd.jupyter.widget-view+json": {
       "model_id": "2a709627862b4ce5a679b9585fc1ac4d",
       "version_major": 2,
       "version_minor": 0
      },
      "text/plain": [
       "Renderer(camera=PerspectiveCamera(children=(DirectionalLight(color='white', intensity=0.6, position=(0.0, 0.36…"
      ]
     },
     "metadata": {},
     "output_type": "display_data"
    }
   ],
   "source": [
    "# Sample one point\n",
    "sampled_pts = igl.random_points_on_mesh(1, vertices, faces)\n",
    "print('Face:', sampled_pts[1])\n",
    "pt = np.sum(sampled_pts[0][:, np.newaxis] * vertices[faces[sampled_pts[1]]], axis=0)[np.newaxis, :]\n",
    "print('Point:', pt)\n",
    "p = mp.plot(vertices, faces, return_plot=True)\n",
    "p.add_points(pt, shading={\"point_size\": 0.5, \"point_color\": \"green\"})\n",
    "plt.show()"
   ]
  },
  {
   "cell_type": "code",
   "execution_count": 83,
   "metadata": {},
   "outputs": [],
   "source": [
    "def euclidean_distance(x1, x2):\n",
    "    return np.sqrt(np.sum((x1 - x2)**2))"
   ]
  },
  {
   "cell_type": "code",
   "execution_count": 130,
   "metadata": {},
   "outputs": [
    {
     "data": {
      "application/vnd.jupyter.widget-view+json": {
       "model_id": "54c52d68507d4f92bd63f33e1d6e0f17",
       "version_major": 2,
       "version_minor": 0
      },
      "text/plain": [
       "Renderer(camera=PerspectiveCamera(children=(DirectionalLight(color='white', intensity=0.6, position=(0.0, 0.36…"
      ]
     },
     "metadata": {},
     "output_type": "display_data"
    }
   ],
   "source": [
    "# Number of points to sample\n",
    "N = int(vertices.shape[0] / 2)\n",
    "# Sample points\n",
    "sampled_pts = igl.random_points_on_mesh(N, vertices, faces)\n",
    "barycenters = sampled_pts[0]\n",
    "barycenters = barycenters[:,:,np.newaxis]\n",
    "face_idx = faces[sampled_pts[1]]\n",
    "pts = np.sum(barycenters * vertices[face_idx], axis = 1)\n",
    "query_point = np.array([[0, 1, 0]])\n",
    "p = mp.plot(vertices, faces, colors, return_plot=True)\n",
    "p.add_points(pts, shading={\"point_size\": 0.1, \"point_color\": \"green\"})\n",
    "p.add_points(query_point, shading={\"point_size\": 0.4, \"point_color\": \"red\"})\n",
    "plt.show()"
   ]
  },
  {
   "cell_type": "code",
   "execution_count": 148,
   "metadata": {},
   "outputs": [
    {
     "data": {
      "application/vnd.jupyter.widget-view+json": {
       "model_id": "e868f177bfbb4c6788a2d169d64d547b",
       "version_major": 2,
       "version_minor": 0
      },
      "text/plain": [
       "Renderer(camera=PerspectiveCamera(children=(DirectionalLight(color='white', intensity=0.6, position=(0.0, 0.36…"
      ]
     },
     "metadata": {},
     "output_type": "display_data"
    }
   ],
   "source": [
    "from sklearn.neighbors import NearestNeighbors\n",
    "k = 4 \n",
    "nbrs = NearestNeighbors(n_neighbors=k, algorithm='auto')\n",
    "nbrs.fit(pts)\n",
    "distances, indices = nbrs.kneighbors(query_point)\n",
    "nearesNeighbors = pts[indices.squeeze()]\n",
    "v_box = np.vstack((query_point, nearesNeighbors))\n",
    "f_box = np.array([[0, i] for i in range(1, v_box.shape[0])])\n",
    "p = mp.plot(vertices, faces, colors, return_plot=True)\n",
    "p.add_points(pts, shading={\"point_size\": 0.1, \"point_color\": \"green\"})\n",
    "p.add_points(query_point, shading={\"point_size\": 0.2, \"point_color\": \"red\"})\n",
    "p.add_points(nearesNeighbors, shading={\"point_size\": 0.2, \"point_color\": \"blue\"})\n",
    "p.add_edges(v_box, f_box, shading={\"line_color\": \"blue\"})\n",
    "plt.show()"
   ]
  }
 ],
 "metadata": {
  "kernelspec": {
   "display_name": "meshseg",
   "language": "python",
   "name": "python3"
  },
  "language_info": {
   "codemirror_mode": {
    "name": "ipython",
    "version": 3
   },
   "file_extension": ".py",
   "mimetype": "text/x-python",
   "name": "python",
   "nbconvert_exporter": "python",
   "pygments_lexer": "ipython3",
   "version": "3.9.19"
  }
 },
 "nbformat": 4,
 "nbformat_minor": 2
}
