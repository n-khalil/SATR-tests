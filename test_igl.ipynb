{
 "cells": [
  {
   "cell_type": "code",
   "execution_count": 1,
   "metadata": {},
   "outputs": [
    {
     "name": "stdout",
     "output_type": "stream",
     "text": [
      "Torch will run on: cuda:0\n"
     ]
    }
   ],
   "source": [
    "# Imports and set torch device\n",
    "import numpy as np\n",
    "import meshplot as mp\n",
    "import torch\n",
    "import sys\n",
    "import kaolin as kal\n",
    "import matplotlib.pyplot as plt\n",
    "import igl\n",
    "\n",
    "if torch.cuda.is_available():\n",
    "    device = torch.device(\"cuda:0\")\n",
    "    torch.cuda.set_device(device)\n",
    "else:\n",
    "    device = torch.device(\"cpu\")\n",
    "\n",
    "print('Torch will run on:', device)\n",
    "\n",
    "object = 'bookshelf'\n",
    "obj_path = 'data/demo/' + object + '.obj'"
   ]
  },
  {
   "cell_type": "code",
   "execution_count": 2,
   "metadata": {},
   "outputs": [
    {
     "name": "stdout",
     "output_type": "stream",
     "text": [
      "Number of vertices:  5786\n",
      "Number of faces:  8624\n"
     ]
    }
   ],
   "source": [
    "# Read mesh\n",
    "mesh = kal.io.obj.import_mesh(\n",
    "    obj_path,\n",
    "    with_normals=True,\n",
    "    with_materials=False,\n",
    ")\n",
    "\n",
    "vertices_tensor = mesh.vertices.to(device)\n",
    "faces_tensor = mesh.faces.to(device)\n",
    "\n",
    "vertices = vertices_tensor.detach().cpu().numpy()\n",
    "faces = faces_tensor.detach().cpu().numpy()\n",
    "colors = mesh.vertex_normals.cpu().numpy()\n",
    "\n",
    "print('Number of vertices: ', vertices.shape[0])\n",
    "print('Number of faces: ', faces.shape[0])"
   ]
  },
  {
   "cell_type": "code",
   "execution_count": 3,
   "metadata": {},
   "outputs": [
    {
     "name": "stdout",
     "output_type": "stream",
     "text": [
      "Face: 17\n",
      "Point: [[0.39096162 0.06014767 0.12674919]]\n"
     ]
    },
    {
     "data": {
      "application/vnd.jupyter.widget-view+json": {
       "model_id": "a2a39e4f792e486d92811d202250ce0e",
       "version_major": 2,
       "version_minor": 0
      },
      "text/plain": [
       "Renderer(camera=PerspectiveCamera(children=(DirectionalLight(color='white', intensity=0.6, position=(3.4272670…"
      ]
     },
     "metadata": {},
     "output_type": "display_data"
    }
   ],
   "source": [
    "# Sample one point\n",
    "sampled_pts = igl.random_points_on_mesh(1, vertices, faces)\n",
    "print('Face:', sampled_pts[1])\n",
    "pt = np.sum(sampled_pts[0][:, np.newaxis] * vertices[faces[sampled_pts[1]]], axis=0)[np.newaxis, :]\n",
    "print('Point:', pt)\n",
    "p = mp.plot(vertices, faces, return_plot=True)\n",
    "p.add_points(pt, shading={\"point_size\": 0.5, \"point_color\": \"green\"})\n",
    "plt.show()"
   ]
  },
  {
   "cell_type": "code",
   "execution_count": 4,
   "metadata": {},
   "outputs": [],
   "source": [
    "def euclidean_distance(x1, x2):\n",
    "    return np.sqrt(np.sum((x1 - x2)**2))"
   ]
  },
  {
   "cell_type": "code",
   "execution_count": 5,
   "metadata": {},
   "outputs": [
    {
     "data": {
      "application/vnd.jupyter.widget-view+json": {
       "model_id": "de2b78bb96ab4d23bedc2520e99fcbf3",
       "version_major": 2,
       "version_minor": 0
      },
      "text/plain": [
       "Renderer(camera=PerspectiveCamera(children=(DirectionalLight(color='white', intensity=0.6, position=(3.4272670…"
      ]
     },
     "metadata": {},
     "output_type": "display_data"
    }
   ],
   "source": [
    "# Number of points to sample\n",
    "N = int(vertices.shape[0] * 2)\n",
    "# Sample points\n",
    "sampled_pts = igl.random_points_on_mesh(N, vertices, faces)\n",
    "barycenters = sampled_pts[0]\n",
    "barycenters = barycenters[:,:,np.newaxis]\n",
    "face_idx = faces[sampled_pts[1]]\n",
    "pts = np.sum(barycenters * vertices[face_idx], axis = 1)\n",
    "query_point = np.array([[0, 1, 0]])\n",
    "p = mp.plot(vertices, faces, colors, return_plot=True)\n",
    "p.add_points(pts, shading={\"point_size\": 0.1, \"point_color\": \"green\"})\n",
    "plt.show()"
   ]
  },
  {
   "cell_type": "code",
   "execution_count": 6,
   "metadata": {},
   "outputs": [
    {
     "data": {
      "application/vnd.jupyter.widget-view+json": {
       "model_id": "142ebcbc99c74c609d1f4d169a5886fa",
       "version_major": 2,
       "version_minor": 0
      },
      "text/plain": [
       "Renderer(camera=PerspectiveCamera(children=(DirectionalLight(color='white', intensity=0.6, position=(3.4272670…"
      ]
     },
     "metadata": {},
     "output_type": "display_data"
    }
   ],
   "source": [
    "from sklearn.neighbors import NearestNeighbors\n",
    "k = 4 \n",
    "nbrs = NearestNeighbors(n_neighbors=k, algorithm='auto')\n",
    "nbrs.fit(pts)\n",
    "distances, indices = nbrs.kneighbors(query_point)\n",
    "nearesNeighbors = pts[indices.squeeze()]\n",
    "v_box = np.vstack((query_point, nearesNeighbors))\n",
    "f_box = np.array([[0, i] for i in range(1, v_box.shape[0])])\n",
    "p = mp.plot(vertices, faces, colors, return_plot=True)\n",
    "p.add_points(pts, shading={\"point_size\": 0.1, \"point_color\": \"green\"})\n",
    "p.add_points(query_point, shading={\"point_size\": 0.2, \"point_color\": \"red\"})\n",
    "p.add_points(nearesNeighbors, shading={\"point_size\": 0.2, \"point_color\": \"blue\"})\n",
    "p.add_edges(v_box, f_box, shading={\"line_color\": \"blue\"})\n",
    "plt.show()"
   ]
  },
  {
   "cell_type": "code",
   "execution_count": 8,
   "metadata": {},
   "outputs": [
    {
     "data": {
      "application/vnd.jupyter.widget-view+json": {
       "model_id": "cc8d85875eeb4733a32ec25a00450cca",
       "version_major": 2,
       "version_minor": 0
      },
      "text/plain": [
       "Renderer(camera=PerspectiveCamera(children=(DirectionalLight(color='white', intensity=0.6, position=(3.4272670…"
      ]
     },
     "metadata": {},
     "output_type": "display_data"
    }
   ],
   "source": [
    "from sklearn.neighbors import NearestNeighbors\n",
    "# Number of points to sample\n",
    "# N = int(vertices.shape[0] / 2)\n",
    "N = 200\n",
    "# Sample points\n",
    "sampled_pts = igl.random_points_on_mesh(N, vertices, faces)\n",
    "barycenters = sampled_pts[0]\n",
    "barycenters = barycenters[:,:,np.newaxis]\n",
    "face_idx = faces[sampled_pts[1]]\n",
    "pts = np.sum(barycenters * vertices[face_idx], axis = 1)\n",
    "k = 4\n",
    "nbrs = NearestNeighbors(n_neighbors=k, algorithm='auto')\n",
    "nbrs.fit(pts)\n",
    "p = mp.plot(vertices, faces, colors, return_plot=True)\n",
    "p.add_points(pts, shading={\"point_size\": 0.1, \"point_color\": \"green\"})\n",
    "for i in range(pts.shape[0]):\n",
    "    query_pt = pts[i].reshape(1,-1)\n",
    "    distances, indices = nbrs.kneighbors(query_pt)\n",
    "    nearesNeighbors = pts[indices.squeeze()]\n",
    "    v_box = np.vstack((query_pt, nearesNeighbors))\n",
    "    f_box = np.array([[0, i] for i in range(1, v_box.shape[0])])\n",
    "    # p.add_points(query_pt, shading={\"point_size\": 0.2, \"point_color\": \"red\"})\n",
    "    # p.add_points(nearesNeighbors, shading={\"point_size\": 0.2, \"point_color\": \"blue\"})\n",
    "    p.add_edges(v_box, f_box, shading={\"line_color\": \"green\"})\n",
    "plt.show()"
   ]
  }
 ],
 "metadata": {
  "kernelspec": {
   "display_name": "meshseg",
   "language": "python",
   "name": "python3"
  },
  "language_info": {
   "codemirror_mode": {
    "name": "ipython",
    "version": 3
   },
   "file_extension": ".py",
   "mimetype": "text/x-python",
   "name": "python",
   "nbconvert_exporter": "python",
   "pygments_lexer": "ipython3",
   "version": "3.9.19"
  }
 },
 "nbformat": 4,
 "nbformat_minor": 2
}
