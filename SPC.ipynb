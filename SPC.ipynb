{
 "cells": [
  {
   "cell_type": "markdown",
   "metadata": {},
   "source": [
    "## Imports"
   ]
  },
  {
   "cell_type": "code",
   "execution_count": 1,
   "metadata": {},
   "outputs": [
    {
     "name": "stdout",
     "output_type": "stream",
     "text": [
      "Torch will run on: cuda:0\n"
     ]
    }
   ],
   "source": [
    "# Imports and set torch device\n",
    "import numpy as np\n",
    "import meshplot as mp\n",
    "import matplotlib.pyplot as plt\n",
    "import kaolin as kal\n",
    "import cv2\n",
    "from collections import defaultdict\n",
    "import trimesh\n",
    "from scipy.spatial.distance import cdist\n",
    "import torch\n",
    "import torch.nn.functional as F\n",
    "\n",
    "if torch.cuda.is_available():\n",
    "    device = torch.device(\"cuda:0\")\n",
    "    torch.cuda.set_device(device)\n",
    "else:\n",
    "    device = torch.device(\"cpu\")\n",
    "\n",
    "print('Torch will run on:', device)\n",
    "\n",
    "object = 'bookshelf' \n",
    "obj_path = 'data/demo/' + object + '.obj'"
   ]
  },
  {
   "cell_type": "markdown",
   "metadata": {},
   "source": [
    "## Read Mesh"
   ]
  },
  {
   "cell_type": "code",
   "execution_count": 2,
   "metadata": {},
   "outputs": [
    {
     "name": "stdout",
     "output_type": "stream",
     "text": [
      "Number of vertices:  5786\n",
      "Number of faces:  8624\n"
     ]
    }
   ],
   "source": [
    "# Read mesh\n",
    "mesh = kal.io.obj.import_mesh(\n",
    "    obj_path,\n",
    "    with_normals=True,\n",
    "    with_materials=False,\n",
    ")\n",
    "\n",
    "vertices_tensor = mesh.vertices.to(device)\n",
    "faces_tensor = mesh.faces.to(device)\n",
    "\n",
    "vertices = vertices_tensor.detach().cpu().numpy()\n",
    "faces = faces_tensor.detach().cpu().numpy()\n",
    "colors =  mesh.vertex_normals.cpu().numpy()\n",
    "\n",
    "print('Number of vertices: ', vertices.shape[0])\n",
    "print('Number of faces: ', faces.shape[0])"
   ]
  },
  {
   "cell_type": "markdown",
   "metadata": {},
   "source": [
    "## Sample Points on mesh surface"
   ]
  },
  {
   "cell_type": "code",
   "execution_count": 3,
   "metadata": {},
   "outputs": [
    {
     "name": "stderr",
     "output_type": "stream",
     "text": [
      "only got 1877/2893 samples!\n"
     ]
    },
    {
     "data": {
      "application/vnd.jupyter.widget-view+json": {
       "model_id": "0692d26c764541348f62bdea78c7530b",
       "version_major": 2,
       "version_minor": 0
      },
      "text/plain": [
       "Renderer(camera=PerspectiveCamera(children=(DirectionalLight(color='white', intensity=0.6, position=(3.4272670…"
      ]
     },
     "metadata": {},
     "output_type": "display_data"
    },
    {
     "name": "stderr",
     "output_type": "stream",
     "text": [
      "c:\\ProgramData\\miniforge3\\envs\\test_proj\\lib\\site-packages\\traittypes\\traittypes.py:97: UserWarning: Given trait value dtype \"float32\" does not match required type \"float64\". A coerced copy has been created.\n",
      "  warnings.warn(\n"
     ]
    }
   ],
   "source": [
    "# Visualize mesh\n",
    "trimeshMesh = trimesh.Trimesh(vertices, faces)\n",
    "# N = int(vertices.shape[0] * 2)\n",
    "N = int(vertices.shape[0] / 2)\n",
    "point_cloud, pt_to_face = trimesh.sample.sample_surface_even(trimeshMesh, N)\n",
    "torchPC = torch.tensor(point_cloud, device=torch.device('cuda:0'), dtype=torch.float32)\n",
    "face_to_all_pts = defaultdict(list)\n",
    "for pt in range(len(point_cloud)):\n",
    "    face_to_all_pts[pt_to_face[pt]].append(pt)\n",
    "p = mp.plot(vertices, faces, colors, return_plot=True, shading={\"wireframe\": 0.1})\n",
    "p.add_points(point_cloud, shading={\"point_size\": 0.1, \"point_color\": \"green\"})\n",
    "plt.show()"
   ]
  },
  {
   "cell_type": "markdown",
   "metadata": {},
   "source": [
    "## Build SPC from Point Cloud"
   ]
  },
  {
   "cell_type": "code",
   "execution_count": 4,
   "metadata": {},
   "outputs": [],
   "source": [
    "# Our SPC will contain a hierarchy of multiple levels\n",
    "level = 8\n",
    "torch.manual_seed(0)\n",
    "# colors = torch.rand(point_cloud.shape[0], 3, device=device)\n",
    "# colors = torch.tensor(point_cloud, device=device)\n",
    "# colors = torch.tensor(point_cloud[:,:1]).to(device)\n",
    "colors = torch.arange(0, point_cloud.shape[0]).unsqueeze(1).to(device)\n",
    "# mp.plot(point_cloud, c = colors.cpu().numpy(), shading={'point_size':0.2})\n",
    "# plt.show()\n",
    "spc = kal.ops.conversions.pointcloud.unbatched_pointcloud_to_spc(\n",
    "    pointcloud=torchPC, level=level, features=colors)"
   ]
  },
  {
   "cell_type": "markdown",
   "metadata": {},
   "source": [
    "## Define functions for ray generation"
   ]
  },
  {
   "cell_type": "code",
   "execution_count": 22,
   "metadata": {},
   "outputs": [],
   "source": [
    "def _normalized_grid(width, height, device='cuda'):\n",
    "    \"\"\"Returns grid[x,y] -> coordinates for a normalized window.\n",
    "    \n",
    "    Args:\n",
    "        width, height (int): grid resolution\n",
    "    \"\"\"\n",
    "\n",
    "    # These are normalized coordinates\n",
    "    # i.e. equivalent to 2.0 * (fragCoord / iResolution.xy) - 1.0\n",
    "    window_x = torch.linspace(-1, 1, steps=width, device=device) * (width / height)\n",
    "    window_y = torch.linspace(1,- 1, steps=height, device=device)\n",
    "\n",
    "    coord = torch.stack(torch.meshgrid(window_x, window_y)).permute(1,2,0)\n",
    "    return coord\n",
    "\n",
    "\n",
    "def look_at(camera_from, camera_to, width, height, mode='persp', fov=90.0, device='cuda'):\n",
    "    \"\"\"Vectorized look-at function, returns an array of ray origins and directions\n",
    "    URL: https://www.scratchapixel.com/lessons/mathematics-physics-for-computer-graphics/lookat-function\n",
    "    \"\"\"\n",
    "\n",
    "    camera_origin = torch.FloatTensor(camera_from).to(device)\n",
    "    camera_view = F.normalize(torch.FloatTensor(camera_to).to(device) - camera_origin, dim=0)\n",
    "    camera_right = F.normalize(torch.cross(camera_view, torch.FloatTensor([0,1,0]).to(device)), dim=0)\n",
    "    camera_up = F.normalize(torch.cross(camera_right, camera_view), dim=0)\n",
    "\n",
    "    coord = _normalized_grid(width, height, device=device)\n",
    "    ray_origin = camera_right * coord[...,0,np.newaxis] * np.tan(np.radians(fov/2)) + \\\n",
    "                 camera_up * coord[...,1,np.newaxis] * np.tan(np.radians(fov/2)) + \\\n",
    "                 camera_origin + camera_view\n",
    "    ray_origin = ray_origin.reshape(-1, 3)\n",
    "    ray_offset = camera_view.unsqueeze(0).repeat(ray_origin.shape[0], 1)\n",
    "    \n",
    "    if mode == 'ortho': # Orthographic camera\n",
    "        ray_dir = F.normalize(ray_offset, dim=-1)\n",
    "    elif mode == 'persp': # Perspective camera\n",
    "        ray_dir = F.normalize(ray_origin - camera_origin, dim=-1)\n",
    "        ray_origin = camera_origin.repeat(ray_dir.shape[0], 1)\n",
    "    else:\n",
    "        raise ValueError('Invalid camera mode!')\n",
    "\n",
    "\n",
    "    return ray_origin, ray_dir"
   ]
  },
  {
   "cell_type": "markdown",
   "metadata": {},
   "source": [
    "## Generate Rays"
   ]
  },
  {
   "cell_type": "code",
   "execution_count": 125,
   "metadata": {},
   "outputs": [
    {
     "data": {
      "application/vnd.jupyter.widget-view+json": {
       "model_id": "df68c18c02dc464787629cc8b0eb1bf9",
       "version_major": 2,
       "version_minor": 0
      },
      "text/plain": [
       "Renderer(camera=PerspectiveCamera(children=(DirectionalLight(color='white', intensity=0.6, position=(3.2782554…"
      ]
     },
     "metadata": {},
     "output_type": "display_data"
    },
    {
     "name": "stdout",
     "output_type": "stream",
     "text": [
      "Total of 1048576 rays generated.\n"
     ]
    }
   ],
   "source": [
    "# ray_o and ray_d ~ torch.Tensor (width x height, 3)\n",
    "# represent rays origin and direction vectors\n",
    "# camera_from=[-.5,2.5,-2.5]\n",
    "camera_from = [0.,0.5,2.]\n",
    "camera_to = [0,0.5,0]\n",
    "ray_o, ray_d = look_at(\n",
    "                        camera_from=camera_from,\n",
    "                        camera_to=camera_to,\n",
    "                        width=1024,\n",
    "                        height=1024,\n",
    "                        mode='persp',\n",
    "                        fov=60,\n",
    "                        device='cuda')\n",
    "np.random.seed(42)\n",
    "p = mp.plot(point_cloud, shading={'point_size':0.2, 'point_color':'black'}, return_plot=True)\n",
    "p.add_points(ray_o[0].view(1,3).cpu().numpy(), shading={'point_size':0.2, 'point_color':'green'})\n",
    "for i in range(10):\n",
    "    p.add_lines(ray_o[0].view(1,3).cpu().numpy(), (ray_o[0] + 4.*ray_d[np.random.randint(ray_d.shape[0])]).view(1,3).cpu().numpy(), shading={'line_size':0.2, 'line_color':'blue'})\n",
    "plt.show()\n",
    "print(f'Total of {ray_o.shape[0]} rays generated.')"
   ]
  },
  {
   "cell_type": "markdown",
   "metadata": {},
   "source": [
    "## Manually define Ray"
   ]
  },
  {
   "cell_type": "code",
   "execution_count": 123,
   "metadata": {},
   "outputs": [
    {
     "data": {
      "application/vnd.jupyter.widget-view+json": {
       "model_id": "6ae7756f023c42d296089422ec29e9cb",
       "version_major": 2,
       "version_minor": 0
      },
      "text/plain": [
       "Renderer(camera=PerspectiveCamera(children=(DirectionalLight(color='white', intensity=0.6, position=(3.2782554…"
      ]
     },
     "metadata": {},
     "output_type": "display_data"
    }
   ],
   "source": [
    "ray_o = torch.tensor([[0.,0.5,2.]], device=device)\n",
    "ray_d = torch.tensor([[0,0.,-1]], device=device)\n",
    "p = mp.plot(point_cloud, shading={'point_size':0.2, 'point_color':'black'}, return_plot=True)\n",
    "p.add_lines(ray_o.cpu().numpy(), (ray_o + 2.*ray_d).cpu().numpy(), shading={'line_size':0.2, 'line_color':'blue'})\n",
    "p.add_points(ray_o.cpu().numpy(), shading={'point_size':0.2, 'point_color':'green'})\n",
    "plt.show()"
   ]
  },
  {
   "cell_type": "markdown",
   "metadata": {},
   "source": [
    "## Ray Trace"
   ]
  },
  {
   "cell_type": "code",
   "execution_count": 126,
   "metadata": {},
   "outputs": [
    {
     "name": "stdout",
     "output_type": "stream",
     "text": [
      "Ray Hits: 25268\n"
     ]
    }
   ],
   "source": [
    "octree, features = spc.octrees, spc.features\n",
    "point_hierarchy, pyramid, prefix = spc.point_hierarchies, spc.pyramids[0], spc.exsum\n",
    "nugs_ridx, nugs_pidx, depth = kal.render.spc.unbatched_raytrace(\n",
    "    octree, point_hierarchy, pyramid, prefix, ray_o, ray_d, level)\n",
    "masked_nugs = kal.render.spc.mark_pack_boundaries(nugs_ridx)\n",
    "nugs_ridx = nugs_ridx[masked_nugs]\n",
    "nugs_pidx = nugs_pidx[masked_nugs]\n",
    "ridx = nugs_ridx.long()\n",
    "pidx = nugs_pidx.long() - pyramid[1,level]\n",
    "print(f'Ray Hits: {ridx.shape[0]}')"
   ]
  },
  {
   "cell_type": "markdown",
   "metadata": {},
   "source": [
    "## Show intersection with PC"
   ]
  },
  {
   "cell_type": "code",
   "execution_count": 127,
   "metadata": {},
   "outputs": [
    {
     "name": "stderr",
     "output_type": "stream",
     "text": [
      "c:\\ProgramData\\miniforge3\\envs\\test_proj\\lib\\site-packages\\traittypes\\traittypes.py:97: UserWarning: Given trait value dtype \"float32\" does not match required type \"float64\". A coerced copy has been created.\n",
      "  warnings.warn(\n"
     ]
    },
    {
     "data": {
      "application/vnd.jupyter.widget-view+json": {
       "model_id": "1988c68a57b74613afbacc0f32bf47c8",
       "version_major": 2,
       "version_minor": 0
      },
      "text/plain": [
       "Renderer(camera=PerspectiveCamera(children=(DirectionalLight(color='white', intensity=0.6, position=(3.2782554…"
      ]
     },
     "metadata": {},
     "output_type": "display_data"
    }
   ],
   "source": [
    "p = mp.plot(point_cloud, shading={'point_size':0.2, 'point_color':'black'}, return_plot=True)\n",
    "p.add_points(ray_o[0].view(1, -1).cpu().numpy(), shading={'point_size':0.5, 'point_color':'green'})\n",
    "for i in range(5):\n",
    "    id_p = np.random.randint(ridx.shape[0])\n",
    "    p.add_lines(ray_o[0].view(1, -1).cpu().numpy(), \n",
    "                (ray_o[0] + 4*ray_d[ridx[id_p]]).view(1, -1).cpu().numpy(), \n",
    "                shading={'line_color':'blue'})\n",
    "    m_hit = point_cloud[features[pidx[id_p]]]\n",
    "    p.add_points(m_hit.reshape(1, -1), shading={'point_size':0.5, 'point_color':'blue'})\n",
    "plt.show()"
   ]
  }
 ],
 "metadata": {
  "kernelspec": {
   "display_name": "test_proj",
   "language": "python",
   "name": "python3"
  },
  "language_info": {
   "codemirror_mode": {
    "name": "ipython",
    "version": 3
   },
   "file_extension": ".py",
   "mimetype": "text/x-python",
   "name": "python",
   "nbconvert_exporter": "python",
   "pygments_lexer": "ipython3",
   "version": "3.9.19"
  }
 },
 "nbformat": 4,
 "nbformat_minor": 2
}
