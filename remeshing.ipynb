{
 "cells": [
  {
   "cell_type": "code",
   "execution_count": 1,
   "metadata": {},
   "outputs": [
    {
     "name": "stdout",
     "output_type": "stream",
     "text": [
      "Torch will run on: cuda:0\n"
     ]
    }
   ],
   "source": [
    "# Imports and set torch device\n",
    "import numpy as np\n",
    "import meshplot as mp\n",
    "import torch\n",
    "import sys\n",
    "import kaolin as kal\n",
    "import matplotlib.pyplot as plt\n",
    "import igl\n",
    "\n",
    "if torch.cuda.is_available():\n",
    "    device = torch.device(\"cuda:0\")\n",
    "    torch.cuda.set_device(device)\n",
    "else:\n",
    "    device = torch.device(\"cpu\")\n",
    "\n",
    "print('Torch will run on:', device)\n",
    "\n",
    "object = 'bookshelf'\n",
    "obj_path = 'data/demo/' + object + '.obj'"
   ]
  },
  {
   "cell_type": "code",
   "execution_count": 2,
   "metadata": {},
   "outputs": [
    {
     "name": "stdout",
     "output_type": "stream",
     "text": [
      "Number of vertices:  5786\n",
      "Number of faces:  8624\n"
     ]
    }
   ],
   "source": [
    "# Read mesh\n",
    "mesh = kal.io.obj.import_mesh(\n",
    "    obj_path,\n",
    "    with_normals=True,\n",
    "    with_materials=True,\n",
    ")\n",
    "\n",
    "vertices = mesh.vertices.cpu().numpy()\n",
    "faces = mesh.faces.cpu().numpy()\n",
    "colors = mesh.vertex_normals.cpu().numpy()\n",
    "face_areas = kal.ops.mesh.face_areas(\n",
    "    mesh.vertices.unsqueeze(0),\n",
    "    mesh.faces\n",
    ").squeeze().cpu().numpy()\n",
    "\n",
    "print('Number of vertices: ', vertices.shape[0])\n",
    "print('Number of faces: ', faces.shape[0])"
   ]
  },
  {
   "cell_type": "code",
   "execution_count": 3,
   "metadata": {},
   "outputs": [
    {
     "data": {
      "application/vnd.jupyter.widget-view+json": {
       "model_id": "fdf7209f287744aca082ed031c02bd4f",
       "version_major": 2,
       "version_minor": 0
      },
      "text/plain": [
       "Renderer(camera=PerspectiveCamera(children=(DirectionalLight(color='white', intensity=0.6, position=(3.4272670…"
      ]
     },
     "metadata": {},
     "output_type": "display_data"
    }
   ],
   "source": [
    "# Visualize mesh\n",
    "np.random.seed(2024)\n",
    "face_colors = np.clip(np.random.rand(faces.shape[0], 3), 0, 0.3)\n",
    "face_colors[np.argmax(face_areas)] = np.array([1,0,0])\n",
    "mp.plot(vertices, faces, face_colors)\n",
    "plt.show()"
   ]
  },
  {
   "cell_type": "code",
   "execution_count": 4,
   "metadata": {},
   "outputs": [
    {
     "name": "stdout",
     "output_type": "stream",
     "text": [
      "8624\n",
      "Max: 0.3768077 for: 4155\n",
      "Min: 3.1997949e-09\n",
      "Avg: 0.00060012797\n",
      "Median: 1.0992762e-06\n",
      "Standard Deviation: 0.009989589\n"
     ]
    },
    {
     "data": {
      "image/png": "[encoded data removed]",
      "text/plain": [
       "<Figure size 640x480 with 1 Axes>"
      ]
     },
     "metadata": {},
     "output_type": "display_data"
    }
   ],
   "source": [
    "print(face_areas.shape[0])\n",
    "print('Max:', np.max(face_areas), 'for:', np.argmax(face_areas))\n",
    "print('Min:', np.min(face_areas))\n",
    "print('Avg:', np.mean(face_areas))\n",
    "print('Median:', np.median(face_areas))\n",
    "print('Standard Deviation:', np.std(face_areas))\n",
    "plt.boxplot(face_areas)\n",
    "plt.show()"
   ]
  },
  {
   "cell_type": "code",
   "execution_count": 5,
   "metadata": {},
   "outputs": [],
   "source": [
    "def remesh_face(vertices, faces, face_id):\n",
    "    v0 = faces[face_id, 0]\n",
    "    v1 = faces[face_id, 1]\n",
    "    v2 = faces[face_id, 2]\n",
    "    midpoint = (vertices[v0] + vertices[faces[v2]]) / 2.\n",
    "    new_vertices = np.vstack((vertices, midpoint))\n",
    "    new_vertex_id = vertices.shape[0]\n",
    "    new_face2 = np.array([new_vertex_id, v0, v1])\n",
    "    new_face1 = np.array([new_vertex_id, v1, v2])\n",
    "    new_faces = np.vstack((faces, new_face1))\n",
    "    new_faces = np.vstack((new_faces, new_face2))\n",
    "    new_faces = np.delete(new_faces, face_id, axis=0)\n",
    "    return new_vertices, new_faces"
   ]
  },
  {
   "cell_type": "code",
   "execution_count": 6,
   "metadata": {},
   "outputs": [
    {
     "data": {
      "application/vnd.jupyter.widget-view+json": {
       "model_id": "73f6f841cc834a518d661b7834d99026",
       "version_major": 2,
       "version_minor": 0
      },
      "text/plain": [
       "Renderer(camera=PerspectiveCamera(children=(DirectionalLight(color='white', intensity=0.6, position=(3.4272670…"
      ]
     },
     "metadata": {},
     "output_type": "display_data"
    }
   ],
   "source": [
    "np.random.seed(2024)\n",
    "fmax = np.argmax(face_areas)\n",
    "new_vertices, new_faces = remesh_face(vertices, faces, fmax)\n",
    "new_face_colors = np.clip(np.random.rand(new_faces.shape[0], 3), 0, 0.3)\n",
    "new_face_colors[-1] = np.array([1, 0, 0])\n",
    "new_face_colors[-2] = np.array([0, 1, 0])\n",
    "mp.plot(new_vertices, new_faces, new_face_colors)\n",
    "plt.show()"
   ]
  },
  {
   "cell_type": "code",
   "execution_count": 8,
   "metadata": {},
   "outputs": [
    {
     "name": "stdout",
     "output_type": "stream",
     "text": [
      "8625\n",
      "Max: 0.37680766 for: 4157\n",
      "Min: 3.1997949e-09\n",
      "Avg: 0.00060185126\n",
      "Median: 1.0992769e-06\n",
      "Standard Deviation: 0.009610154\n"
     ]
    },
    {
     "data": {
      "image/png": "[encoded data removed]",
      "text/plain": [
       "<Figure size 640x480 with 1 Axes>"
      ]
     },
     "metadata": {},
     "output_type": "display_data"
    }
   ],
   "source": [
    "new_face_areas = kal.ops.mesh.face_areas(torch.tensor(new_vertices).unsqueeze(0), torch.tensor(new_faces)).cpu().numpy().squeeze()\n",
    "print(new_face_areas.shape[0])\n",
    "print('Max:', np.max(new_face_areas), 'for:', np.argmax(new_face_areas))\n",
    "print('Min:', np.min(new_face_areas))\n",
    "print('Avg:', np.mean(new_face_areas))\n",
    "print('Median:', np.median(new_face_areas))\n",
    "print('Standard Deviation:', np.std(new_face_areas))\n",
    "plt.boxplot(new_face_areas)\n",
    "plt.show()"
   ]
  },
  {
   "cell_type": "code",
   "execution_count": 24,
   "metadata": {},
   "outputs": [
    {
     "data": {
      "application/vnd.jupyter.widget-view+json": {
       "model_id": "8c2c23d2dfea4b8a8c415f9d9a815457",
       "version_major": 2,
       "version_minor": 0
      },
      "text/plain": [
       "Renderer(camera=PerspectiveCamera(children=(DirectionalLight(color='white', intensity=0.6, position=(3.4272670…"
      ]
     },
     "metadata": {},
     "output_type": "display_data"
    }
   ],
   "source": [
    "for i in range(100):\n",
    "    np.random.seed(2024)\n",
    "    fmax = np.argmax(face_areas)\n",
    "    new_vertices, new_faces = remesh_face(vertices, faces, fmax)\n",
    "new_face_colors = np.random.rand(new_faces.shape[0])\n",
    "mp.plot(new_vertices, new_faces, new_face_colors)\n",
    "plt.show()"
   ]
  }
 ],
 "metadata": {
  "kernelspec": {
   "display_name": "meshseg",
   "language": "python",
   "name": "python3"
  },
  "language_info": {
   "codemirror_mode": {
    "name": "ipython",
    "version": 3
   },
   "file_extension": ".py",
   "mimetype": "text/x-python",
   "name": "python",
   "nbconvert_exporter": "python",
   "pygments_lexer": "ipython3",
   "version": "3.9.19"
  }
 },
 "nbformat": 4,
 "nbformat_minor": 2
}
