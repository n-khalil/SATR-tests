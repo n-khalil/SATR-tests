{
 "cells": [
  {
   "cell_type": "code",
   "execution_count": 1,
   "metadata": {},
   "outputs": [
    {
     "name": "stdout",
     "output_type": "stream",
     "text": [
      "Torch will run on: cuda:0\n"
     ]
    }
   ],
   "source": [
    "# Imports and set torch device\n",
    "import numpy as np\n",
    "import meshplot as mp\n",
    "import matplotlib.pyplot as plt\n",
    "import kaolin as kal\n",
    "import cv2\n",
    "from collections import defaultdict\n",
    "import trimesh\n",
    "from scipy.spatial.distance import cdist\n",
    "import torch\n",
    "import torch.nn.functional as F\n",
    "\n",
    "if torch.cuda.is_available():\n",
    "    device = torch.device(\"cuda:0\")\n",
    "    torch.cuda.set_device(device)\n",
    "else:\n",
    "    device = torch.device(\"cpu\")\n",
    "\n",
    "print('Torch will run on:', device)\n",
    "\n",
    "object = 'bookshelf' \n",
    "obj_path = 'data/demo/' + object + '.obj'"
   ]
  },
  {
   "cell_type": "code",
   "execution_count": 2,
   "metadata": {},
   "outputs": [
    {
     "name": "stdout",
     "output_type": "stream",
     "text": [
      "Number of vertices:  5786\n",
      "Number of faces:  8624\n"
     ]
    }
   ],
   "source": [
    "# Read mesh\n",
    "mesh = kal.io.obj.import_mesh(\n",
    "    obj_path,\n",
    "    with_normals=True,\n",
    "    with_materials=False,\n",
    ")\n",
    "\n",
    "vertices_tensor = mesh.vertices.to(device)\n",
    "faces_tensor = mesh.faces.to(device)\n",
    "\n",
    "vertices = vertices_tensor.detach().cpu().numpy()\n",
    "faces = faces_tensor.detach().cpu().numpy()\n",
    "colors =  mesh.vertex_normals.cpu().numpy()\n",
    "\n",
    "print('Number of vertices: ', vertices.shape[0])\n",
    "print('Number of faces: ', faces.shape[0])"
   ]
  },
  {
   "cell_type": "code",
   "execution_count": 3,
   "metadata": {},
   "outputs": [
    {
     "name": "stderr",
     "output_type": "stream",
     "text": [
      "only got 1842/2893 samples!\n"
     ]
    },
    {
     "data": {
      "application/vnd.jupyter.widget-view+json": {
       "model_id": "02b7ab16df814d9792817c839103efe5",
       "version_major": 2,
       "version_minor": 0
      },
      "text/plain": [
       "Renderer(camera=PerspectiveCamera(children=(DirectionalLight(color='white', intensity=0.6, position=(3.4272670…"
      ]
     },
     "metadata": {},
     "output_type": "display_data"
    },
    {
     "name": "stderr",
     "output_type": "stream",
     "text": [
      "c:\\ProgramData\\miniforge3\\envs\\test_proj\\lib\\site-packages\\traittypes\\traittypes.py:97: UserWarning: Given trait value dtype \"float32\" does not match required type \"float64\". A coerced copy has been created.\n",
      "  warnings.warn(\n"
     ]
    }
   ],
   "source": [
    "# Visualize mesh\n",
    "trimeshMesh = trimesh.Trimesh(vertices, faces)\n",
    "# N = int(vertices.shape[0] * 2)\n",
    "N = int(vertices.shape[0] / 2)\n",
    "point_cloud, pt_to_face = trimesh.sample.sample_surface_even(trimeshMesh, N)\n",
    "torchPC = torch.tensor(point_cloud, device=torch.device('cuda:0'), dtype=torch.float32)\n",
    "face_to_all_pts = defaultdict(list)\n",
    "for pt in range(len(point_cloud)):\n",
    "    face_to_all_pts[pt_to_face[pt]].append(pt)\n",
    "p = mp.plot(vertices, faces, colors, return_plot=True, shading={\"wireframe\": 0.1})\n",
    "p.add_points(point_cloud, shading={\"point_size\": 0.1, \"point_color\": \"green\"})\n",
    "plt.show()"
   ]
  },
  {
   "cell_type": "code",
   "execution_count": 44,
   "metadata": {},
   "outputs": [],
   "source": [
    "def _normalized_grid(width, height, device='cuda'):\n",
    "    \"\"\"Returns grid[x,y] -> coordinates for a normalized window.\n",
    "    \n",
    "    Args:\n",
    "        width, height (int): grid resolution\n",
    "    \"\"\"\n",
    "\n",
    "    # These are normalized coordinates\n",
    "    # i.e. equivalent to 2.0 * (fragCoord / iResolution.xy) - 1.0\n",
    "    window_x = torch.linspace(-1, 1, steps=width, device=device) * (width / height)\n",
    "    window_y = torch.linspace(1,- 1, steps=height, device=device)\n",
    "\n",
    "    coord = torch.stack(torch.meshgrid(window_x, window_y)).permute(1,2,0)\n",
    "    return coord\n",
    "\n",
    "\n",
    "def generate_rays(camera_from, camera_to, width, height, mode='persp', fov=90.0, device='cuda'):\n",
    "    \"\"\"Vectorized look-at function, returns an array of ray origins and directions\n",
    "    URL: https://www.scratchapixel.com/lessons/mathematics-physics-for-computer-graphics/lookat-function\n",
    "    \"\"\"\n",
    "\n",
    "    camera_origin = torch.FloatTensor(camera_from).to(device)\n",
    "    camera_view = F.normalize(torch.FloatTensor(camera_to).to(device) - camera_origin, dim=0)\n",
    "    camera_right = F.normalize(torch.cross(camera_view, torch.FloatTensor([0,1,0]).to(device)), dim=0)\n",
    "    camera_up = F.normalize(torch.cross(camera_right, camera_view), dim=0)\n",
    "\n",
    "    coord = _normalized_grid(width, height, device=device)\n",
    "    ray_origin = camera_right * coord[...,0,np.newaxis] * np.tan(np.radians(fov/2)) + \\\n",
    "                 camera_up * coord[...,1,np.newaxis] * np.tan(np.radians(fov/2)) + \\\n",
    "                 camera_origin + camera_view\n",
    "    ray_origin = ray_origin.reshape(-1, 3)\n",
    "    print(ray_origin)\n",
    "    ray_offset = camera_view.unsqueeze(0).repeat(ray_origin.shape[0], 1)\n",
    "    \n",
    "    if mode == 'ortho': # Orthographic camera\n",
    "        ray_dir = F.normalize(ray_offset, dim=-1)\n",
    "    elif mode == 'persp': # Perspective camera\n",
    "        ray_dir = F.normalize(ray_origin - camera_origin, dim=-1)\n",
    "        ray_origin = camera_origin.repeat(ray_dir.shape[0], 1)\n",
    "    else:\n",
    "        raise ValueError('Invalid camera mode!')\n",
    "\n",
    "\n",
    "    return ray_origin, ray_dir"
   ]
  },
  {
   "cell_type": "code",
   "execution_count": 47,
   "metadata": {},
   "outputs": [
    {
     "name": "stdout",
     "output_type": "stream",
     "text": [
      "tensor([[-0.5774,  0.9636,  0.3638],\n",
      "        [-0.5774,  0.9626,  0.3633],\n",
      "        [-0.5774,  0.9616,  0.3628],\n",
      "        ...,\n",
      "        [ 0.5774, -0.0672, -0.1516],\n",
      "        [ 0.5774, -0.0682, -0.1521],\n",
      "        [ 0.5774, -0.0692, -0.1526]], device='cuda:0')\n",
      "Total of 1048576 rays generated.\n"
     ]
    }
   ],
   "source": [
    "# ray_o and ray_d ~ torch.Tensor (width x height, 3)\n",
    "# represent rays origin and direction vectors\n",
    "# camera_from=[-.5,2.5,-2.5]\n",
    "camera_from = [0.,0,1.]\n",
    "camera_to = [0,0.5,0]\n",
    "ray_o, ray_d = generate_rays(\n",
    "                        camera_from=camera_from,\n",
    "                        camera_to=camera_to,\n",
    "                        width=1024,\n",
    "                        height=1024,\n",
    "                        mode='persp',\n",
    "                        fov=60,\n",
    "                        device='cuda')\n",
    "# np.random.seed(42)\n",
    "# p = mp.plot(point_cloud, shading={'point_size':0.2, 'point_color':'black'}, return_plot=True)\n",
    "# p.add_points(ray_o[0].view(1,3).cpu().numpy(), shading={'point_size':0.2, 'point_color':'green'})\n",
    "# for i in range(10):\n",
    "#     p.add_lines(ray_o[0].view(1,3).cpu().numpy(), (ray_o[0] + 4.*ray_d[np.random.randint(ray_d.shape[0])]).view(1,3).cpu().numpy(), shading={'line_size':0.2, 'line_color':'blue'})\n",
    "# plt.show()\n",
    "print(f'Total of {ray_o.shape[0]} rays generated.')"
   ]
  },
  {
   "cell_type": "code",
   "execution_count": 13,
   "metadata": {},
   "outputs": [],
   "source": [
    "width = 1024; height = 1024\n",
    "window_x = torch.linspace(-1, 1, steps=width, device=device) * (width / height)\n",
    "window_y = torch.linspace(1,- 1, steps=height, device=device)\n",
    "\n",
    "coord = torch.stack(torch.meshgrid(window_x, window_y)).permute(1,2,0)"
   ]
  },
  {
   "cell_type": "code",
   "execution_count": 43,
   "metadata": {},
   "outputs": [
    {
     "name": "stdout",
     "output_type": "stream",
     "text": [
      "tensor([[-1.0000,  1.0000],\n",
      "        [-1.0000,  0.9980],\n",
      "        [-1.0000,  0.9961],\n",
      "        ...,\n",
      "        [-1.0000, -0.9961],\n",
      "        [-1.0000, -0.9980],\n",
      "        [-1.0000, -1.0000]], device='cuda:0')\n"
     ]
    }
   ],
   "source": [
    "print(torch.stack(torch.meshgrid(window_x, window_y)).permute(1,2,0))"
   ]
  }
 ],
 "metadata": {
  "kernelspec": {
   "display_name": "meshseg",
   "language": "python",
   "name": "python3"
  },
  "language_info": {
   "codemirror_mode": {
    "name": "ipython",
    "version": 3
   },
   "file_extension": ".py",
   "mimetype": "text/x-python",
   "name": "python",
   "nbconvert_exporter": "python",
   "pygments_lexer": "ipython3",
   "version": "3.9.19"
  }
 },
 "nbformat": 4,
 "nbformat_minor": 2
}
