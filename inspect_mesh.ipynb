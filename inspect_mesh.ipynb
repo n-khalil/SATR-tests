{
 "cells": [
  {
   "cell_type": "code",
   "execution_count": 1,
   "metadata": {},
   "outputs": [
    {
     "name": "stdout",
     "output_type": "stream",
     "text": [
      "Torch will run on: cuda:0\n"
     ]
    }
   ],
   "source": [
    "# Imports and set torch device\n",
    "import numpy as np\n",
    "import meshplot as mp\n",
    "import torch\n",
    "import sys\n",
    "import kaolin as kal\n",
    "import matplotlib.pyplot as plt\n",
    "import igl\n",
    "import potpourri3d as pp3d\n",
    "import trimesh\n",
    "from collections import defaultdict\n",
    "from copy import deepcopy\n",
    "\n",
    "if torch.cuda.is_available():\n",
    "    device = torch.device(\"cuda:0\")\n",
    "    torch.cuda.set_device(device)\n",
    "else:\n",
    "    device = torch.device(\"cpu\")\n",
    "\n",
    "print('Torch will run on:', device)\n",
    "\n",
    "object = 'bookshelf'\n",
    "obj_path = 'data/demo/' + object + '.obj'"
   ]
  },
  {
   "cell_type": "code",
   "execution_count": 2,
   "metadata": {},
   "outputs": [
    {
     "name": "stdout",
     "output_type": "stream",
     "text": [
      "Number of vertices:  5786\n",
      "Number of faces:  8624\n"
     ]
    }
   ],
   "source": [
    "# Read mesh\n",
    "mesh = kal.io.obj.import_mesh(\n",
    "    obj_path,\n",
    "    with_normals=True,\n",
    "    with_materials=False,\n",
    ")\n",
    "\n",
    "vertices = mesh.vertices.cpu().numpy()\n",
    "faces = mesh.faces.cpu().numpy()\n",
    "colors = mesh.vertex_normals.cpu().numpy()\n",
    "\n",
    "print('Number of vertices: ', vertices.shape[0])\n",
    "print('Number of faces: ', faces.shape[0])"
   ]
  },
  {
   "cell_type": "code",
   "execution_count": 3,
   "metadata": {},
   "outputs": [],
   "source": [
    "# Visualize mesh\n",
    "# mp.plot(vertices, faces, colors)\n",
    "# plt.show()"
   ]
  },
  {
   "cell_type": "code",
   "execution_count": 4,
   "metadata": {},
   "outputs": [],
   "source": [
    "import json\n",
    "colors_dict = {\n",
    "    0: [1, 0, 0],   # Red\n",
    "    1: [0, 1, 0],   # Green\n",
    "    2: [0, 0, 1],   # Blue\n",
    "    3: [1, 1, 0],   # Yellow\n",
    "    4: [1, 0, 1],   # Magenta\n",
    "    5: [0, 1, 1],   # Cyan\n",
    "    6: [0.5, 0, 0], # Dark Red\n",
    "    7: [0, 0.5, 0], # Dark Green\n",
    "    8: [0, 0, 0.5], # Dark Blue\n",
    "    9: [0.5, 0.5, 0.5] # Gray\n",
    "}\n",
    "colors_lst = ['Red', 'Green', 'Blue', 'Yellow', 'Magenta', 'Cyan', 'Dark Red', 'Dark Green', 'Dark Blue', 'Grey']\n",
    "output_file = open('./outputs/demo/ABO/' + object + '/face_preds.json')\n",
    "output = np.array(json.load(output_file))\n",
    "segments = np.unique(output)\n",
    "segments_idx = np.unique(output, return_inverse=True)[1]\n",
    "prompts = segments.tolist()\n",
    "if ('unknown' in prompts):\n",
    "    prompts.remove('unknown')\n",
    "# print('Prompts: ', prompts)\n",
    "# colors = np.array([colors_dict[segment_id] for segment_id in segments_idx])\n",
    "# for i in range(len(segments)):\n",
    "#     print(colors_lst[i],':\\t',segments[i])\n",
    "# mp.plot(vertices, faces, colors, return_plot=True)\n",
    "# plt.show()"
   ]
  },
  {
   "cell_type": "code",
   "execution_count": 5,
   "metadata": {},
   "outputs": [],
   "source": [
    "n = 20\n",
    "m = trimesh.Trimesh( vertices=vertices, faces=faces)\n",
    "faces_adjacency = defaultdict(set)\n",
    "\n",
    "for el in m.face_adjacency:\n",
    "    u, v = el\n",
    "    faces_adjacency[u].add(v)\n",
    "    faces_adjacency[v].add(u)\n",
    "\n",
    "c = []\n",
    "faces_adjacency_res = deepcopy(faces_adjacency)\n",
    "\n",
    "for k in faces_adjacency:\n",
    "    for i in range(n - 1):\n",
    "        start = deepcopy(faces_adjacency_res[k])\n",
    "        end = set(deepcopy(faces_adjacency_res[k]))\n",
    "        for f in start:\n",
    "            end.update(faces_adjacency[f])\n",
    "        faces_adjacency_res[k] = end\n",
    "    c.append(len(faces_adjacency_res[k]))\n",
    "c = np.array(c)"
   ]
  },
  {
   "cell_type": "code",
   "execution_count": 6,
   "metadata": {},
   "outputs": [
    {
     "name": "stdout",
     "output_type": "stream",
     "text": [
      "{0, 1, 4, 5, 6, 7, 8, 9, 10, 13, 14, 15, 16, 17, 18, 19, 20, 21, 22, 23, 24, 25, 26, 27, 28, 29, 30, 31, 32, 33, 34, 35, 36, 37, 38, 39, 40, 41, 1228, 1229, 1230, 50, 51, 52, 53, 54, 55, 56, 57, 58, 59, 60, 61, 62, 63, 64, 65, 1082, 1083, 1084, 1085, 1086, 1087, 1088, 1089, 74, 75, 76, 77, 78, 79, 80, 81, 82, 83, 1106, 1107, 86, 1108, 1109, 84, 90, 91, 92, 93, 94, 95, 96, 97, 98, 99, 100, 101, 102, 103, 104, 105, 1130, 1131, 1132, 109, 1133, 1134, 1135, 113, 114, 115, 116, 117, 118, 119, 120, 121, 122, 123, 124, 125, 126, 127, 128, 129, 130, 131, 132, 133, 134, 135, 136, 137, 1153, 1154, 1155, 1156, 142, 143, 144, 145, 146, 147, 148, 149, 150, 151, 152, 153, 154, 155, 156, 157, 158, 159, 160, 161, 1182, 1183, 1231, 165, 166, 167, 168, 169, 170, 171, 172, 173, 1190, 1191, 1194, 1195, 1196, 1197, 1198, 181, 182, 183, 184, 185, 186, 187, 188, 189, 1205, 1214, 192, 193, 194, 195, 196, 197, 198, 199, 200, 201, 202, 203, 204, 205, 206, 207, 208, 209, 210, 211, 212, 213, 214, 215, 216, 217, 1233, 1234, 1235, 1242, 1243, 1244, 1245, 225, 226, 227, 228, 229, 230, 231, 232, 233, 234, 235, 236, 237, 238, 239, 240, 241, 242, 243, 244, 245, 246, 247, 248, 249, 250, 251, 252, 253, 254, 255, 256, 257, 258, 259, 260, 261, 262, 263, 264, 265, 266, 267, 268, 269, 270, 271, 272, 273, 1290, 1291, 1292, 1232, 1293, 1294, 1295, 1298, 1299, 1306, 1074, 1307, 1278, 1308, 1309, 1075, 1310, 1279, 1311, 1314, 1315, 1316, 1317, 1321, 306, 307, 1330, 1331, 310, 311, 1079, 314, 315, 316, 317, 318, 319, 320, 321, 322, 323, 324, 325, 326, 327, 328, 329, 1354, 1355, 1356, 1357, 1358, 1359, 1360, 1361, 338, 339, 340, 341, 1363, 346, 347, 348, 349, 350, 351, 1371, 1373, 1375, 1379, 1381, 358, 359, 360, 361, 362, 363, 364, 365, 366, 367, 368, 369, 1090, 1091, 1394, 1395, 1398, 1092, 1399, 1296, 1402, 1403, 1093, 1404, 1405, 1406, 1407, 1094, 1408, 1409, 1410, 1411, 1095, 1412, 1413, 1414, 1415, 1096, 1416, 1417, 1097, 1426, 1427, 1428, 1429, 1434, 1435, 1438, 1439, 1446, 1447, 1448, 1449, 1450, 1451, 1452, 1453, 1454, 1455, 1456, 1457, 87, 466, 478, 1115, 490, 492, 494, 498, 499, 1118, 506, 507, 508, 509, 510, 511, 1119, 514, 515, 516, 517, 519, 520, 521, 224, 530, 531, 532, 539, 1266, 542, 543, 108, 1126, 554, 555, 556, 557, 558, 559, 560, 561, 562, 563, 111, 112, 570, 571, 572, 573, 574, 575, 577, 578, 579, 580, 581, 582, 583, 584, 585, 1339, 594, 595, 596, 597, 1136, 1137, 603, 606, 607, 1138, 1342, 1139, 1343, 618, 619, 620, 621, 622, 623, 624, 625, 1142, 1246, 1143, 1226, 1275, 1146, 1147, 1247, 1148, 1149, 1150, 1267, 1151, 1152, 1157, 1158, 141, 1159, 1160, 1161, 1250, 754, 755, 1251, 1227, 763, 766, 767, 1170, 1171, 1172, 778, 779, 780, 781, 782, 783, 784, 785, 786, 787, 1173, 1252, 794, 795, 796, 797, 798, 799, 802, 803, 804, 805, 1253, 1179, 164, 1254, 1255, 1192, 1256, 1193, 180, 1257, 1199, 1200, 1201, 1202, 1203, 1204, 190, 191, 1211, 1215}\n"
     ]
    }
   ],
   "source": [
    "print(faces_adjacency_res[0])"
   ]
  },
  {
   "cell_type": "code",
   "execution_count": 7,
   "metadata": {},
   "outputs": [
    {
     "data": {
      "application/vnd.jupyter.widget-view+json": {
       "model_id": "6ee0ef77acfb4f36aeb4e6a79eced52c",
       "version_major": 2,
       "version_minor": 0
      },
      "text/plain": [
       "Renderer(camera=PerspectiveCamera(children=(DirectionalLight(color='white', intensity=0.6, position=(3.4272670…"
      ]
     },
     "metadata": {},
     "output_type": "display_data"
    }
   ],
   "source": [
    "# colors = mesh.vertex_normals.cpu().numpy()\n",
    "i = 0\n",
    "colors = np.clip(np.random.rand(faces.shape[0], 3), 0, 0.2)\n",
    "# colors = np.clip(np.random.rand(faces.shape[0], 3), 0, 1)\n",
    "colors[i] = np.array([255,0,0])\n",
    "for f in faces_adjacency_res[i]:\n",
    "    colors[f] = np.array([255,0,0])\n",
    "p = mp.plot(vertices, faces, colors, return_plot=True)\n",
    "# p.add_points(vertices[faces[i, 0]].reshape(1,-1), \n",
    "#             shading={'point_color':'red', 'point_size':0.3})\n",
    "plt.show()"
   ]
  },
  {
   "cell_type": "code",
   "execution_count": 8,
   "metadata": {},
   "outputs": [
    {
     "name": "stdout",
     "output_type": "stream",
     "text": [
      "Number of connected components: 158\n"
     ]
    },
    {
     "data": {
      "application/vnd.jupyter.widget-view+json": {
       "model_id": "cf32a961c2654c10a5a77ae942c3a029",
       "version_major": 2,
       "version_minor": 0
      },
      "text/plain": [
       "Renderer(camera=PerspectiveCamera(children=(DirectionalLight(color='white', intensity=0.6, position=(3.4272670…"
      ]
     },
     "metadata": {},
     "output_type": "display_data"
    }
   ],
   "source": [
    "adj = igl.adjacency_matrix(faces)\n",
    "cc = igl.connected_components(adj)\n",
    "print('Number of connected components:', cc[0])\n",
    "mp.plot(vertices, faces, cc[1])\n",
    "plt.show()"
   ]
  },
  {
   "cell_type": "code",
   "execution_count": 9,
   "metadata": {},
   "outputs": [
    {
     "data": {
      "application/vnd.jupyter.widget-view+json": {
       "model_id": "4971399d50b84ed0832632c8e8068d68",
       "version_major": 2,
       "version_minor": 0
      },
      "text/plain": [
       "Renderer(camera=PerspectiveCamera(children=(DirectionalLight(color='white', intensity=0.6, position=(3.4272670…"
      ]
     },
     "metadata": {},
     "output_type": "display_data"
    }
   ],
   "source": [
    "mp.plot(vertices, faces, np.random.rand(faces.shape[0]))\n",
    "plt.show()"
   ]
  },
  {
   "cell_type": "code",
   "execution_count": 10,
   "metadata": {},
   "outputs": [],
   "source": [
    "# Gaussian Curvature\n",
    "k = igl.gaussian_curvature(vertices, faces)\n",
    "# print('Gaussian Curvature')\n",
    "# mp.plot(vertices, faces, k)\n",
    "# plt.show()"
   ]
  },
  {
   "cell_type": "code",
   "execution_count": 11,
   "metadata": {},
   "outputs": [
    {
     "data": {
      "application/vnd.jupyter.widget-view+json": {
       "model_id": "d26be52baa1d41eb9043774a7ba98128",
       "version_major": 2,
       "version_minor": 0
      },
      "text/plain": [
       "Renderer(camera=PerspectiveCamera(children=(DirectionalLight(color='white', intensity=0.6, position=(3.4272670…"
      ]
     },
     "metadata": {},
     "output_type": "display_data"
    }
   ],
   "source": [
    "# query_pt = np.array([0.03,0.03,1.25])\n",
    "query_pt = np.array([0.4,0.47,0.25])\n",
    "# i = np.argmin(np.sum((vertices-query_pt)**2, axis = 1))\n",
    "i = np.random.randint(vertices.shape[0])\n",
    "i = 7\n",
    "solver = pp3d.MeshHeatMethodDistanceSolver(\n",
    "    vertices,\n",
    "    faces\n",
    ")\n",
    "distances = solver.compute_distance(i)\n",
    "p = mp.plot(vertices, faces, c = np.cos(100*distances), return_plot=True)\n",
    "# p = mp.plot(vertices, faces, c = distances, return_plot=True)\n",
    "p.add_points(vertices[i].reshape(1, -1), shading = {'point_color':'red', 'point_size':0.2})\n",
    "plt.show()"
   ]
  },
  {
   "cell_type": "code",
   "execution_count": 17,
   "metadata": {},
   "outputs": [
    {
     "name": "stderr",
     "output_type": "stream",
     "text": [
      "c:\\ProgramData\\miniforge3\\envs\\meshseg\\lib\\site-packages\\traittypes\\traittypes.py:97: UserWarning: Given trait value dtype \"float32\" does not match required type \"float64\". A coerced copy has been created.\n",
      "  warnings.warn(\n"
     ]
    },
    {
     "data": {
      "application/vnd.jupyter.widget-view+json": {
       "model_id": "b4975eb863794b94b11e5c563d146a18",
       "version_major": 2,
       "version_minor": 0
      },
      "text/plain": [
       "Renderer(camera=PerspectiveCamera(children=(DirectionalLight(color='white', intensity=0.6, position=(-2.809986…"
      ]
     },
     "metadata": {},
     "output_type": "display_data"
    },
    {
     "data": {
      "text/plain": [
       "<meshplot.Viewer.Viewer at 0x17328971eb0>"
      ]
     },
     "execution_count": 17,
     "metadata": {},
     "output_type": "execute_result"
    }
   ],
   "source": [
    "n_samples = int(vertices.shape[0] * 2)\n",
    "trimeshMesh = trimesh.Trimesh(vertices, faces)\n",
    "pts = trimesh.sample.sample_surface_even(trimeshMesh, n_samples)[0]\n",
    "mp.plot(pts, shading={'point_size':0.04})"
   ]
  },
  {
   "cell_type": "code",
   "execution_count": 18,
   "metadata": {},
   "outputs": [
    {
     "data": {
      "application/vnd.jupyter.widget-view+json": {
       "model_id": "3b490101114f46059877e40d14e69c95",
       "version_major": 2,
       "version_minor": 0
      },
      "text/plain": [
       "Renderer(camera=PerspectiveCamera(children=(DirectionalLight(color='white', intensity=0.6, position=(-2.954155…"
      ]
     },
     "metadata": {},
     "output_type": "display_data"
    },
    {
     "ename": "IndexError",
     "evalue": "index 9921 is out of bounds for axis 0 with size 1546",
     "output_type": "error",
     "traceback": [
      "\u001b[1;31m---------------------------------------------------------------------------\u001b[0m",
      "\u001b[1;31mIndexError\u001b[0m                                Traceback (most recent call last)",
      "Cell \u001b[1;32mIn[18], line 10\u001b[0m\n\u001b[0;32m      8\u001b[0m distances \u001b[38;5;241m=\u001b[39m pts_solver\u001b[38;5;241m.\u001b[39mcompute_distance(rand_pt)\n\u001b[0;32m      9\u001b[0m p \u001b[38;5;241m=\u001b[39m mp\u001b[38;5;241m.\u001b[39mplot(pts, c\u001b[38;5;241m=\u001b[39mnp\u001b[38;5;241m.\u001b[39mcos(\u001b[38;5;241m70\u001b[39m\u001b[38;5;241m*\u001b[39mdistances), shading\u001b[38;5;241m=\u001b[39m{\u001b[38;5;124m'\u001b[39m\u001b[38;5;124mpoint_size\u001b[39m\u001b[38;5;124m'\u001b[39m:\u001b[38;5;241m0.08\u001b[39m}, return_plot\u001b[38;5;241m=\u001b[39m\u001b[38;5;28;01mTrue\u001b[39;00m)\n\u001b[1;32m---> 10\u001b[0m p\u001b[38;5;241m.\u001b[39madd_points(\u001b[43mpts\u001b[49m\u001b[43m[\u001b[49m\u001b[43mrand_pt\u001b[49m\u001b[43m]\u001b[49m\u001b[38;5;241m.\u001b[39mreshape(\u001b[38;5;241m1\u001b[39m,\u001b[38;5;241m-\u001b[39m\u001b[38;5;241m1\u001b[39m), shading \u001b[38;5;241m=\u001b[39m {\u001b[38;5;124m'\u001b[39m\u001b[38;5;124mpoint_color\u001b[39m\u001b[38;5;124m'\u001b[39m:\u001b[38;5;124m'\u001b[39m\u001b[38;5;124mred\u001b[39m\u001b[38;5;124m'\u001b[39m, \u001b[38;5;124m'\u001b[39m\u001b[38;5;124mpoint_size\u001b[39m\u001b[38;5;124m'\u001b[39m:\u001b[38;5;241m0.35\u001b[39m})\n\u001b[0;32m     11\u001b[0m plt\u001b[38;5;241m.\u001b[39mshow()\n",
      "\u001b[1;31mIndexError\u001b[0m: index 9921 is out of bounds for axis 0 with size 1546"
     ]
    }
   ],
   "source": [
    "np.random.seed(420)\n",
    "n_samples = int(vertices.shape[0] * 2)\n",
    "trimeshMesh = trimesh.Trimesh(vertices, faces)\n",
    "pts = trimesh.sample.sample_surface_even(trimeshMesh, n_samples)[0]\n",
    "# rand_pt = np.random.randint(pts.shape[0])\n",
    "rand_pt = 9921\n",
    "pts_solver = pp3d.PointCloudHeatSolver(pts)\n",
    "distances = pts_solver.compute_distance(rand_pt)\n",
    "p = mp.plot(pts, c=np.cos(70*distances), shading={'point_size':0.08}, return_plot=True)\n",
    "p.add_points(pts[rand_pt].reshape(1,-1), shading = {'point_color':'red', 'point_size':0.35})\n",
    "plt.show()"
   ]
  },
  {
   "cell_type": "code",
   "execution_count": null,
   "metadata": {},
   "outputs": [
    {
     "name": "stdout",
     "output_type": "stream",
     "text": [
      "[-0.26501321  0.5296835   0.02254017]\n",
      "10962\n"
     ]
    }
   ],
   "source": [
    "print(pts[rand_pt])\n",
    "query_pt = np.array([-0.279844, 0.4,-0.13167364])\n",
    "print(np.argmin(np.sum((query_pt - pts)**2, axis=1)))"
   ]
  },
  {
   "cell_type": "code",
   "execution_count": null,
   "metadata": {},
   "outputs": [
    {
     "data": {
      "application/vnd.jupyter.widget-view+json": {
       "model_id": "caf18ac550b9467489787c4f9599fa16",
       "version_major": 2,
       "version_minor": 0
      },
      "text/plain": [
       "Renderer(camera=PerspectiveCamera(children=(DirectionalLight(color='white', intensity=0.6, position=(0.0, 0.36…"
      ]
     },
     "metadata": {},
     "output_type": "display_data"
    }
   ],
   "source": [
    "pts_solver = pp3d.PointCloudHeatSolver(vertices)\n",
    "distances = pts_solver.compute_distance(i)\n",
    "p = mp.plot(vertices, faces, c = distances, return_plot=True, shading = {'point_size':0.05})\n",
    "p.add_points(vertices[i].reshape(1, -1), shading = {'point_color':'red', 'point_size':0.2})\n",
    "plt.show()"
   ]
  },
  {
   "cell_type": "code",
   "execution_count": null,
   "metadata": {},
   "outputs": [
    {
     "data": {
      "application/vnd.jupyter.widget-view+json": {
       "model_id": "eb8a26452e894009abbf63469d3678a5",
       "version_major": 2,
       "version_minor": 0
      },
      "text/plain": [
       "Renderer(camera=PerspectiveCamera(children=(DirectionalLight(color='white', intensity=0.6, position=(0.0, 0.36…"
      ]
     },
     "metadata": {},
     "output_type": "display_data"
    }
   ],
   "source": [
    "pts_solver = pp3d.PointCloudHeatSolver(vertices)\n",
    "distances = pts_solver.compute_distance(i)\n",
    "p = mp.plot(vertices, return_plot=True, shading = {'point_size':0.05})\n",
    "# p.add_points(vertices[i].reshape(1, -1), shading = {'point_color':'red', 'point_size':0.2})\n",
    "plt.show()"
   ]
  }
 ],
 "metadata": {
  "kernelspec": {
   "display_name": "meshseg",
   "language": "python",
   "name": "python3"
  },
  "language_info": {
   "codemirror_mode": {
    "name": "ipython",
    "version": 3
   },
   "file_extension": ".py",
   "mimetype": "text/x-python",
   "name": "python",
   "nbconvert_exporter": "python",
   "pygments_lexer": "ipython3",
   "version": "3.9.19"
  }
 },
 "nbformat": 4,
 "nbformat_minor": 2
}
