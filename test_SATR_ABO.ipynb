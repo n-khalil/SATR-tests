{
 "cells": [
  {
   "cell_type": "markdown",
   "metadata": {},
   "source": [
    "## Imports"
   ]
  },
  {
   "cell_type": "code",
   "execution_count": 25,
   "metadata": {},
   "outputs": [
    {
     "name": "stdout",
     "output_type": "stream",
     "text": [
      "Torch will run on: cuda:0\n"
     ]
    }
   ],
   "source": [
    "# Imports and set torch device\n",
    "import numpy as np\n",
    "import meshplot as mp\n",
    "import torch\n",
    "import sys\n",
    "from scripts.helper_functions import segment\n",
    "import kaolin as kal\n",
    "import matplotlib.pyplot as plt\n",
    "from meshseg.models.GLIP.glip import GLIPModel\n",
    "import igl\n",
    "\n",
    "if torch.cuda.is_available():\n",
    "    device = torch.device(\"cuda:0\")\n",
    "    torch.cuda.set_device(device)\n",
    "else:\n",
    "    device = torch.device(\"cpu\")\n",
    "\n",
    "print('Torch will run on:', device)\n",
    "\n",
    "object = 'nightstand' \n",
    "obj_path = f'data/demo/{object}.obj'"
   ]
  },
  {
   "cell_type": "markdown",
   "metadata": {},
   "source": [
    "## Read Mesh"
   ]
  },
  {
   "cell_type": "code",
   "execution_count": 26,
   "metadata": {},
   "outputs": [
    {
     "name": "stdout",
     "output_type": "stream",
     "text": [
      "Number of vertices:  6640\n",
      "Number of faces:  8426\n"
     ]
    },
    {
     "data": {
      "application/vnd.jupyter.widget-view+json": {
       "model_id": "e9f5cfb8ef6f465f8813ab87505bb3ba",
       "version_major": 2,
       "version_minor": 0
      },
      "text/plain": [
       "Renderer(camera=PerspectiveCamera(children=(DirectionalLight(color='white', intensity=0.6, position=(0.0, 0.36…"
      ]
     },
     "metadata": {},
     "output_type": "display_data"
    }
   ],
   "source": [
    "# Read mesh\n",
    "mesh = kal.io.obj.import_mesh(\n",
    "    obj_path,\n",
    "    with_normals=True,\n",
    "    with_materials=False,\n",
    ")\n",
    "\n",
    "vertices_tensor = mesh.vertices.to(device)\n",
    "faces_tensor = mesh.faces.to(device)\n",
    "\n",
    "vertices = vertices_tensor.detach().cpu().numpy()\n",
    "faces = faces_tensor.detach().cpu().numpy()\n",
    "color = mesh.vertex_normals.cpu().numpy()\n",
    "print('Number of vertices: ', vertices.shape[0])\n",
    "print('Number of faces: ', faces.shape[0])\n",
    "# Visualize mesh\n",
    "mp.plot(vertices, faces, color)\n",
    "plt.show()"
   ]
  },
  {
   "cell_type": "markdown",
   "metadata": {},
   "source": [
    "## Call SATR"
   ]
  },
  {
   "cell_type": "code",
   "execution_count": 27,
   "metadata": {},
   "outputs": [
    {
     "name": "stderr",
     "output_type": "stream",
     "text": [
      "only got 13118/13280 samples!\n"
     ]
    },
    {
     "name": "stdout",
     "output_type": "stream",
     "text": [
      "Reading the mesh...\n",
      "Reading the mesh with path: data/demo\\nightstand.obj\n",
      "\thaving 8426 faces and 6640 vertices\n",
      "Sampling the mesh...\n",
      "Sampled 13118 points\n",
      "Creating the renderer...\n",
      "Random rendering: False\n",
      "Rendering the views...\n",
      "Rendering the views...done\n",
      "Initializing GLIP...\n",
      "VISION BACKBONE USE GRADIENT CHECKPOINTING:  False\n",
      "LANGUAGE BACKBONE USE GRADIENT CHECKPOINTING:  False\n",
      "EARLY FUSION ON, USING MHA-B\n",
      "EARLY FUSION ON, USING MHA-B\n",
      "EARLY FUSION ON, USING MHA-B\n",
      "EARLY FUSION ON, USING MHA-B\n",
      "EARLY FUSION ON, USING MHA-B\n",
      "EARLY FUSION ON, USING MHA-B\n",
      "EARLY FUSION ON, USING MHA-B\n",
      "EARLY FUSION ON, USING MHA-B\n",
      "Finished Initializing GLIP\n",
      "Computing point cloud pairwise distances\n"
     ]
    },
    {
     "data": {
      "application/vnd.jupyter.widget-view+json": {
       "model_id": "6505aef4afcc40a0a3a3c6a3f3e43968",
       "version_major": 2,
       "version_minor": 0
      },
      "text/plain": [
       "  0%|          | 0/13118 [00:00<?, ?it/s]"
      ]
     },
     "metadata": {},
     "output_type": "display_data"
    },
    {
     "name": "stdout",
     "output_type": "stream",
     "text": [
      "Per Sample Point scores\n",
      "Getting samples neighborhood\n",
      "Prompts: ['the back panel of a nightstand.', 'the bottom of a nightstand.', 'the drawers of a nightstand.', 'the side panels of a nightstand.', 'the top panel of a nightstand.']\n",
      "Feeding the views to GLIP...\n",
      "Num views: 12\n",
      "GLIP - View: 0 Prompt: 0 "
     ]
    },
    {
     "name": "stderr",
     "output_type": "stream",
     "text": [
      "c:\\ProgramData\\miniforge3\\envs\\meshseg\\lib\\site-packages\\transformers\\modeling_utils.py:977: FutureWarning: The `device` argument is deprecated and will be removed in v5 of Transformers.\n",
      "  warnings.warn(\n",
      "c:\\ProgramData\\miniforge3\\envs\\meshseg\\lib\\site-packages\\torch\\nn\\functional.py:3847: UserWarning: nn.functional.upsample_bilinear is deprecated. Use nn.functional.interpolate instead.\n",
      "  warnings.warn(\"nn.functional.upsample_bilinear is deprecated. Use nn.functional.interpolate instead.\")\n"
     ]
    },
    {
     "name": "stdout",
     "output_type": "stream",
     "text": [
      "inference time per image: 6.938340700000481\n",
      "GLIP - View: 0 Prompt: 1 inference time per image: 6.623227799998858\n",
      "GLIP - View: 0 Prompt: 2 inference time per image: 6.691457199998695\n",
      "GLIP - View: 0 Prompt: 3 inference time per image: 6.580280899999707\n",
      "GLIP - View: 0 Prompt: 4 inference time per image: 6.641720099998565\n",
      "GLIP - View: 1 Prompt: 0 inference time per image: 6.626128100000642\n",
      "GLIP - View: 1 Prompt: 1 inference time per image: 6.645991100000174\n",
      "GLIP - View: 1 Prompt: 2 inference time per image: 6.640943700000207\n",
      "GLIP - View: 1 Prompt: 3 inference time per image: 6.587894399999641\n",
      "GLIP - View: 1 Prompt: 4 inference time per image: 6.595214200000555\n",
      "GLIP - View: 2 Prompt: 0 inference time per image: 6.68316539999978\n",
      "GLIP - View: 2 Prompt: 1 inference time per image: 6.671124800001053\n",
      "GLIP - View: 2 Prompt: 2 inference time per image: 6.59941599999911\n",
      "GLIP - View: 2 Prompt: 3 inference time per image: 6.674663899999359\n",
      "GLIP - View: 2 Prompt: 4 inference time per image: 6.658606400000281\n",
      "GLIP - View: 3 Prompt: 0 inference time per image: 6.541836399999738\n",
      "GLIP - View: 3 Prompt: 1 inference time per image: 6.66779409999981\n",
      "GLIP - View: 3 Prompt: 2 inference time per image: 6.630916600001001\n",
      "GLIP - View: 3 Prompt: 3 inference time per image: 6.6185772999997425\n",
      "GLIP - View: 3 Prompt: 4 inference time per image: 6.645093399998586\n",
      "GLIP - View: 4 Prompt: 0 inference time per image: 6.632366600000751\n",
      "GLIP - View: 4 Prompt: 1 inference time per image: 6.645090100000743\n",
      "GLIP - View: 4 Prompt: 2 inference time per image: 6.6956229000006715\n",
      "GLIP - View: 4 Prompt: 3 inference time per image: 6.666008800000782\n",
      "GLIP - View: 4 Prompt: 4 inference time per image: 6.633291899999676\n",
      "GLIP - View: 5 Prompt: 0 inference time per image: 6.592601700000159\n",
      "GLIP - View: 5 Prompt: 1 inference time per image: 6.633451499999865\n",
      "GLIP - View: 5 Prompt: 2 inference time per image: 6.618673099999796\n",
      "GLIP - View: 5 Prompt: 3 inference time per image: 6.604506399999082\n",
      "GLIP - View: 5 Prompt: 4 inference time per image: 6.569021299999804\n",
      "GLIP - View: 6 Prompt: 0 inference time per image: 6.58908159999919\n",
      "GLIP - View: 6 Prompt: 1 inference time per image: 6.611602299999504\n",
      "GLIP - View: 6 Prompt: 2 inference time per image: 6.680808099999922\n",
      "GLIP - View: 6 Prompt: 3 inference time per image: 6.633416399999987\n",
      "GLIP - View: 6 Prompt: 4 inference time per image: 6.6251990999990085\n",
      "GLIP - View: 7 Prompt: 0 inference time per image: 6.617126200000712\n",
      "GLIP - View: 7 Prompt: 1 inference time per image: 6.512049800001478\n",
      "GLIP - View: 7 Prompt: 2 inference time per image: 6.648177600000054\n",
      "GLIP - View: 7 Prompt: 3 inference time per image: 6.606880999999703\n",
      "GLIP - View: 7 Prompt: 4 inference time per image: 6.54843339999934\n",
      "GLIP - View: 8 Prompt: 0 inference time per image: 6.553882899999735\n",
      "GLIP - View: 8 Prompt: 1 inference time per image: 6.568766200000027\n",
      "GLIP - View: 8 Prompt: 2 inference time per image: 6.604392899998857\n",
      "GLIP - View: 8 Prompt: 3 inference time per image: 6.645750200001203\n",
      "GLIP - View: 8 Prompt: 4 inference time per image: 6.5775496999995084\n",
      "GLIP - View: 9 Prompt: 0 inference time per image: 6.739688300000125\n",
      "GLIP - View: 9 Prompt: 1 inference time per image: 6.624549099999058\n",
      "GLIP - View: 9 Prompt: 2 inference time per image: 6.6585744000003615\n",
      "GLIP - View: 9 Prompt: 3 inference time per image: 6.665270900000905\n",
      "GLIP - View: 9 Prompt: 4 inference time per image: 6.602607200000421\n",
      "GLIP - View: 10 Prompt: 0 inference time per image: 6.686097899999368\n",
      "GLIP - View: 10 Prompt: 1 inference time per image: 6.628583199999412\n",
      "GLIP - View: 10 Prompt: 2 inference time per image: 6.700927599998977\n",
      "GLIP - View: 10 Prompt: 3 inference time per image: 6.645280900000216\n",
      "GLIP - View: 10 Prompt: 4 inference time per image: 6.685948199999984\n",
      "GLIP - View: 11 Prompt: 0 inference time per image: 6.715916600000128\n",
      "GLIP - View: 11 Prompt: 1 inference time per image: 6.649550800000725\n",
      "GLIP - View: 11 Prompt: 2 inference time per image: 6.687408800000412\n",
      "GLIP - View: 11 Prompt: 3 inference time per image: 6.56378020000011\n",
      "GLIP - View: 11 Prompt: 4 inference time per image: 6.65338359999987\n",
      "Finished GLIP\n"
     ]
    },
    {
     "data": {
      "application/vnd.jupyter.widget-view+json": {
       "model_id": "be3c7a38df2e4709824d8f2c0ccf7e30",
       "version_major": 2,
       "version_minor": 0
      },
      "text/plain": [
       "0it [00:00, ?it/s]"
      ]
     },
     "metadata": {},
     "output_type": "display_data"
    },
    {
     "name": "stdout",
     "output_type": "stream",
     "text": [
      "Processing view: 0, Prompt: 0\n",
      "Processing view: 0, Prompt: 1\n",
      "Processing view: 0, Prompt: 2\n",
      "Processing view: 0, Prompt: 3\n",
      "Processing view: 0, Prompt: 4\n",
      "Processing view: 1, Prompt: 0\n",
      "Processing view: 1, Prompt: 1\n",
      "Processing view: 1, Prompt: 2\n",
      "Processing view: 1, Prompt: 3\n",
      "Processing view: 1, Prompt: 4\n",
      "Processing view: 2, Prompt: 0\n",
      "Processing view: 2, Prompt: 1\n",
      "Processing view: 2, Prompt: 2\n",
      "Processing view: 2, Prompt: 3\n",
      "Processing view: 2, Prompt: 4\n",
      "Processing view: 3, Prompt: 0\n",
      "Processing view: 3, Prompt: 1\n",
      "Processing view: 3, Prompt: 2\n",
      "Processing view: 3, Prompt: 3\n",
      "Processing view: 3, Prompt: 4\n",
      "Processing view: 4, Prompt: 0\n",
      "Processing view: 4, Prompt: 1\n",
      "Processing view: 4, Prompt: 2\n",
      "Processing view: 4, Prompt: 3\n",
      "Processing view: 4, Prompt: 4\n",
      "Processing view: 5, Prompt: 0\n",
      "Processing view: 5, Prompt: 1\n",
      "Processing view: 5, Prompt: 2\n",
      "Processing view: 5, Prompt: 3\n",
      "Processing view: 5, Prompt: 4\n",
      "Processing view: 6, Prompt: 0\n",
      "Processing view: 6, Prompt: 1\n",
      "Processing view: 6, Prompt: 2\n",
      "Processing view: 6, Prompt: 3\n",
      "Processing view: 6, Prompt: 4\n",
      "Processing view: 7, Prompt: 0\n",
      "Processing view: 7, Prompt: 1\n",
      "Processing view: 7, Prompt: 2\n",
      "Processing view: 7, Prompt: 3\n",
      "Processing view: 7, Prompt: 4\n",
      "Processing view: 8, Prompt: 0\n",
      "Processing view: 8, Prompt: 1\n",
      "Processing view: 8, Prompt: 2\n",
      "Processing view: 8, Prompt: 3\n",
      "Processing view: 8, Prompt: 4\n",
      "Processing view: 9, Prompt: 0\n",
      "Processing view: 9, Prompt: 1\n",
      "Processing view: 9, Prompt: 2\n",
      "Processing view: 9, Prompt: 3\n",
      "Processing view: 9, Prompt: 4\n",
      "Processing view: 10, Prompt: 0\n",
      "Processing view: 10, Prompt: 1\n",
      "Processing view: 10, Prompt: 2\n",
      "Processing view: 10, Prompt: 3\n",
      "Processing view: 10, Prompt: 4\n",
      "Processing view: 11, Prompt: 0\n",
      "Processing view: 11, Prompt: 1\n",
      "Processing view: 11, Prompt: 2\n",
      "Processing view: 11, Prompt: 3\n",
      "Processing view: 11, Prompt: 4\n",
      "Predicitons: torch.Size([8426, 5])\n"
     ]
    }
   ],
   "source": [
    "if (object[-1].isdigit()):\n",
    "    config_path = 'configs/demo/' + object[:-2] + '.yaml'\n",
    "else:\n",
    "    config_path = 'configs/demo/' + object + '.yaml'\n",
    "\n",
    "segment(\n",
    "    config_path,\n",
    "    object + '.obj',\n",
    "    'outputs/demo/ABO/' + object + '/'\n",
    "    )"
   ]
  },
  {
   "cell_type": "markdown",
   "metadata": {},
   "source": [
    "## Vizualise Output"
   ]
  },
  {
   "cell_type": "code",
   "execution_count": 28,
   "metadata": {},
   "outputs": [
    {
     "name": "stdout",
     "output_type": "stream",
     "text": [
      "Red :\t back panel\n",
      "Green :\t bottom\n",
      "Blue :\t drawers\n",
      "Yellow :\t side panels\n",
      "Magenta :\t top panel\n",
      "Cyan :\t unknown\n"
     ]
    },
    {
     "data": {
      "application/vnd.jupyter.widget-view+json": {
       "model_id": "241acb321d7d45769a6b081e0af57ddf",
       "version_major": 2,
       "version_minor": 0
      },
      "text/plain": [
       "Renderer(camera=PerspectiveCamera(children=(DirectionalLight(color='white', intensity=0.6, position=(0.0, 0.36…"
      ]
     },
     "metadata": {},
     "output_type": "display_data"
    }
   ],
   "source": [
    "import json\n",
    "colors_dict = {\n",
    "    0: [1, 0, 0],   # Red\n",
    "    1: [0, 1, 0],   # Green\n",
    "    2: [0, 0, 1],   # Blue\n",
    "    3: [1, 1, 0],   # Yellow\n",
    "    4: [1, 0, 1],   # Magenta\n",
    "    5: [0, 1, 1],   # Cyan\n",
    "    6: [0.5, 0, 0], # Dark Red\n",
    "    7: [0, 0.5, 0], # Dark Green\n",
    "    8: [0, 0, 0.5], # Dark Blue\n",
    "    9: [0.5, 0.5, 0.5] # Gray\n",
    "}\n",
    "colors_lst = ['Red', 'Green', 'Blue', 'Yellow', 'Magenta', 'Cyan', 'Dark Red', 'Dark Green', 'Dark Blue', 'Grey']\n",
    "output_file = open('./outputs/demo/ABO/' + object + '/face_preds.json')\n",
    "output = np.array(json.load(output_file))\n",
    "segments = np.unique(output)\n",
    "segments_idx = np.unique(output, return_inverse=True)[1]\n",
    "prompts = segments.tolist()\n",
    "if ('unknown' in prompts):\n",
    "    prompts.remove('unknown')\n",
    "# print('Prompts: ', prompts)\n",
    "colors = np.array([colors_dict[segment_id] for segment_id in segments_idx])\n",
    "for i in range(len(segments)):\n",
    "    print(colors_lst[i],':\\t',segments[i])\n",
    "mp.plot(vertices, faces, colors)\n",
    "plt.show()"
   ]
  }
 ],
 "metadata": {
  "kernelspec": {
   "display_name": "meshseg",
   "language": "python",
   "name": "python3"
  },
  "language_info": {
   "codemirror_mode": {
    "name": "ipython",
    "version": 3
   },
   "file_extension": ".py",
   "mimetype": "text/x-python",
   "name": "python",
   "nbconvert_exporter": "python",
   "pygments_lexer": "ipython3",
   "version": "3.9.19"
  }
 },
 "nbformat": 4,
 "nbformat_minor": 2
}
