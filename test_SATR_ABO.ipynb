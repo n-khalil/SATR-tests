{
 "cells": [
  {
   "cell_type": "markdown",
   "metadata": {},
   "source": [
    "## Imports"
   ]
  },
  {
   "cell_type": "code",
   "execution_count": 1,
   "metadata": {},
   "outputs": [
    {
     "name": "stdout",
     "output_type": "stream",
     "text": [
      "Jupyter environment detected. Enabling Open3D WebVisualizer.\n",
      "[Open3D INFO] WebRTC GUI backend enabled.\n",
      "[Open3D INFO] WebRTCWindowSystem: HTTP handshake server disabled.\n",
      "Torch will run on: cuda:0\n"
     ]
    },
    {
     "name": "stderr",
     "output_type": "stream",
     "text": [
      "[nltk_data] Downloading package punkt to\n",
      "[nltk_data]     C:\\Users\\nkhalil\\AppData\\Roaming\\nltk_data...\n",
      "[nltk_data]   Package punkt is already up-to-date!\n",
      "[nltk_data] Downloading package averaged_perceptron_tagger to\n",
      "[nltk_data]     C:\\Users\\nkhalil\\AppData\\Roaming\\nltk_data...\n",
      "[nltk_data]   Package averaged_perceptron_tagger is already up-to-\n",
      "[nltk_data]       date!\n"
     ]
    }
   ],
   "source": [
    "# Imports and set torch device\n",
    "import numpy as np\n",
    "import meshplot as mp\n",
    "import torch\n",
    "import sys\n",
    "from scripts.helper_functions import segment\n",
    "import kaolin as kal\n",
    "import matplotlib.pyplot as plt\n",
    "from meshseg.models.GLIP.glip import GLIPModel\n",
    "import igl\n",
    "\n",
    "if torch.cuda.is_available():\n",
    "    device = torch.device(\"cuda:0\")\n",
    "    torch.cuda.set_device(device)\n",
    "else:\n",
    "    device = torch.device(\"cpu\")\n",
    "\n",
    "print('Torch will run on:', device)\n",
    "\n",
    "object = 'bookshelf' \n",
    "obj_path = f'data/demo/{object}.obj'"
   ]
  },
  {
   "cell_type": "markdown",
   "metadata": {},
   "source": [
    "## Read Mesh"
   ]
  },
  {
   "cell_type": "code",
   "execution_count": 2,
   "metadata": {},
   "outputs": [
    {
     "name": "stdout",
     "output_type": "stream",
     "text": [
      "Number of vertices:  5786\n",
      "Number of faces:  8624\n"
     ]
    },
    {
     "data": {
      "application/vnd.jupyter.widget-view+json": {
       "model_id": "a45044b54e384ee8976301f02ad39072",
       "version_major": 2,
       "version_minor": 0
      },
      "text/plain": [
       "Renderer(camera=PerspectiveCamera(children=(DirectionalLight(color='white', intensity=0.6, position=(3.4272670…"
      ]
     },
     "metadata": {},
     "output_type": "display_data"
    }
   ],
   "source": [
    "# Read mesh\n",
    "mesh = kal.io.obj.import_mesh(\n",
    "    obj_path,\n",
    "    with_normals=True,\n",
    "    with_materials=False,\n",
    ")\n",
    "\n",
    "vertices_tensor = mesh.vertices.to(device)\n",
    "faces_tensor = mesh.faces.to(device)\n",
    "\n",
    "vertices = vertices_tensor.detach().cpu().numpy()\n",
    "faces = faces_tensor.detach().cpu().numpy()\n",
    "color = mesh.vertex_normals.cpu().numpy()\n",
    "print('Number of vertices: ', vertices.shape[0])\n",
    "print('Number of faces: ', faces.shape[0])\n",
    "# Visualize mesh\n",
    "mp.plot(vertices, faces, color)\n",
    "plt.show()"
   ]
  },
  {
   "cell_type": "markdown",
   "metadata": {},
   "source": [
    "## Call SATR"
   ]
  },
  {
   "cell_type": "code",
   "execution_count": 3,
   "metadata": {},
   "outputs": [
    {
     "name": "stdout",
     "output_type": "stream",
     "text": [
      "data/demo\\bookshelf.obj\n",
      "['the back panel of a bookshelf.', 'the bottom of a bookshelf.', 'the shelves of a bookshelf.', 'the sides of a bookshelf.', 'the top of a bookshelf.']\n",
      "{'back panel': 0, 'bottom': 1, 'shelves': 2, 'sides': 3, 'top': 4, 'unknown': 5}\n",
      "Reading the mesh...\n",
      "Reading the mesh with path: data/demo\\bookshelf.obj\n",
      "\thaving 8624 faces and 5786 vertices\n",
      "Sampling the mesh...\n",
      "SPC Builder init\n",
      "Creating the renderer...\n",
      "Random rendering: False\n",
      "Rendering the views...\n",
      "Rendering the views...done\n",
      "VISION BACKBONE USE GRADIENT CHECKPOINTING:  False\n"
     ]
    },
    {
     "name": "stderr",
     "output_type": "stream",
     "text": [
      "c:\\ProgramData\\miniforge3\\envs\\meshseg\\lib\\site-packages\\torch\\functional.py:445: UserWarning: torch.meshgrid: in an upcoming release, it will be required to pass the indexing argument. (Triggered internally at  ..\\aten\\src\\ATen\\native\\TensorShape.cpp:2157.)\n",
      "  return _VF.meshgrid(tensors, **kwargs)  # type: ignore[attr-defined]\n"
     ]
    },
    {
     "name": "stdout",
     "output_type": "stream",
     "text": [
      "LANGUAGE BACKBONE USE GRADIENT CHECKPOINTING:  False\n",
      "EARLY FUSION ON, USING MHA-B\n",
      "EARLY FUSION ON, USING MHA-B\n",
      "EARLY FUSION ON, USING MHA-B\n",
      "EARLY FUSION ON, USING MHA-B\n",
      "EARLY FUSION ON, USING MHA-B\n",
      "EARLY FUSION ON, USING MHA-B\n",
      "EARLY FUSION ON, USING MHA-B\n",
      "EARLY FUSION ON, USING MHA-B\n",
      "Getting faces neighborhood\n",
      "Sampling points on surface\n",
      "Computing vertices pairwise distances\n",
      "Feeding the views to GLIP...\n",
      "GLIP - View: 0 Prompt: 0 "
     ]
    },
    {
     "name": "stderr",
     "output_type": "stream",
     "text": [
      "c:\\ProgramData\\miniforge3\\envs\\meshseg\\lib\\site-packages\\transformers\\modeling_utils.py:977: FutureWarning: The `device` argument is deprecated and will be removed in v5 of Transformers.\n",
      "  warnings.warn(\n",
      "c:\\ProgramData\\miniforge3\\envs\\meshseg\\lib\\site-packages\\torch\\nn\\functional.py:3847: UserWarning: nn.functional.upsample_bilinear is deprecated. Use nn.functional.interpolate instead.\n",
      "  warnings.warn(\"nn.functional.upsample_bilinear is deprecated. Use nn.functional.interpolate instead.\")\n"
     ]
    },
    {
     "name": "stdout",
     "output_type": "stream",
     "text": [
      "inference time per image: 2.6574819000000005\n",
      "GLIP - View: 0 Prompt: 1 inference time per image: 0.5279701999999986\n",
      "GLIP - View: 0 Prompt: 2 inference time per image: 0.5329413999999986\n",
      "GLIP - View: 0 Prompt: 3 inference time per image: 0.5225643000000026\n",
      "GLIP - View: 0 Prompt: 4 inference time per image: 0.5208492000000007\n",
      "GLIP - View: 1 Prompt: 0 inference time per image: 0.528217699999999\n",
      "GLIP - View: 1 Prompt: 1 inference time per image: 0.5253233000000037\n",
      "GLIP - View: 1 Prompt: 2 inference time per image: 0.5240427999999966\n",
      "GLIP - View: 1 Prompt: 3 inference time per image: 0.525973300000004\n",
      "GLIP - View: 1 Prompt: 4 inference time per image: 0.5326582000000002\n",
      "GLIP - View: 2 Prompt: 0 inference time per image: 0.5428265999999979\n",
      "GLIP - View: 2 Prompt: 1 inference time per image: 0.5392326999999995\n",
      "GLIP - View: 2 Prompt: 2 inference time per image: 0.5290668999999966\n",
      "GLIP - View: 2 Prompt: 3 inference time per image: 0.5213467000000023\n",
      "GLIP - View: 2 Prompt: 4 inference time per image: 0.5312327000000039\n",
      "GLIP - View: 3 Prompt: 0 inference time per image: 0.5251808000000011\n",
      "GLIP - View: 3 Prompt: 1 inference time per image: 0.5197819999999993\n",
      "GLIP - View: 3 Prompt: 2 inference time per image: 0.5251433999999975\n",
      "GLIP - View: 3 Prompt: 3 inference time per image: 0.5325618000000034\n",
      "GLIP - View: 3 Prompt: 4 inference time per image: 0.539673300000004\n",
      "GLIP - View: 4 Prompt: 0 inference time per image: 0.5291401999999934\n",
      "GLIP - View: 4 Prompt: 1 inference time per image: 0.5311081000000044\n",
      "GLIP - View: 4 Prompt: 2 inference time per image: 0.5320925000000045\n",
      "GLIP - View: 4 Prompt: 3 inference time per image: 0.5258603999999991\n",
      "GLIP - View: 4 Prompt: 4 inference time per image: 0.5457528999999965\n",
      "GLIP - View: 5 Prompt: 0 inference time per image: 0.5202093000000048\n",
      "GLIP - View: 5 Prompt: 1 inference time per image: 0.5388658000000035\n",
      "GLIP - View: 5 Prompt: 2 inference time per image: 0.5210355999999976\n",
      "GLIP - View: 5 Prompt: 3 inference time per image: 0.5332811999999976\n",
      "GLIP - View: 5 Prompt: 4 inference time per image: 0.529625799999998\n",
      "GLIP - View: 6 Prompt: 0 inference time per image: 0.5351788000000042\n",
      "GLIP - View: 6 Prompt: 1 inference time per image: 0.5393709000000015\n",
      "GLIP - View: 6 Prompt: 2 inference time per image: 0.5392644999999945\n",
      "GLIP - View: 6 Prompt: 3 inference time per image: 0.519939100000002\n",
      "GLIP - View: 6 Prompt: 4 inference time per image: 0.5309603999999979\n",
      "GLIP - View: 7 Prompt: 0 inference time per image: 0.5321227999999962\n",
      "GLIP - View: 7 Prompt: 1 inference time per image: 0.512549099999994\n",
      "GLIP - View: 7 Prompt: 2 inference time per image: 0.5225755000000021\n",
      "GLIP - View: 7 Prompt: 3 inference time per image: 0.5153186999999946\n",
      "GLIP - View: 7 Prompt: 4 inference time per image: 0.5269885000000016\n",
      "GLIP - View: 8 Prompt: 0 inference time per image: 0.5462595999999991\n",
      "GLIP - View: 8 Prompt: 1 inference time per image: 0.5250828999999939\n",
      "GLIP - View: 8 Prompt: 2 inference time per image: 0.5394536000000016\n",
      "GLIP - View: 8 Prompt: 3 inference time per image: 0.5118922999999995\n",
      "GLIP - View: 8 Prompt: 4 inference time per image: 0.5368272000000047\n",
      "GLIP - View: 9 Prompt: 0 inference time per image: 0.5425691999999955\n",
      "GLIP - View: 9 Prompt: 1 inference time per image: 0.5354308000000003\n",
      "GLIP - View: 9 Prompt: 2 inference time per image: 0.5253998000000024\n",
      "GLIP - View: 9 Prompt: 3 inference time per image: 0.5207461999999978\n",
      "GLIP - View: 9 Prompt: 4 inference time per image: 0.5353832999999995\n",
      "GLIP - View: 10 Prompt: 0 inference time per image: 0.5208629000000045\n",
      "GLIP - View: 10 Prompt: 1 inference time per image: 0.5217290000000006\n",
      "GLIP - View: 10 Prompt: 2 inference time per image: 0.5239328999999984\n",
      "GLIP - View: 10 Prompt: 3 inference time per image: 0.5332473000000064\n",
      "GLIP - View: 10 Prompt: 4 inference time per image: 0.5240855999999994\n",
      "GLIP - View: 11 Prompt: 0 inference time per image: 0.5324290000000005\n",
      "GLIP - View: 11 Prompt: 1 inference time per image: 0.5327630999999968\n",
      "GLIP - View: 11 Prompt: 2 inference time per image: 0.5360051999999982\n",
      "GLIP - View: 11 Prompt: 3 inference time per image: 0.5337685000000008\n",
      "GLIP - View: 11 Prompt: 4 inference time per image: 0.5377189999999956\n"
     ]
    },
    {
     "data": {
      "image/png": "[encoded data removed]",
      "text/plain": [
       "<Figure size 640x480 with 1 Axes>"
      ]
     },
     "metadata": {},
     "output_type": "display_data"
    },
    {
     "name": "stdout",
     "output_type": "stream",
     "text": [
      "Finished GLIP\n"
     ]
    },
    {
     "data": {
      "application/vnd.jupyter.widget-view+json": {
       "model_id": "3364f1fd6b0d44f29fed6af43f85500d",
       "version_major": 2,
       "version_minor": 0
      },
      "text/plain": [
       "0it [00:00, ?it/s]"
      ]
     },
     "metadata": {},
     "output_type": "display_data"
    },
    {
     "name": "stdout",
     "output_type": "stream",
     "text": [
      "Processing view: 0, Prompt: 0\n",
      "Processing view: 0, Prompt: 1\n",
      "Processing view: 0, Prompt: 2\n"
     ]
    },
    {
     "ename": "KeyboardInterrupt",
     "evalue": "",
     "output_type": "error",
     "traceback": [
      "\u001b[1;31m---------------------------------------------------------------------------\u001b[0m",
      "\u001b[1;31mKeyboardInterrupt\u001b[0m                         Traceback (most recent call last)",
      "Cell \u001b[1;32mIn[3], line 6\u001b[0m\n\u001b[0;32m      3\u001b[0m \u001b[38;5;28;01melse\u001b[39;00m:\n\u001b[0;32m      4\u001b[0m     config_path \u001b[38;5;241m=\u001b[39m \u001b[38;5;124m'\u001b[39m\u001b[38;5;124mconfigs/demo/\u001b[39m\u001b[38;5;124m'\u001b[39m \u001b[38;5;241m+\u001b[39m \u001b[38;5;28mobject\u001b[39m \u001b[38;5;241m+\u001b[39m \u001b[38;5;124m'\u001b[39m\u001b[38;5;124m.yaml\u001b[39m\u001b[38;5;124m'\u001b[39m\n\u001b[1;32m----> 6\u001b[0m \u001b[43msegment\u001b[49m\u001b[43m(\u001b[49m\n\u001b[0;32m      7\u001b[0m \u001b[43m    \u001b[49m\u001b[43mconfig_path\u001b[49m\u001b[43m,\u001b[49m\n\u001b[0;32m      8\u001b[0m \u001b[43m    \u001b[49m\u001b[38;5;28;43mobject\u001b[39;49m\u001b[43m \u001b[49m\u001b[38;5;241;43m+\u001b[39;49m\u001b[43m \u001b[49m\u001b[38;5;124;43m'\u001b[39;49m\u001b[38;5;124;43m.obj\u001b[39;49m\u001b[38;5;124;43m'\u001b[39;49m\u001b[43m,\u001b[49m\n\u001b[0;32m      9\u001b[0m \u001b[43m    \u001b[49m\u001b[38;5;124;43m'\u001b[39;49m\u001b[38;5;124;43moutputs/demo/ABO/\u001b[39;49m\u001b[38;5;124;43m'\u001b[39;49m\u001b[43m \u001b[49m\u001b[38;5;241;43m+\u001b[39;49m\u001b[43m \u001b[49m\u001b[38;5;28;43mobject\u001b[39;49m\u001b[43m \u001b[49m\u001b[38;5;241;43m+\u001b[39;49m\u001b[43m \u001b[49m\u001b[38;5;124;43m'\u001b[39;49m\u001b[38;5;124;43m/\u001b[39;49m\u001b[38;5;124;43m'\u001b[39;49m\n\u001b[0;32m     10\u001b[0m \u001b[43m    \u001b[49m\u001b[43m)\u001b[49m\n",
      "File \u001b[1;32md:\\SATR-tests\\scripts\\helper_functions.py:183\u001b[0m, in \u001b[0;36msegment\u001b[1;34m(config_path, mesh_name, output_dir, input_prompt, mesh_class)\u001b[0m\n\u001b[0;32m    180\u001b[0m segmenter\u001b[38;5;241m.\u001b[39mset_rendered_views(rendered_images, faces_idx, elev, azim, \u001b[38;5;241m2\u001b[39m)\n\u001b[0;32m    182\u001b[0m \u001b[38;5;66;03m# Segment\u001b[39;00m\n\u001b[1;32m--> 183\u001b[0m predictions, _ \u001b[38;5;241m=\u001b[39m \u001b[43msegmenter\u001b[49m\u001b[43m(\u001b[49m\u001b[43m)\u001b[49m\n\u001b[0;32m    184\u001b[0m predictions \u001b[38;5;241m=\u001b[39m torch\u001b[38;5;241m.\u001b[39mtensor(predictions)\n\u001b[0;32m    186\u001b[0m \u001b[38;5;66;03m# Save the predictions\u001b[39;00m\n",
      "File \u001b[1;32md:\\SATR-tests\\meshseg\\methods\\segmentors.py:325\u001b[0m, in \u001b[0;36mGLIPSAMMeshSegmenter.__call__\u001b[1;34m(self)\u001b[0m\n\u001b[0;32m    322\u001b[0m \u001b[38;5;28;01massert\u001b[39;00m \u001b[38;5;28mself\u001b[39m\u001b[38;5;241m.\u001b[39mglip_model \u001b[38;5;129;01mis\u001b[39;00m \u001b[38;5;129;01mnot\u001b[39;00m \u001b[38;5;28;01mNone\u001b[39;00m\n\u001b[0;32m    323\u001b[0m \u001b[38;5;28;01massert\u001b[39;00m \u001b[38;5;28mself\u001b[39m\u001b[38;5;241m.\u001b[39mrendered_images \u001b[38;5;129;01mis\u001b[39;00m \u001b[38;5;129;01mnot\u001b[39;00m \u001b[38;5;28;01mNone\u001b[39;00m\n\u001b[1;32m--> 325\u001b[0m \u001b[38;5;28;01mreturn\u001b[39;00m \u001b[38;5;28;43mself\u001b[39;49m\u001b[38;5;241;43m.\u001b[39;49m\u001b[43mpredict_face_cls\u001b[49m\u001b[43m(\u001b[49m\u001b[43m)\u001b[49m\n",
      "File \u001b[1;32md:\\SATR-tests\\meshseg\\methods\\segmentors.py:208\u001b[0m, in \u001b[0;36mGLIPSAMMeshSegmenter.predict_face_cls\u001b[1;34m(self)\u001b[0m\n\u001b[0;32m    195\u001b[0m     (\n\u001b[0;32m    196\u001b[0m         face_view_prompt_score,\n\u001b[0;32m    197\u001b[0m         face_view_prompt_freq,\n\u001b[1;32m   (...)\u001b[0m\n\u001b[0;32m    202\u001b[0m         \u001b[38;5;28mself\u001b[39m\u001b[38;5;241m.\u001b[39mrendered_images_face_ids[i]\u001b[38;5;241m.\u001b[39msqueeze(\u001b[38;5;241m0\u001b[39m),\n\u001b[0;32m    203\u001b[0m     )\n\u001b[0;32m    204\u001b[0m \u001b[38;5;28;01melse\u001b[39;00m:\n\u001b[0;32m    205\u001b[0m     (\n\u001b[0;32m    206\u001b[0m         face_view_prompt_score,\n\u001b[0;32m    207\u001b[0m         face_view_prompt_freq,\n\u001b[1;32m--> 208\u001b[0m     ) \u001b[38;5;241m=\u001b[39m \u001b[38;5;28;43mself\u001b[39;49m\u001b[38;5;241;43m.\u001b[39;49m\u001b[43mprocess_box_predictions\u001b[49m\u001b[43m(\u001b[49m\n\u001b[0;32m    209\u001b[0m \u001b[43m        \u001b[49m\u001b[43mprompt\u001b[49m\u001b[43m,\u001b[49m\n\u001b[0;32m    210\u001b[0m \u001b[43m        \u001b[49m\u001b[38;5;28;43mself\u001b[39;49m\u001b[38;5;241;43m.\u001b[39;49m\u001b[43mbbox_predictions\u001b[49m\u001b[43m[\u001b[49m\u001b[43mi\u001b[49m\u001b[43m]\u001b[49m\u001b[43m[\u001b[49m\u001b[43mprompt\u001b[49m\u001b[43m]\u001b[49m\u001b[43m,\u001b[49m\n\u001b[0;32m    211\u001b[0m \u001b[43m        \u001b[49m\u001b[38;5;28;43mself\u001b[39;49m\u001b[38;5;241;43m.\u001b[39;49m\u001b[43mrendered_images_face_ids\u001b[49m\u001b[43m[\u001b[49m\u001b[43mi\u001b[49m\u001b[43m]\u001b[49m\u001b[38;5;241;43m.\u001b[39;49m\u001b[43msqueeze\u001b[49m\u001b[43m(\u001b[49m\u001b[38;5;241;43m0\u001b[39;49m\u001b[43m)\u001b[49m\u001b[43m,\u001b[49m\n\u001b[0;32m    212\u001b[0m \u001b[43m    \u001b[49m\u001b[43m)\u001b[49m\n\u001b[0;32m    214\u001b[0m face_cls[:, j] \u001b[38;5;241m+\u001b[39m\u001b[38;5;241m=\u001b[39m face_view_prompt_score\n\u001b[0;32m    215\u001b[0m face_freq[:, j] \u001b[38;5;241m+\u001b[39m\u001b[38;5;241m=\u001b[39m face_view_prompt_freq\n",
      "File \u001b[1;32md:\\SATR-tests\\meshseg\\methods\\segmentors.py:564\u001b[0m, in \u001b[0;36mSATRSAM.process_box_predictions\u001b[1;34m(self, prompt, preds, rendering_face_ids)\u001b[0m\n\u001b[0;32m    561\u001b[0m confidence_score \u001b[38;5;241m=\u001b[39m pred_bboxes\u001b[38;5;241m.\u001b[39mget_field(\u001b[38;5;124m\"\u001b[39m\u001b[38;5;124mscores\u001b[39m\u001b[38;5;124m\"\u001b[39m)[i]\u001b[38;5;241m.\u001b[39mitem()\n\u001b[0;32m    563\u001b[0m \u001b[38;5;66;03m# Get the included face ids inside this bounding box\u001b[39;00m\n\u001b[1;32m--> 564\u001b[0m included_face_ids, not_included_face_ids \u001b[38;5;241m=\u001b[39m \u001b[38;5;28;43mself\u001b[39;49m\u001b[38;5;241;43m.\u001b[39;49m\u001b[43mget_included_face_ids\u001b[49m\u001b[43m(\u001b[49m\n\u001b[0;32m    565\u001b[0m \u001b[43m    \u001b[49m\u001b[43mrendering_face_ids\u001b[49m\u001b[43m,\u001b[49m\u001b[43m \u001b[49m\u001b[43mpred_bboxes_cor\u001b[49m\u001b[43m[\u001b[49m\u001b[43mi\u001b[49m\u001b[43m]\u001b[49m\u001b[43m,\u001b[49m\u001b[43m \u001b[49m\u001b[43mface_counter\u001b[49m\n\u001b[0;32m    566\u001b[0m \u001b[43m\u001b[49m\u001b[43m)\u001b[49m\n\u001b[0;32m    569\u001b[0m \u001b[38;5;66;03m# Compute the reweighting factors\u001b[39;00m\n\u001b[0;32m    570\u001b[0m \u001b[38;5;28mself\u001b[39m\u001b[38;5;241m.\u001b[39mpreprocessing_step_reweighting_factors(\n\u001b[0;32m    571\u001b[0m     included_face_ids,\n\u001b[0;32m    572\u001b[0m )\n",
      "File \u001b[1;32md:\\SATR-tests\\meshseg\\methods\\segmentors.py:80\u001b[0m, in \u001b[0;36mBaseDetMeshSegmentor.get_included_face_ids\u001b[1;34m(self, pixel_face_ids, bbox_cor, face_counter)\u001b[0m\n\u001b[0;32m     78\u001b[0m \u001b[38;5;28;01mfor\u001b[39;00m col \u001b[38;5;129;01min\u001b[39;00m \u001b[38;5;28mrange\u001b[39m(col_min, col_max):\n\u001b[0;32m     79\u001b[0m     \u001b[38;5;28;01mfor\u001b[39;00m row \u001b[38;5;129;01min\u001b[39;00m \u001b[38;5;28mrange\u001b[39m(row_min, row_max):\n\u001b[1;32m---> 80\u001b[0m         face_id \u001b[38;5;241m=\u001b[39m \u001b[43mpixel_face_ids\u001b[49m\u001b[43m[\u001b[49m\u001b[43mrow\u001b[49m\u001b[43m]\u001b[49m\u001b[43m[\u001b[49m\u001b[43mcol\u001b[49m\u001b[43m]\u001b[49m\u001b[38;5;241;43m.\u001b[39;49m\u001b[43mitem\u001b[49m\u001b[43m(\u001b[49m\u001b[43m)\u001b[49m\n\u001b[0;32m     81\u001b[0m         \u001b[38;5;28;01mif\u001b[39;00m face_id \u001b[38;5;241m==\u001b[39m \u001b[38;5;241m-\u001b[39m\u001b[38;5;241m1\u001b[39m:\n\u001b[0;32m     82\u001b[0m             \u001b[38;5;28;01mcontinue\u001b[39;00m\n",
      "\u001b[1;31mKeyboardInterrupt\u001b[0m: "
     ]
    }
   ],
   "source": [
    "if (object[-1].isdigit()):\n",
    "    config_path = 'configs/demo/' + object[:-2] + '.yaml'\n",
    "else:\n",
    "    config_path = 'configs/demo/' + object + '.yaml'\n",
    "\n",
    "segment(\n",
    "    config_path,\n",
    "    object + '.obj',\n",
    "    'outputs/demo/ABO/' + object + '/'\n",
    "    )"
   ]
  },
  {
   "cell_type": "markdown",
   "metadata": {},
   "source": [
    "## Vizualise Output"
   ]
  },
  {
   "cell_type": "code",
   "execution_count": null,
   "metadata": {},
   "outputs": [],
   "source": [
    "import json\n",
    "colors_dict = {\n",
    "    0: [1, 0, 0],   # Red\n",
    "    1: [0, 1, 0],   # Green\n",
    "    2: [0, 0, 1],   # Blue\n",
    "    3: [1, 1, 0],   # Yellow\n",
    "    4: [1, 0, 1],   # Magenta\n",
    "    5: [0, 1, 1],   # Cyan\n",
    "    6: [0.5, 0, 0], # Dark Red\n",
    "    7: [0, 0.5, 0], # Dark Green\n",
    "    8: [0, 0, 0.5], # Dark Blue\n",
    "    9: [0.5, 0.5, 0.5] # Gray\n",
    "}\n",
    "colors_lst = ['Red', 'Green', 'Blue', 'Yellow', 'Magenta', 'Cyan', 'Dark Red', 'Dark Green', 'Dark Blue', 'Grey']\n",
    "output_file = open('./outputs/demo/ABO/' + object + '/face_preds.json')\n",
    "output = np.array(json.load(output_file))\n",
    "segments = np.unique(output)\n",
    "segments_idx = np.unique(output, return_inverse=True)[1]\n",
    "prompts = segments.tolist()\n",
    "if ('unknown' in prompts):\n",
    "    prompts.remove('unknown')\n",
    "# print('Prompts: ', prompts)\n",
    "colors = np.array([colors_dict[segment_id] for segment_id in segments_idx])\n",
    "for i in range(len(segments)):\n",
    "    print(colors_lst[i],':\\t',segments[i])\n",
    "mp.plot(vertices, faces, colors)\n",
    "plt.show()"
   ]
  }
 ],
 "metadata": {
  "kernelspec": {
   "display_name": "meshseg",
   "language": "python",
   "name": "python3"
  },
  "language_info": {
   "codemirror_mode": {
    "name": "ipython",
    "version": 3
   },
   "file_extension": ".py",
   "mimetype": "text/x-python",
   "name": "python",
   "nbconvert_exporter": "python",
   "pygments_lexer": "ipython3",
   "version": "3.9.19"
  }
 },
 "nbformat": 4,
 "nbformat_minor": 2
}
