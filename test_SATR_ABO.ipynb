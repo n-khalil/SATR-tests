{
 "cells": [
  {
   "cell_type": "markdown",
   "metadata": {},
   "source": [
    "## Imports"
   ]
  },
  {
   "cell_type": "code",
   "execution_count": 1,
   "metadata": {},
   "outputs": [
    {
     "name": "stdout",
     "output_type": "stream",
     "text": [
      "Jupyter environment detected. Enabling Open3D WebVisualizer.\n",
      "[Open3D INFO] WebRTC GUI backend enabled.\n",
      "[Open3D INFO] WebRTCWindowSystem: HTTP handshake server disabled.\n",
      "Torch will run on: cuda:0\n"
     ]
    },
    {
     "name": "stderr",
     "output_type": "stream",
     "text": [
      "[nltk_data] Downloading package punkt to\n",
      "[nltk_data]     C:\\Users\\nkhalil\\AppData\\Roaming\\nltk_data...\n",
      "[nltk_data]   Package punkt is already up-to-date!\n",
      "[nltk_data] Downloading package averaged_perceptron_tagger to\n",
      "[nltk_data]     C:\\Users\\nkhalil\\AppData\\Roaming\\nltk_data...\n",
      "[nltk_data]   Package averaged_perceptron_tagger is already up-to-\n",
      "[nltk_data]       date!\n"
     ]
    }
   ],
   "source": [
    "# Imports and set torch device\n",
    "import numpy as np\n",
    "import meshplot as mp\n",
    "import torch\n",
    "import sys\n",
    "from scripts.helper_functions import segment\n",
    "import kaolin as kal\n",
    "import matplotlib.pyplot as plt\n",
    "from meshseg.models.GLIP.glip import GLIPModel\n",
    "import igl\n",
    "\n",
    "if torch.cuda.is_available():\n",
    "    device = torch.device(\"cuda:0\")\n",
    "    torch.cuda.set_device(device)\n",
    "else:\n",
    "    device = torch.device(\"cpu\")\n",
    "\n",
    "print('Torch will run on:', device)\n",
    "\n",
    "object = 'bed' \n",
    "obj_path = f'data/demo/{object}.obj'"
   ]
  },
  {
   "cell_type": "markdown",
   "metadata": {},
   "source": [
    "## Read Mesh"
   ]
  },
  {
   "cell_type": "code",
   "execution_count": 2,
   "metadata": {},
   "outputs": [
    {
     "name": "stdout",
     "output_type": "stream",
     "text": [
      "Number of vertices:  11973\n",
      "Number of faces:  19568\n"
     ]
    },
    {
     "data": {
      "application/vnd.jupyter.widget-view+json": {
       "model_id": "b387673ed5a34c50bffab4e1a7ebbd38",
       "version_major": 2,
       "version_minor": 0
      },
      "text/plain": [
       "Renderer(camera=PerspectiveCamera(children=(DirectionalLight(color='white', intensity=0.6, position=(-0.001309…"
      ]
     },
     "metadata": {},
     "output_type": "display_data"
    }
   ],
   "source": [
    "# Read mesh\n",
    "mesh = kal.io.obj.import_mesh(\n",
    "    obj_path,\n",
    "    with_normals=True,\n",
    "    with_materials=False,\n",
    ")\n",
    "\n",
    "vertices_tensor = mesh.vertices.to(device)\n",
    "faces_tensor = mesh.faces.to(device)\n",
    "\n",
    "vertices = vertices_tensor.detach().cpu().numpy()\n",
    "faces = faces_tensor.detach().cpu().numpy()\n",
    "color = mesh.vertex_normals.cpu().numpy()\n",
    "print('Number of vertices: ', vertices.shape[0])\n",
    "print('Number of faces: ', faces.shape[0])\n",
    "# Visualize mesh\n",
    "mp.plot(vertices, faces, color)\n",
    "plt.show()"
   ]
  },
  {
   "cell_type": "markdown",
   "metadata": {},
   "source": [
    "## Call SATR"
   ]
  },
  {
   "cell_type": "code",
   "execution_count": 3,
   "metadata": {},
   "outputs": [
    {
     "name": "stdout",
     "output_type": "stream",
     "text": [
      "Reading the mesh...\n"
     ]
    },
    {
     "name": "stderr",
     "output_type": "stream",
     "text": [
      "only got 23756/23946 samples!\n"
     ]
    },
    {
     "name": "stdout",
     "output_type": "stream",
     "text": [
      "Reading the mesh with path: data/demo\\bed.obj\n",
      "\thaving 19568 faces and 11973 vertices\n",
      "Sampling the mesh...\n",
      "Sampled 23756 points\n",
      "Creating the renderer...\n",
      "Random rendering: False\n",
      "Rendering the views...\n",
      "Num views: 12\n",
      "Rendering the views...done\n",
      "Initializing GLIP...\n",
      "VISION BACKBONE USE GRADIENT CHECKPOINTING:  False\n"
     ]
    },
    {
     "name": "stderr",
     "output_type": "stream",
     "text": [
      "c:\\ProgramData\\miniforge3\\envs\\meshseg\\lib\\site-packages\\torch\\functional.py:445: UserWarning: torch.meshgrid: in an upcoming release, it will be required to pass the indexing argument. (Triggered internally at  ..\\aten\\src\\ATen\\native\\TensorShape.cpp:2157.)\n",
      "  return _VF.meshgrid(tensors, **kwargs)  # type: ignore[attr-defined]\n"
     ]
    },
    {
     "name": "stdout",
     "output_type": "stream",
     "text": [
      "LANGUAGE BACKBONE USE GRADIENT CHECKPOINTING:  False\n",
      "EARLY FUSION ON, USING MHA-B\n",
      "EARLY FUSION ON, USING MHA-B\n",
      "EARLY FUSION ON, USING MHA-B\n",
      "EARLY FUSION ON, USING MHA-B\n",
      "EARLY FUSION ON, USING MHA-B\n",
      "EARLY FUSION ON, USING MHA-B\n",
      "EARLY FUSION ON, USING MHA-B\n",
      "EARLY FUSION ON, USING MHA-B\n",
      "Finished Initializing GLIP\n",
      "Per Sample Point scores\n",
      "Getting samples neighborhood\n",
      "Prompts: ['the bed frame of a bed.', 'the headboard of a bed.', 'the legs of a bed.', 'the mattress of a bed.']\n",
      "Feeding the views to GLIP...\n",
      "Num views: 12\n",
      "GLIP - View: 0 Prompt: 0 "
     ]
    },
    {
     "name": "stderr",
     "output_type": "stream",
     "text": [
      "c:\\ProgramData\\miniforge3\\envs\\meshseg\\lib\\site-packages\\transformers\\modeling_utils.py:977: FutureWarning: The `device` argument is deprecated and will be removed in v5 of Transformers.\n",
      "  warnings.warn(\n",
      "c:\\ProgramData\\miniforge3\\envs\\meshseg\\lib\\site-packages\\torch\\nn\\functional.py:3847: UserWarning: nn.functional.upsample_bilinear is deprecated. Use nn.functional.interpolate instead.\n",
      "  warnings.warn(\"nn.functional.upsample_bilinear is deprecated. Use nn.functional.interpolate instead.\")\n"
     ]
    },
    {
     "name": "stdout",
     "output_type": "stream",
     "text": [
      "inference time per image: 2.9170605999999992\n",
      "GLIP - View: 0 Prompt: 1 inference time per image: 0.6267911999999995\n",
      "GLIP - View: 0 Prompt: 2 inference time per image: 0.627952999999998\n",
      "GLIP - View: 0 Prompt: 3 inference time per image: 0.621358899999997\n",
      "GLIP - View: 1 Prompt: 0 inference time per image: 0.6157536999999991\n",
      "GLIP - View: 1 Prompt: 1 inference time per image: 0.6216308999999995\n",
      "GLIP - View: 1 Prompt: 2 inference time per image: 0.612991700000002\n",
      "GLIP - View: 1 Prompt: 3 inference time per image: 0.6048406999999969\n",
      "GLIP - View: 2 Prompt: 0 inference time per image: 0.6186796000000001\n",
      "GLIP - View: 2 Prompt: 1 inference time per image: 0.612755700000001\n",
      "GLIP - View: 2 Prompt: 2 inference time per image: 0.614278800000001\n",
      "GLIP - View: 2 Prompt: 3 inference time per image: 0.622154100000003\n",
      "GLIP - View: 3 Prompt: 0 inference time per image: 0.6180819\n",
      "GLIP - View: 3 Prompt: 1 inference time per image: 0.6100773000000004\n",
      "GLIP - View: 3 Prompt: 2 inference time per image: 0.6037192000000005\n",
      "GLIP - View: 3 Prompt: 3 inference time per image: 0.6175195000000002\n",
      "GLIP - View: 4 Prompt: 0 inference time per image: 0.6310120000000055\n",
      "GLIP - View: 4 Prompt: 1 inference time per image: 0.6069527000000008\n",
      "GLIP - View: 4 Prompt: 2 inference time per image: 0.6054642000000001\n",
      "GLIP - View: 4 Prompt: 3 inference time per image: 0.6194601999999989\n",
      "GLIP - View: 5 Prompt: 0 inference time per image: 0.6239834000000002\n",
      "GLIP - View: 5 Prompt: 1 inference time per image: 0.6138545999999963\n",
      "GLIP - View: 5 Prompt: 2 inference time per image: 0.6065068999999994\n",
      "GLIP - View: 5 Prompt: 3 inference time per image: 0.6238142999999994\n",
      "GLIP - View: 6 Prompt: 0 inference time per image: 0.616829199999998\n",
      "GLIP - View: 6 Prompt: 1 inference time per image: 0.6149779000000066\n",
      "GLIP - View: 6 Prompt: 2 inference time per image: 0.6051956000000018\n",
      "GLIP - View: 6 Prompt: 3 inference time per image: 0.6254114000000044\n",
      "GLIP - View: 7 Prompt: 0 inference time per image: 0.6282841000000019\n",
      "GLIP - View: 7 Prompt: 1 inference time per image: 0.6238374999999934\n",
      "GLIP - View: 7 Prompt: 2 inference time per image: 0.635060100000004\n",
      "GLIP - View: 7 Prompt: 3 inference time per image: 0.6101727000000068\n",
      "GLIP - View: 8 Prompt: 0 inference time per image: 0.6153070000000014\n",
      "GLIP - View: 8 Prompt: 1 inference time per image: 0.6308777999999933\n",
      "GLIP - View: 8 Prompt: 2 inference time per image: 0.625462799999994\n",
      "GLIP - View: 8 Prompt: 3 inference time per image: 0.6153604999999942\n",
      "GLIP - View: 9 Prompt: 0 inference time per image: 0.6224229999999977\n",
      "GLIP - View: 9 Prompt: 1 inference time per image: 0.6150655999999941\n",
      "GLIP - View: 9 Prompt: 2 inference time per image: 0.6165914999999984\n",
      "GLIP - View: 9 Prompt: 3 inference time per image: 0.618110999999999\n",
      "GLIP - View: 10 Prompt: 0 inference time per image: 0.6165063999999916\n",
      "GLIP - View: 10 Prompt: 1 inference time per image: 0.6369722999999965\n",
      "GLIP - View: 10 Prompt: 2 inference time per image: 0.6250920999999892\n",
      "GLIP - View: 10 Prompt: 3 inference time per image: 0.6388582999999954\n",
      "GLIP - View: 11 Prompt: 0 inference time per image: 0.6244686999999942\n",
      "GLIP - View: 11 Prompt: 1 inference time per image: 0.6103076999999928\n",
      "GLIP - View: 11 Prompt: 2 inference time per image: 0.6137540999999942\n",
      "GLIP - View: 11 Prompt: 3 inference time per image: 0.6350817000000006\n",
      "Finished GLIP\n"
     ]
    },
    {
     "data": {
      "application/vnd.jupyter.widget-view+json": {
       "model_id": "e0355ad021114cb296e82649685c092c",
       "version_major": 2,
       "version_minor": 0
      },
      "text/plain": [
       "0it [00:00, ?it/s]"
      ]
     },
     "metadata": {},
     "output_type": "display_data"
    },
    {
     "name": "stdout",
     "output_type": "stream",
     "text": [
      "Processing view: 0, Prompt: 0\n",
      "Processing view: 0, Prompt: 1\n",
      "Processing view: 0, Prompt: 2\n",
      "Processing view: 0, Prompt: 3\n",
      "Processing view: 1, Prompt: 0\n",
      "Processing view: 1, Prompt: 1\n",
      "Processing view: 1, Prompt: 2\n",
      "Processing view: 1, Prompt: 3\n",
      "Processing view: 2, Prompt: 0\n",
      "Processing view: 2, Prompt: 1\n",
      "Processing view: 2, Prompt: 2\n",
      "Processing view: 2, Prompt: 3\n",
      "Processing view: 3, Prompt: 0\n",
      "Processing view: 3, Prompt: 1\n",
      "Processing view: 3, Prompt: 2\n",
      "Processing view: 3, Prompt: 3\n",
      "Processing view: 4, Prompt: 0\n",
      "Processing view: 4, Prompt: 1\n",
      "Processing view: 4, Prompt: 2\n",
      "Processing view: 4, Prompt: 3\n",
      "Processing view: 5, Prompt: 0\n",
      "Processing view: 5, Prompt: 1\n",
      "Processing view: 5, Prompt: 2\n",
      "Processing view: 5, Prompt: 3\n",
      "Processing view: 6, Prompt: 0\n",
      "Processing view: 6, Prompt: 1\n",
      "Processing view: 6, Prompt: 2\n",
      "Processing view: 6, Prompt: 3\n",
      "Processing view: 7, Prompt: 0\n",
      "Processing view: 7, Prompt: 1\n",
      "Processing view: 7, Prompt: 2\n",
      "Processing view: 7, Prompt: 3\n",
      "Processing view: 8, Prompt: 0\n",
      "Processing view: 8, Prompt: 1\n",
      "Processing view: 8, Prompt: 2\n",
      "Processing view: 8, Prompt: 3\n",
      "Processing view: 9, Prompt: 0\n",
      "Processing view: 9, Prompt: 1\n",
      "Processing view: 9, Prompt: 2\n",
      "Processing view: 9, Prompt: 3\n",
      "Processing view: 10, Prompt: 0\n",
      "Processing view: 10, Prompt: 1\n",
      "Processing view: 10, Prompt: 2\n",
      "Processing view: 10, Prompt: 3\n",
      "Processing view: 11, Prompt: 0\n",
      "Processing view: 11, Prompt: 1\n",
      "Processing view: 11, Prompt: 2\n",
      "Processing view: 11, Prompt: 3\n",
      "Predicitons: torch.Size([19568, 4])\n"
     ]
    }
   ],
   "source": [
    "if (object[-1].isdigit()):\n",
    "    config_path = f'configs/demo/{object[:-2]}.yaml'\n",
    "else:\n",
    "    config_path = f'configs/demo/{object}.yaml'\n",
    "\n",
    "segment(\n",
    "    config_path,\n",
    "    f'{object}.obj',\n",
    "    f'outputs/demo/ABO/{object}/'\n",
    ")"
   ]
  },
  {
   "cell_type": "markdown",
   "metadata": {},
   "source": [
    "## Vizualise Output"
   ]
  },
  {
   "cell_type": "code",
   "execution_count": 3,
   "metadata": {},
   "outputs": [
    {
     "name": "stdout",
     "output_type": "stream",
     "text": [
      "Red :\t bed frame\n",
      "Green :\t headboard\n",
      "Blue :\t legs\n",
      "Yellow :\t mattress\n",
      "Magenta :\t unknown\n"
     ]
    },
    {
     "data": {
      "application/vnd.jupyter.widget-view+json": {
       "model_id": "b4457d060a1b4b6186c022952fafbaf2",
       "version_major": 2,
       "version_minor": 0
      },
      "text/plain": [
       "Renderer(camera=PerspectiveCamera(children=(DirectionalLight(color='white', intensity=0.6, position=(-0.001309…"
      ]
     },
     "metadata": {},
     "output_type": "display_data"
    }
   ],
   "source": [
    "import json\n",
    "colors_dict = {\n",
    "    0: [1, 0, 0],   # Red\n",
    "    1: [0, 1, 0],   # Green\n",
    "    2: [0, 0, 1],   # Blue\n",
    "    3: [1, 1, 0],   # Yellow\n",
    "    4: [1, 0, 1],   # Magenta\n",
    "    5: [0, 1, 1],   # Cyan\n",
    "    6: [0.5, 0, 0], # Dark Red\n",
    "    7: [0, 0.5, 0], # Dark Green\n",
    "    8: [0, 0, 0.5], # Dark Blue\n",
    "    9: [0.5, 0.5, 0.5] # Gray\n",
    "}\n",
    "colors_lst = ['Red', 'Green', 'Blue', 'Yellow', 'Magenta', 'Cyan', 'Dark Red', 'Dark Green', 'Dark Blue', 'Grey']\n",
    "output_file = open(f'./outputs/demo/ABO/{object}/face_preds.json')\n",
    "output = np.array(json.load(output_file))\n",
    "segments = np.unique(output)\n",
    "segments_idx = np.unique(output, return_inverse=True)[1]\n",
    "prompts = segments.tolist()\n",
    "if ('unknown' in prompts):\n",
    "    prompts.remove('unknown')\n",
    "# print('Prompts: ', prompts)\n",
    "colors = np.array([colors_dict[segment_id] for segment_id in segments_idx])\n",
    "for i in range(len(segments)):\n",
    "    print(colors_lst[i],':\\t',segments[i])\n",
    "mp.plot(vertices, faces, colors)\n",
    "plt.show()"
   ]
  }
 ],
 "metadata": {
  "kernelspec": {
   "display_name": "meshseg",
   "language": "python",
   "name": "python3"
  },
  "language_info": {
   "codemirror_mode": {
    "name": "ipython",
    "version": 3
   },
   "file_extension": ".py",
   "mimetype": "text/x-python",
   "name": "python",
   "nbconvert_exporter": "python",
   "pygments_lexer": "ipython3",
   "version": "3.9.19"
  }
 },
 "nbformat": 4,
 "nbformat_minor": 2
}
