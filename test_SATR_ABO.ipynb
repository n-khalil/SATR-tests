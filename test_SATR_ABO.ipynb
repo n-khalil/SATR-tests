{
 "cells": [
  {
   "cell_type": "markdown",
   "metadata": {},
   "source": [
    "## Imports"
   ]
  },
  {
   "cell_type": "code",
   "execution_count": 5,
   "metadata": {},
   "outputs": [
    {
     "name": "stdout",
     "output_type": "stream",
     "text": [
      "Torch will run on: cuda:0\n"
     ]
    }
   ],
   "source": [
    "# Imports and set torch device\n",
    "import numpy as np\n",
    "import meshplot as mp\n",
    "import torch\n",
    "import sys\n",
    "from scripts.helper_functions import segment\n",
    "import kaolin as kal\n",
    "import matplotlib.pyplot as plt\n",
    "from meshseg.models.GLIP.glip import GLIPModel\n",
    "import igl\n",
    "\n",
    "if torch.cuda.is_available():\n",
    "    device = torch.device(\"cuda:0\")\n",
    "    torch.cuda.set_device(device)\n",
    "else:\n",
    "    device = torch.device(\"cpu\")\n",
    "\n",
    "print('Torch will run on:', device)\n",
    "\n",
    "object = 'bed' \n",
    "obj_path = f'data/demo/{object}.obj'"
   ]
  },
  {
   "cell_type": "markdown",
   "metadata": {},
   "source": [
    "## Read Mesh"
   ]
  },
  {
   "cell_type": "code",
   "execution_count": 6,
   "metadata": {},
   "outputs": [
    {
     "name": "stdout",
     "output_type": "stream",
     "text": [
      "Number of vertices:  11973\n",
      "Number of faces:  19568\n"
     ]
    },
    {
     "data": {
      "application/vnd.jupyter.widget-view+json": {
       "model_id": "c04d89cf4f954142975db378486622ce",
       "version_major": 2,
       "version_minor": 0
      },
      "text/plain": [
       "Renderer(camera=PerspectiveCamera(children=(DirectionalLight(color='white', intensity=0.6, position=(-0.001309…"
      ]
     },
     "metadata": {},
     "output_type": "display_data"
    }
   ],
   "source": [
    "# Read mesh\n",
    "mesh = kal.io.obj.import_mesh(\n",
    "    obj_path,\n",
    "    with_normals=True,\n",
    "    with_materials=False,\n",
    ")\n",
    "\n",
    "vertices_tensor = mesh.vertices.to(device)\n",
    "faces_tensor = mesh.faces.to(device)\n",
    "\n",
    "vertices = vertices_tensor.detach().cpu().numpy()\n",
    "faces = faces_tensor.detach().cpu().numpy()\n",
    "color = mesh.vertex_normals.cpu().numpy()\n",
    "print('Number of vertices: ', vertices.shape[0])\n",
    "print('Number of faces: ', faces.shape[0])\n",
    "# Visualize mesh\n",
    "mp.plot(vertices, faces, color)\n",
    "plt.show()"
   ]
  },
  {
   "cell_type": "markdown",
   "metadata": {},
   "source": [
    "## Call SATR"
   ]
  },
  {
   "cell_type": "code",
   "execution_count": 7,
   "metadata": {},
   "outputs": [
    {
     "name": "stdout",
     "output_type": "stream",
     "text": [
      "Reading the mesh...\n",
      "Reading the mesh with path: data/demo\\bed.obj\n",
      "\thaving 19568 faces and 11973 vertices\n",
      "Sampling the mesh...\n"
     ]
    },
    {
     "name": "stderr",
     "output_type": "stream",
     "text": [
      "only got 23766/23946 samples!\n"
     ]
    },
    {
     "name": "stdout",
     "output_type": "stream",
     "text": [
      "Sampled 23766 points\n",
      "Creating the renderer...\n",
      "Random rendering: False\n",
      "Rendering the views...\n",
      "Num views: 12\n",
      "Rendering the views...done\n",
      "Initializing GLIP...\n",
      "VISION BACKBONE USE GRADIENT CHECKPOINTING:  False\n",
      "LANGUAGE BACKBONE USE GRADIENT CHECKPOINTING:  False\n",
      "EARLY FUSION ON, USING MHA-B\n",
      "EARLY FUSION ON, USING MHA-B\n",
      "EARLY FUSION ON, USING MHA-B\n",
      "EARLY FUSION ON, USING MHA-B\n",
      "EARLY FUSION ON, USING MHA-B\n",
      "EARLY FUSION ON, USING MHA-B\n",
      "EARLY FUSION ON, USING MHA-B\n",
      "EARLY FUSION ON, USING MHA-B\n",
      "Finished Initializing GLIP\n",
      "Per Sample Point scores\n",
      "Getting samples neighborhood\n",
      "Prompts: ['the bed frame of a bed.', 'the headboard of a bed.', 'the legs of a bed.', 'the mattress of a bed.']\n",
      "Feeding the views to GLIP...\n",
      "Num views: 12\n",
      "GLIP - View: 0 Prompt: 0 inference time per image: 14.811110899999903\n",
      "GLIP - View: 0 Prompt: 1 inference time per image: 15.208682299999964\n",
      "GLIP - View: 0 Prompt: 2 inference time per image: 14.506122799999957\n",
      "GLIP - View: 0 Prompt: 3 inference time per image: 14.63339940000003\n",
      "GLIP - View: 1 Prompt: 0 inference time per image: 14.423541499999942\n",
      "GLIP - View: 1 Prompt: 1 inference time per image: 14.617524300000014\n",
      "GLIP - View: 1 Prompt: 2 inference time per image: 14.494727199999943\n",
      "GLIP - View: 1 Prompt: 3 inference time per image: 14.459350799999925\n",
      "GLIP - View: 2 Prompt: 0 inference time per image: 14.61411129999999\n",
      "GLIP - View: 2 Prompt: 1 inference time per image: 14.566400300000055\n",
      "GLIP - View: 2 Prompt: 2 inference time per image: 14.613826899999935\n",
      "GLIP - View: 2 Prompt: 3 inference time per image: 14.471401400000104\n",
      "GLIP - View: 3 Prompt: 0 inference time per image: 14.56212800000003\n",
      "GLIP - View: 3 Prompt: 1 inference time per image: 14.38063909999994\n",
      "GLIP - View: 3 Prompt: 2 inference time per image: 14.467711899999927\n",
      "GLIP - View: 3 Prompt: 3 inference time per image: 14.459198000000015\n",
      "GLIP - View: 4 Prompt: 0 inference time per image: 14.268705899999986\n",
      "GLIP - View: 4 Prompt: 1 inference time per image: 14.624350999999933\n",
      "GLIP - View: 4 Prompt: 2 inference time per image: 14.488968899999918\n",
      "GLIP - View: 4 Prompt: 3 inference time per image: 14.552980599999955\n",
      "GLIP - View: 5 Prompt: 0 inference time per image: 14.611954800000035\n",
      "GLIP - View: 5 Prompt: 1 inference time per image: 14.570490899999982\n",
      "GLIP - View: 5 Prompt: 2 inference time per image: 14.47675490000006\n",
      "GLIP - View: 5 Prompt: 3 inference time per image: 14.388056100000085\n",
      "GLIP - View: 6 Prompt: 0 inference time per image: 14.568029099999876\n",
      "GLIP - View: 6 Prompt: 1 inference time per image: 14.599639000000025\n",
      "GLIP - View: 6 Prompt: 2 inference time per image: 14.5357312000001\n",
      "GLIP - View: 6 Prompt: 3 inference time per image: 14.340633000000025\n",
      "GLIP - View: 7 Prompt: 0 inference time per image: 14.421409499999982\n",
      "GLIP - View: 7 Prompt: 1 inference time per image: 14.4716848999999\n",
      "GLIP - View: 7 Prompt: 2 inference time per image: 17.067574800000102\n",
      "GLIP - View: 7 Prompt: 3 inference time per image: 15.57754490000002\n",
      "GLIP - View: 8 Prompt: 0 inference time per image: 15.646574300000111\n",
      "GLIP - View: 8 Prompt: 1 inference time per image: 15.686638500000072\n",
      "GLIP - View: 8 Prompt: 2 inference time per image: 15.742264800000157\n",
      "GLIP - View: 8 Prompt: 3 inference time per image: 15.724035800000138\n",
      "GLIP - View: 9 Prompt: 0 inference time per image: 15.681232399999999\n",
      "GLIP - View: 9 Prompt: 1 inference time per image: 15.503275900000062\n",
      "GLIP - View: 9 Prompt: 2 inference time per image: 15.633066599999893\n",
      "GLIP - View: 9 Prompt: 3 inference time per image: 15.573197700000037\n",
      "GLIP - View: 10 Prompt: 0 inference time per image: 15.715966200000139\n",
      "GLIP - View: 10 Prompt: 1 inference time per image: 15.56047969999986\n",
      "GLIP - View: 10 Prompt: 2 inference time per image: 15.794161199999962\n",
      "GLIP - View: 10 Prompt: 3 inference time per image: 15.651341000000002\n",
      "GLIP - View: 11 Prompt: 0 inference time per image: 15.35219989999996\n",
      "GLIP - View: 11 Prompt: 1 inference time per image: 15.43480899999986\n",
      "GLIP - View: 11 Prompt: 2 inference time per image: 15.271210200000041\n",
      "GLIP - View: 11 Prompt: 3 inference time per image: 15.355567299999848\n",
      "Finished GLIP\n"
     ]
    },
    {
     "data": {
      "application/vnd.jupyter.widget-view+json": {
       "model_id": "c7f6f5b191c04f228132e0f437acf5f6",
       "version_major": 2,
       "version_minor": 0
      },
      "text/plain": [
       "0it [00:00, ?it/s]"
      ]
     },
     "metadata": {},
     "output_type": "display_data"
    },
    {
     "name": "stdout",
     "output_type": "stream",
     "text": [
      "Processing view: 0, Prompt: 0\n",
      "Processing view: 0, Prompt: 1\n",
      "Processing view: 0, Prompt: 2\n",
      "Processing view: 0, Prompt: 3\n",
      "Processing view: 1, Prompt: 0\n",
      "Processing view: 1, Prompt: 1\n",
      "Processing view: 1, Prompt: 2\n",
      "Processing view: 1, Prompt: 3\n",
      "Processing view: 2, Prompt: 0\n",
      "Processing view: 2, Prompt: 1\n",
      "Processing view: 2, Prompt: 2\n",
      "Processing view: 2, Prompt: 3\n",
      "Processing view: 3, Prompt: 0\n",
      "Processing view: 3, Prompt: 1\n",
      "Processing view: 3, Prompt: 2\n",
      "Processing view: 3, Prompt: 3\n",
      "Processing view: 4, Prompt: 0\n",
      "Processing view: 4, Prompt: 1\n",
      "Processing view: 4, Prompt: 2\n",
      "Processing view: 4, Prompt: 3\n",
      "Processing view: 5, Prompt: 0\n",
      "Processing view: 5, Prompt: 1\n",
      "Processing view: 5, Prompt: 2\n",
      "Processing view: 5, Prompt: 3\n",
      "Processing view: 6, Prompt: 0\n",
      "Processing view: 6, Prompt: 1\n",
      "Processing view: 6, Prompt: 2\n",
      "Processing view: 6, Prompt: 3\n",
      "Processing view: 7, Prompt: 0\n",
      "Processing view: 7, Prompt: 1\n",
      "Processing view: 7, Prompt: 2\n",
      "Processing view: 7, Prompt: 3\n",
      "Processing view: 8, Prompt: 0\n",
      "Processing view: 8, Prompt: 1\n",
      "Processing view: 8, Prompt: 2\n",
      "Processing view: 8, Prompt: 3\n",
      "Processing view: 9, Prompt: 0\n",
      "Processing view: 9, Prompt: 1\n",
      "Processing view: 9, Prompt: 2\n",
      "Processing view: 9, Prompt: 3\n",
      "Processing view: 10, Prompt: 0\n",
      "Processing view: 10, Prompt: 1\n",
      "Processing view: 10, Prompt: 2\n",
      "Processing view: 10, Prompt: 3\n",
      "Processing view: 11, Prompt: 0\n",
      "Processing view: 11, Prompt: 1\n",
      "Processing view: 11, Prompt: 2\n",
      "Processing view: 11, Prompt: 3\n",
      "Predicitons: torch.Size([19568, 4])\n"
     ]
    }
   ],
   "source": [
    "if (object[-1].isdigit()):\n",
    "    config_path = f'configs/demo/{object[:-2]}.yaml'\n",
    "else:\n",
    "    config_path = f'configs/demo/{object}.yaml'\n",
    "\n",
    "segment(\n",
    "    config_path,\n",
    "    f'{object}.obj',\n",
    "    f'outputs/demo/ABO/{object}/'\n",
    ")"
   ]
  },
  {
   "cell_type": "markdown",
   "metadata": {},
   "source": [
    "## Vizualise Output"
   ]
  },
  {
   "cell_type": "code",
   "execution_count": 8,
   "metadata": {},
   "outputs": [
    {
     "name": "stdout",
     "output_type": "stream",
     "text": [
      "Red :\t bed frame\n",
      "Green :\t headboard\n",
      "Blue :\t legs\n",
      "Yellow :\t mattress\n",
      "Magenta :\t unknown\n"
     ]
    },
    {
     "data": {
      "application/vnd.jupyter.widget-view+json": {
       "model_id": "f882eb503cff4f748948b4cbb2862b5c",
       "version_major": 2,
       "version_minor": 0
      },
      "text/plain": [
       "Renderer(camera=PerspectiveCamera(children=(DirectionalLight(color='white', intensity=0.6, position=(-0.001309…"
      ]
     },
     "metadata": {},
     "output_type": "display_data"
    }
   ],
   "source": [
    "import json\n",
    "colors_dict = {\n",
    "    0: [1, 0, 0],   # Red\n",
    "    1: [0, 1, 0],   # Green\n",
    "    2: [0, 0, 1],   # Blue\n",
    "    3: [1, 1, 0],   # Yellow\n",
    "    4: [1, 0, 1],   # Magenta\n",
    "    5: [0, 1, 1],   # Cyan\n",
    "    6: [0.5, 0, 0], # Dark Red\n",
    "    7: [0, 0.5, 0], # Dark Green\n",
    "    8: [0, 0, 0.5], # Dark Blue\n",
    "    9: [0.5, 0.5, 0.5] # Gray\n",
    "}\n",
    "colors_lst = ['Red', 'Green', 'Blue', 'Yellow', 'Magenta', 'Cyan', 'Dark Red', 'Dark Green', 'Dark Blue', 'Grey']\n",
    "output_file = open(f'./outputs/demo/ABO/{object}/face_preds.json')\n",
    "output = np.array(json.load(output_file))\n",
    "segments = np.unique(output)\n",
    "segments_idx = np.unique(output, return_inverse=True)[1]\n",
    "prompts = segments.tolist()\n",
    "if ('unknown' in prompts):\n",
    "    prompts.remove('unknown')\n",
    "# print('Prompts: ', prompts)\n",
    "colors = np.array([colors_dict[segment_id] for segment_id in segments_idx])\n",
    "for i in range(len(segments)):\n",
    "    print(colors_lst[i],':\\t',segments[i])\n",
    "mp.plot(vertices, faces, colors)\n",
    "plt.show()"
   ]
  }
 ],
 "metadata": {
  "kernelspec": {
   "display_name": "meshseg",
   "language": "python",
   "name": "python3"
  },
  "language_info": {
   "codemirror_mode": {
    "name": "ipython",
    "version": 3
   },
   "file_extension": ".py",
   "mimetype": "text/x-python",
   "name": "python",
   "nbconvert_exporter": "python",
   "pygments_lexer": "ipython3",
   "version": "3.9.19"
  }
 },
 "nbformat": 4,
 "nbformat_minor": 2
}
