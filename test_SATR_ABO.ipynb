{
 "cells": [
  {
   "cell_type": "markdown",
   "metadata": {},
   "source": [
    "## Imports"
   ]
  },
  {
   "cell_type": "code",
   "execution_count": 5,
   "metadata": {},
   "outputs": [
    {
     "name": "stdout",
     "output_type": "stream",
     "text": [
      "Torch will run on: cuda:0\n"
     ]
    }
   ],
   "source": [
    "# Imports and set torch device\n",
    "import numpy as np\n",
    "import meshplot as mp\n",
    "import torch\n",
    "import sys\n",
    "from scripts.helper_functions import segment\n",
    "import kaolin as kal\n",
    "import matplotlib.pyplot as plt\n",
    "from meshseg.models.GLIP.glip import GLIPModel\n",
    "import igl\n",
    "\n",
    "if torch.cuda.is_available():\n",
    "    device = torch.device(\"cuda:0\")\n",
    "    torch.cuda.set_device(device)\n",
    "else:\n",
    "    device = torch.device(\"cpu\")\n",
    "\n",
    "print('Torch will run on:', device)\n",
    "\n",
    "object = 'bookshelf' \n",
    "obj_path = f'data/demo/{object}.obj'"
   ]
  },
  {
   "cell_type": "markdown",
   "metadata": {},
   "source": [
    "## Read Mesh"
   ]
  },
  {
   "cell_type": "code",
   "execution_count": 6,
   "metadata": {},
   "outputs": [
    {
     "name": "stdout",
     "output_type": "stream",
     "text": [
      "Number of vertices:  5786\n",
      "Number of faces:  8624\n"
     ]
    },
    {
     "data": {
      "application/vnd.jupyter.widget-view+json": {
       "model_id": "65fc940cf37b490e99992182501af132",
       "version_major": 2,
       "version_minor": 0
      },
      "text/plain": [
       "Renderer(camera=PerspectiveCamera(children=(DirectionalLight(color='white', intensity=0.6, position=(3.4272670…"
      ]
     },
     "metadata": {},
     "output_type": "display_data"
    }
   ],
   "source": [
    "# Read mesh\n",
    "mesh = kal.io.obj.import_mesh(\n",
    "    obj_path,\n",
    "    with_normals=True,\n",
    "    with_materials=False,\n",
    ")\n",
    "\n",
    "vertices_tensor = mesh.vertices.to(device)\n",
    "faces_tensor = mesh.faces.to(device)\n",
    "\n",
    "vertices = vertices_tensor.detach().cpu().numpy()\n",
    "faces = faces_tensor.detach().cpu().numpy()\n",
    "color = mesh.vertex_normals.cpu().numpy()\n",
    "print('Number of vertices: ', vertices.shape[0])\n",
    "print('Number of faces: ', faces.shape[0])\n",
    "# Visualize mesh\n",
    "mp.plot(vertices, faces, color)\n",
    "plt.show()"
   ]
  },
  {
   "cell_type": "markdown",
   "metadata": {},
   "source": [
    "## Call SATR"
   ]
  },
  {
   "cell_type": "code",
   "execution_count": 3,
   "metadata": {},
   "outputs": [
    {
     "name": "stdout",
     "output_type": "stream",
     "text": [
      "Reading the mesh...\n"
     ]
    },
    {
     "name": "stderr",
     "output_type": "stream",
     "text": [
      "only got 23614/23946 samples!\n"
     ]
    },
    {
     "name": "stdout",
     "output_type": "stream",
     "text": [
      "Reading the mesh with path: data/demo\\bed.obj\n",
      "\thaving 19568 faces and 11973 vertices\n",
      "Sampling the mesh...\n",
      "Sampled 23614 points\n",
      "Creating the renderer...\n",
      "Random rendering: False\n",
      "Rendering the views...\n",
      "Num views: 12\n",
      "Rendering the views...done\n",
      "Initializing GLIP...\n",
      "VISION BACKBONE USE GRADIENT CHECKPOINTING:  False\n"
     ]
    },
    {
     "name": "stderr",
     "output_type": "stream",
     "text": [
      "c:\\ProgramData\\miniforge3\\envs\\meshseg\\lib\\site-packages\\torch\\functional.py:445: UserWarning: torch.meshgrid: in an upcoming release, it will be required to pass the indexing argument. (Triggered internally at  ..\\aten\\src\\ATen\\native\\TensorShape.cpp:2157.)\n",
      "  return _VF.meshgrid(tensors, **kwargs)  # type: ignore[attr-defined]\n"
     ]
    },
    {
     "name": "stdout",
     "output_type": "stream",
     "text": [
      "LANGUAGE BACKBONE USE GRADIENT CHECKPOINTING:  False\n",
      "EARLY FUSION ON, USING MHA-B\n",
      "EARLY FUSION ON, USING MHA-B\n",
      "EARLY FUSION ON, USING MHA-B\n",
      "EARLY FUSION ON, USING MHA-B\n",
      "EARLY FUSION ON, USING MHA-B\n",
      "EARLY FUSION ON, USING MHA-B\n",
      "EARLY FUSION ON, USING MHA-B\n",
      "EARLY FUSION ON, USING MHA-B\n",
      "Finished Initializing GLIP\n",
      "Per Sample Point scores\n",
      "Getting samples neighborhood\n",
      "Prompts: ['the bed frame of a bed.', 'the headboard of a bed.', 'the legs of a bed.', 'the mattress of a bed.']\n",
      "Feeding the views to GLIP...\n",
      "Num views: 12\n",
      "GLIP - View: 0 Prompt: 0 "
     ]
    },
    {
     "name": "stderr",
     "output_type": "stream",
     "text": [
      "c:\\ProgramData\\miniforge3\\envs\\meshseg\\lib\\site-packages\\transformers\\modeling_utils.py:977: FutureWarning: The `device` argument is deprecated and will be removed in v5 of Transformers.\n",
      "  warnings.warn(\n",
      "c:\\ProgramData\\miniforge3\\envs\\meshseg\\lib\\site-packages\\torch\\nn\\functional.py:3847: UserWarning: nn.functional.upsample_bilinear is deprecated. Use nn.functional.interpolate instead.\n",
      "  warnings.warn(\"nn.functional.upsample_bilinear is deprecated. Use nn.functional.interpolate instead.\")\n"
     ]
    },
    {
     "name": "stdout",
     "output_type": "stream",
     "text": [
      "inference time per image: 2.6312619999999995\n",
      "GLIP - View: 0 Prompt: 1 inference time per image: 0.5225150999999997\n",
      "GLIP - View: 0 Prompt: 2 inference time per image: 0.5293267999999998\n",
      "GLIP - View: 0 Prompt: 3 inference time per image: 0.5213731999999993\n",
      "GLIP - View: 1 Prompt: 0 inference time per image: 0.5225956999999966\n",
      "GLIP - View: 1 Prompt: 1 inference time per image: 0.5266451999999973\n",
      "GLIP - View: 1 Prompt: 2 inference time per image: 0.5173842000000022\n",
      "GLIP - View: 1 Prompt: 3 inference time per image: 0.5180608999999947\n",
      "GLIP - View: 2 Prompt: 0 inference time per image: 0.5215979999999973\n",
      "GLIP - View: 2 Prompt: 1 inference time per image: 0.5139999000000017\n",
      "GLIP - View: 2 Prompt: 2 inference time per image: 0.5154011999999994\n",
      "GLIP - View: 2 Prompt: 3 inference time per image: 0.5146127000000007\n",
      "GLIP - View: 3 Prompt: 0 inference time per image: 0.5181858999999989\n",
      "GLIP - View: 3 Prompt: 1 inference time per image: 0.5161607999999944\n",
      "GLIP - View: 3 Prompt: 2 inference time per image: 0.5020632999999961\n",
      "GLIP - View: 3 Prompt: 3 inference time per image: 0.5178641000000042\n",
      "GLIP - View: 4 Prompt: 0 inference time per image: 0.5182349999999971\n",
      "GLIP - View: 4 Prompt: 1 inference time per image: 0.507596300000003\n",
      "GLIP - View: 4 Prompt: 2 inference time per image: 0.5065264000000056\n",
      "GLIP - View: 4 Prompt: 3 inference time per image: 0.5003920999999991\n",
      "GLIP - View: 5 Prompt: 0 inference time per image: 0.5106867999999949\n",
      "GLIP - View: 5 Prompt: 1 inference time per image: 0.5045967000000076\n",
      "GLIP - View: 5 Prompt: 2 inference time per image: 0.5078222000000068\n",
      "GLIP - View: 5 Prompt: 3 inference time per image: 0.5144126\n",
      "GLIP - View: 6 Prompt: 0 inference time per image: 0.5203881999999993\n",
      "GLIP - View: 6 Prompt: 1 inference time per image: 0.5317905999999937\n",
      "GLIP - View: 6 Prompt: 2 inference time per image: 0.5136246\n",
      "GLIP - View: 6 Prompt: 3 inference time per image: 0.5165226999999959\n",
      "GLIP - View: 7 Prompt: 0 inference time per image: 0.5138609999999915\n",
      "GLIP - View: 7 Prompt: 1 inference time per image: 0.5234552000000008\n",
      "GLIP - View: 7 Prompt: 2 inference time per image: 0.5281274999999965\n",
      "GLIP - View: 7 Prompt: 3 inference time per image: 0.5194700999999924\n",
      "GLIP - View: 8 Prompt: 0 inference time per image: 0.5246587000000034\n",
      "GLIP - View: 8 Prompt: 1 inference time per image: 0.5274476000000021\n",
      "GLIP - View: 8 Prompt: 2 inference time per image: 0.5238566999999961\n",
      "GLIP - View: 8 Prompt: 3 inference time per image: 0.5221499000000023\n",
      "GLIP - View: 9 Prompt: 0 inference time per image: 0.5179880999999966\n",
      "GLIP - View: 9 Prompt: 1 inference time per image: 0.5189965000000001\n",
      "GLIP - View: 9 Prompt: 2 inference time per image: 0.5234063999999989\n",
      "GLIP - View: 9 Prompt: 3 inference time per image: 0.5126886000000042\n",
      "GLIP - View: 10 Prompt: 0 inference time per image: 0.5022614999999888\n",
      "GLIP - View: 10 Prompt: 1 inference time per image: 0.5250275000000073\n",
      "GLIP - View: 10 Prompt: 2 inference time per image: 0.5197476000000023\n",
      "GLIP - View: 10 Prompt: 3 inference time per image: 0.5174976000000129\n",
      "GLIP - View: 11 Prompt: 0 inference time per image: 0.5207565000000045\n",
      "GLIP - View: 11 Prompt: 1 inference time per image: 0.5254292000000049\n",
      "GLIP - View: 11 Prompt: 2 inference time per image: 0.5098050000000001\n",
      "GLIP - View: 11 Prompt: 3 inference time per image: 0.533469800000006\n",
      "Finished GLIP\n"
     ]
    },
    {
     "data": {
      "application/vnd.jupyter.widget-view+json": {
       "model_id": "a1b16939067a40d69d8b81c75ca73d6e",
       "version_major": 2,
       "version_minor": 0
      },
      "text/plain": [
       "0it [00:00, ?it/s]"
      ]
     },
     "metadata": {},
     "output_type": "display_data"
    },
    {
     "name": "stdout",
     "output_type": "stream",
     "text": [
      "Processing view: 0, Prompt: 0\n",
      "Processing view: 0, Prompt: 1\n",
      "Processing view: 0, Prompt: 2\n",
      "Processing view: 0, Prompt: 3\n",
      "Processing view: 1, Prompt: 0\n",
      "Processing view: 1, Prompt: 1\n",
      "Processing view: 1, Prompt: 2\n",
      "Processing view: 1, Prompt: 3\n",
      "Processing view: 2, Prompt: 0\n",
      "Processing view: 2, Prompt: 1\n",
      "Processing view: 2, Prompt: 2\n",
      "Processing view: 2, Prompt: 3\n",
      "Processing view: 3, Prompt: 0\n",
      "Processing view: 3, Prompt: 1\n",
      "Processing view: 3, Prompt: 2\n",
      "Processing view: 3, Prompt: 3\n",
      "Processing view: 4, Prompt: 0\n",
      "Processing view: 4, Prompt: 1\n",
      "Processing view: 4, Prompt: 2\n",
      "Processing view: 4, Prompt: 3\n",
      "Processing view: 5, Prompt: 0\n",
      "Processing view: 5, Prompt: 1\n",
      "Processing view: 5, Prompt: 2\n",
      "Processing view: 5, Prompt: 3\n",
      "Processing view: 6, Prompt: 0\n",
      "Processing view: 6, Prompt: 1\n",
      "Processing view: 6, Prompt: 2\n",
      "Processing view: 6, Prompt: 3\n",
      "Processing view: 7, Prompt: 0\n",
      "Processing view: 7, Prompt: 1\n",
      "Processing view: 7, Prompt: 2\n",
      "Processing view: 7, Prompt: 3\n",
      "Processing view: 8, Prompt: 0\n",
      "Processing view: 8, Prompt: 1\n",
      "Processing view: 8, Prompt: 2\n",
      "Processing view: 8, Prompt: 3\n",
      "Processing view: 9, Prompt: 0\n",
      "Processing view: 9, Prompt: 1\n",
      "Processing view: 9, Prompt: 2\n",
      "Processing view: 9, Prompt: 3\n",
      "Processing view: 10, Prompt: 0\n",
      "Processing view: 10, Prompt: 1\n",
      "Processing view: 10, Prompt: 2\n",
      "Processing view: 10, Prompt: 3\n",
      "Processing view: 11, Prompt: 0\n",
      "Processing view: 11, Prompt: 1\n",
      "Processing view: 11, Prompt: 2\n",
      "Processing view: 11, Prompt: 3\n",
      "Predicitons: torch.Size([19568, 4])\n"
     ]
    }
   ],
   "source": [
    "if (object[-1].isdigit()):\n",
    "    config_path = f'configs/demo/{object[:-2]}.yaml'\n",
    "else:\n",
    "    config_path = f'configs/demo/{object}.yaml'\n",
    "\n",
    "segment(\n",
    "    config_path,\n",
    "    f'{object}.obj',\n",
    "    f'outputs/demo/ABO/{object}/'\n",
    ")"
   ]
  },
  {
   "cell_type": "markdown",
   "metadata": {},
   "source": [
    "## Vizualise Output"
   ]
  },
  {
   "cell_type": "code",
   "execution_count": 7,
   "metadata": {},
   "outputs": [
    {
     "name": "stdout",
     "output_type": "stream",
     "text": [
      "Red :\t back panel\n",
      "Green :\t bottom\n",
      "Blue :\t shelves\n",
      "Yellow :\t sides\n",
      "Magenta :\t top\n",
      "Cyan :\t unknown\n"
     ]
    },
    {
     "data": {
      "application/vnd.jupyter.widget-view+json": {
       "model_id": "c7c4ca89881f4cc1959c95e2ed8fd935",
       "version_major": 2,
       "version_minor": 0
      },
      "text/plain": [
       "Renderer(camera=PerspectiveCamera(children=(DirectionalLight(color='white', intensity=0.6, position=(3.4272670…"
      ]
     },
     "metadata": {},
     "output_type": "display_data"
    }
   ],
   "source": [
    "import json\n",
    "colors_dict = {\n",
    "    0: [1, 0, 0],   # Red\n",
    "    1: [0, 1, 0],   # Green\n",
    "    2: [0, 0, 1],   # Blue\n",
    "    3: [1, 1, 0],   # Yellow\n",
    "    4: [1, 0, 1],   # Magenta\n",
    "    5: [0, 1, 1],   # Cyan\n",
    "    6: [0.5, 0, 0], # Dark Red\n",
    "    7: [0, 0.5, 0], # Dark Green\n",
    "    8: [0, 0, 0.5], # Dark Blue\n",
    "    9: [0.5, 0.5, 0.5] # Gray\n",
    "}\n",
    "colors_lst = ['Red', 'Green', 'Blue', 'Yellow', 'Magenta', 'Cyan', 'Dark Red', 'Dark Green', 'Dark Blue', 'Grey']\n",
    "output_file = open(f'./outputs/demo/ABO/{object}/face_preds.json')\n",
    "output = np.array(json.load(output_file))\n",
    "segments = np.unique(output)\n",
    "segments_idx = np.unique(output, return_inverse=True)[1]\n",
    "prompts = segments.tolist()\n",
    "if ('unknown' in prompts):\n",
    "    prompts.remove('unknown')\n",
    "# print('Prompts: ', prompts)\n",
    "colors = np.array([colors_dict[segment_id] for segment_id in segments_idx])\n",
    "for i in range(len(segments)):\n",
    "    print(colors_lst[i],':\\t',segments[i])\n",
    "mp.plot(vertices, faces, colors)\n",
    "plt.show()"
   ]
  }
 ],
 "metadata": {
  "kernelspec": {
   "display_name": "meshseg",
   "language": "python",
   "name": "python3"
  },
  "language_info": {
   "codemirror_mode": {
    "name": "ipython",
    "version": 3
   },
   "file_extension": ".py",
   "mimetype": "text/x-python",
   "name": "python",
   "nbconvert_exporter": "python",
   "pygments_lexer": "ipython3",
   "version": "3.9.19"
  }
 },
 "nbformat": 4,
 "nbformat_minor": 2
}
