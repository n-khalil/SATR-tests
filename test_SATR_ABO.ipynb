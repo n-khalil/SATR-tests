{
 "cells": [
  {
   "cell_type": "markdown",
   "metadata": {},
   "source": [
    "## Imports"
   ]
  },
  {
   "cell_type": "code",
   "execution_count": 8,
   "metadata": {},
   "outputs": [
    {
     "name": "stdout",
     "output_type": "stream",
     "text": [
      "Torch will run on: cuda:0\n"
     ]
    }
   ],
   "source": [
    "# Imports and set torch device\n",
    "import numpy as np\n",
    "import meshplot as mp\n",
    "import torch\n",
    "import sys\n",
    "from scripts.helper_functions import segment\n",
    "import kaolin as kal\n",
    "import matplotlib.pyplot as plt\n",
    "from meshseg.models.GLIP.glip import GLIPModel\n",
    "import igl\n",
    "\n",
    "if torch.cuda.is_available():\n",
    "    device = torch.device(\"cuda:0\")\n",
    "    torch.cuda.set_device(device)\n",
    "else:\n",
    "    device = torch.device(\"cpu\")\n",
    "\n",
    "print('Torch will run on:', device)\n",
    "\n",
    "object = 'bed' \n",
    "obj_path = f'data/demo/{object}.obj'"
   ]
  },
  {
   "cell_type": "markdown",
   "metadata": {},
   "source": [
    "## Read Mesh"
   ]
  },
  {
   "cell_type": "code",
   "execution_count": 9,
   "metadata": {},
   "outputs": [
    {
     "name": "stdout",
     "output_type": "stream",
     "text": [
      "Number of vertices:  11973\n",
      "Number of faces:  19568\n"
     ]
    },
    {
     "data": {
      "application/vnd.jupyter.widget-view+json": {
       "model_id": "86a1f4316149481ba5b24fe6dc840dbb",
       "version_major": 2,
       "version_minor": 0
      },
      "text/plain": [
       "Renderer(camera=PerspectiveCamera(children=(DirectionalLight(color='white', intensity=0.6, position=(-0.001309…"
      ]
     },
     "metadata": {},
     "output_type": "display_data"
    }
   ],
   "source": [
    "# Read mesh\n",
    "mesh = kal.io.obj.import_mesh(\n",
    "    obj_path,\n",
    "    with_normals=True,\n",
    "    with_materials=False,\n",
    ")\n",
    "\n",
    "vertices_tensor = mesh.vertices.to(device)\n",
    "faces_tensor = mesh.faces.to(device)\n",
    "\n",
    "vertices = vertices_tensor.detach().cpu().numpy()\n",
    "faces = faces_tensor.detach().cpu().numpy()\n",
    "color = mesh.vertex_normals.cpu().numpy()\n",
    "print('Number of vertices: ', vertices.shape[0])\n",
    "print('Number of faces: ', faces.shape[0])\n",
    "# Visualize mesh\n",
    "mp.plot(vertices, faces, color)\n",
    "plt.show()"
   ]
  },
  {
   "cell_type": "markdown",
   "metadata": {},
   "source": [
    "## Call SATR"
   ]
  },
  {
   "cell_type": "code",
   "execution_count": 10,
   "metadata": {},
   "outputs": [
    {
     "name": "stdout",
     "output_type": "stream",
     "text": [
      "Reading the mesh...\n",
      "Reading the mesh with path: data/demo\\bed.obj\n",
      "\thaving 19568 faces and 11973 vertices\n",
      "Sampling the mesh...\n"
     ]
    },
    {
     "name": "stderr",
     "output_type": "stream",
     "text": [
      "only got 23710/23946 samples!\n"
     ]
    },
    {
     "name": "stdout",
     "output_type": "stream",
     "text": [
      "Sampled 23710 points\n",
      "Creating the renderer...\n",
      "Random rendering: False\n",
      "Rendering the views...\n",
      "Num views: 12\n",
      "Rendering the views...done\n",
      "Initializing GLIP...\n",
      "VISION BACKBONE USE GRADIENT CHECKPOINTING:  False\n",
      "LANGUAGE BACKBONE USE GRADIENT CHECKPOINTING:  False\n",
      "EARLY FUSION ON, USING MHA-B\n",
      "EARLY FUSION ON, USING MHA-B\n",
      "EARLY FUSION ON, USING MHA-B\n",
      "EARLY FUSION ON, USING MHA-B\n",
      "EARLY FUSION ON, USING MHA-B\n",
      "EARLY FUSION ON, USING MHA-B\n",
      "EARLY FUSION ON, USING MHA-B\n",
      "EARLY FUSION ON, USING MHA-B\n",
      "Finished Initializing GLIP\n"
     ]
    },
    {
     "data": {
      "application/vnd.jupyter.widget-view+json": {
       "model_id": "b7b7726de6f1400b9b6b5db585756a4c",
       "version_major": 2,
       "version_minor": 0
      },
      "text/plain": [
       "  0%|          | 0/23710 [00:00<?, ?it/s]"
      ]
     },
     "metadata": {},
     "output_type": "display_data"
    },
    {
     "name": "stdout",
     "output_type": "stream",
     "text": [
      "Per Sample Point scores\n",
      "Getting samples neighborhood\n",
      "Prompts: ['the bed frame of a bed.', 'the headboard of a bed.', 'the legs of a bed.', 'the mattress of a bed.']\n",
      "Feeding the views to GLIP...\n",
      "Num views: 12\n",
      "GLIP - View: 0 Prompt: 0 "
     ]
    },
    {
     "name": "stderr",
     "output_type": "stream",
     "text": [
      "c:\\ProgramData\\miniforge3\\envs\\meshseg\\lib\\site-packages\\transformers\\modeling_utils.py:977: FutureWarning: The `device` argument is deprecated and will be removed in v5 of Transformers.\n",
      "  warnings.warn(\n",
      "c:\\ProgramData\\miniforge3\\envs\\meshseg\\lib\\site-packages\\torch\\nn\\functional.py:3847: UserWarning: nn.functional.upsample_bilinear is deprecated. Use nn.functional.interpolate instead.\n",
      "  warnings.warn(\"nn.functional.upsample_bilinear is deprecated. Use nn.functional.interpolate instead.\")\n"
     ]
    },
    {
     "name": "stdout",
     "output_type": "stream",
     "text": [
      "inference time per image: 0.8685755000001336\n",
      "GLIP - View: 0 Prompt: 1 inference time per image: 0.6027295000003505\n",
      "GLIP - View: 0 Prompt: 2 inference time per image: 0.6048329000000194\n",
      "GLIP - View: 0 Prompt: 3 inference time per image: 0.6015929000000142\n",
      "GLIP - View: 1 Prompt: 0 inference time per image: 0.6121003000002929\n",
      "GLIP - View: 1 Prompt: 1 inference time per image: 0.6083807999998498\n",
      "GLIP - View: 1 Prompt: 2 inference time per image: 0.5999583000002531\n",
      "GLIP - View: 1 Prompt: 3 inference time per image: 0.6071596000001591\n",
      "GLIP - View: 2 Prompt: 0 inference time per image: 0.6014647000001787\n",
      "GLIP - View: 2 Prompt: 1 inference time per image: 0.6043635999999424\n",
      "GLIP - View: 2 Prompt: 2 inference time per image: 0.6073489000000336\n",
      "GLIP - View: 2 Prompt: 3 inference time per image: 0.6030077000000347\n",
      "GLIP - View: 3 Prompt: 0 inference time per image: 0.6040815999999722\n",
      "GLIP - View: 3 Prompt: 1 inference time per image: 0.5983166000000892\n",
      "GLIP - View: 3 Prompt: 2 inference time per image: 0.5979529000001094\n",
      "GLIP - View: 3 Prompt: 3 inference time per image: 0.6111932999997407\n",
      "GLIP - View: 4 Prompt: 0 inference time per image: 0.6140498999998272\n",
      "GLIP - View: 4 Prompt: 1 inference time per image: 0.6151009000000158\n",
      "GLIP - View: 4 Prompt: 2 inference time per image: 0.6085781000001589\n",
      "GLIP - View: 4 Prompt: 3 inference time per image: 0.6104652000003625\n",
      "GLIP - View: 5 Prompt: 0 inference time per image: 0.5919170000001941\n",
      "GLIP - View: 5 Prompt: 1 inference time per image: 0.5943946000002143\n",
      "GLIP - View: 5 Prompt: 2 inference time per image: 0.6027991999999358\n",
      "GLIP - View: 5 Prompt: 3 inference time per image: 0.6086286999998265\n",
      "GLIP - View: 6 Prompt: 0 inference time per image: 0.606828399999813\n",
      "GLIP - View: 6 Prompt: 1 inference time per image: 0.6129310999999689\n",
      "GLIP - View: 6 Prompt: 2 inference time per image: 0.6073977999999443\n",
      "GLIP - View: 6 Prompt: 3 inference time per image: 0.6127730000002884\n",
      "GLIP - View: 7 Prompt: 0 inference time per image: 0.6161900000001879\n",
      "GLIP - View: 7 Prompt: 1 inference time per image: 0.6120101999999861\n",
      "GLIP - View: 7 Prompt: 2 inference time per image: 0.6513850000001185\n",
      "GLIP - View: 7 Prompt: 3 inference time per image: 0.5980721000000813\n",
      "GLIP - View: 8 Prompt: 0 inference time per image: 0.6047453999999561\n",
      "GLIP - View: 8 Prompt: 1 inference time per image: 0.6043955999998616\n",
      "GLIP - View: 8 Prompt: 2 inference time per image: 0.6151653000001716\n",
      "GLIP - View: 8 Prompt: 3 inference time per image: 0.6095420999999988\n",
      "GLIP - View: 9 Prompt: 0 inference time per image: 0.6140067999999701\n",
      "GLIP - View: 9 Prompt: 1 inference time per image: 0.6087824000001092\n",
      "GLIP - View: 9 Prompt: 2 inference time per image: 0.6152846999998474\n",
      "GLIP - View: 9 Prompt: 3 inference time per image: 0.6109122999996544\n",
      "GLIP - View: 10 Prompt: 0 inference time per image: 0.6220752999997785\n",
      "GLIP - View: 10 Prompt: 1 inference time per image: 0.6113659000002372\n",
      "GLIP - View: 10 Prompt: 2 inference time per image: 0.6162398999999823\n",
      "GLIP - View: 10 Prompt: 3 inference time per image: 0.5989363999997295\n",
      "GLIP - View: 11 Prompt: 0 inference time per image: 0.6073794999997517\n",
      "GLIP - View: 11 Prompt: 1 inference time per image: 0.6126939999999195\n",
      "GLIP - View: 11 Prompt: 2 inference time per image: 0.619070499999907\n",
      "GLIP - View: 11 Prompt: 3 inference time per image: 0.6113992999999027\n",
      "Finished GLIP\n"
     ]
    },
    {
     "data": {
      "application/vnd.jupyter.widget-view+json": {
       "model_id": "9b4f9de15afd41298fe3cec70e106a05",
       "version_major": 2,
       "version_minor": 0
      },
      "text/plain": [
       "0it [00:00, ?it/s]"
      ]
     },
     "metadata": {},
     "output_type": "display_data"
    },
    {
     "name": "stdout",
     "output_type": "stream",
     "text": [
      "Processing view: 0, Prompt: 0\n",
      "Processing view: 0, Prompt: 1\n",
      "Processing view: 0, Prompt: 2\n",
      "Processing view: 0, Prompt: 3\n",
      "Processing view: 1, Prompt: 0\n",
      "Processing view: 1, Prompt: 1\n",
      "Processing view: 1, Prompt: 2\n",
      "Processing view: 1, Prompt: 3\n",
      "Processing view: 2, Prompt: 0\n",
      "Processing view: 2, Prompt: 1\n",
      "Processing view: 2, Prompt: 2\n",
      "Processing view: 2, Prompt: 3\n",
      "Processing view: 3, Prompt: 0\n",
      "Processing view: 3, Prompt: 1\n",
      "Processing view: 3, Prompt: 2\n",
      "Processing view: 3, Prompt: 3\n",
      "Processing view: 4, Prompt: 0\n",
      "Processing view: 4, Prompt: 1\n",
      "Processing view: 4, Prompt: 2\n",
      "Processing view: 4, Prompt: 3\n",
      "Processing view: 5, Prompt: 0\n",
      "Processing view: 5, Prompt: 1\n",
      "Processing view: 5, Prompt: 2\n",
      "Processing view: 5, Prompt: 3\n",
      "Processing view: 6, Prompt: 0\n",
      "Processing view: 6, Prompt: 1\n",
      "Processing view: 6, Prompt: 2\n",
      "Processing view: 6, Prompt: 3\n",
      "Processing view: 7, Prompt: 0\n",
      "Processing view: 7, Prompt: 1\n",
      "Processing view: 7, Prompt: 2\n",
      "Processing view: 7, Prompt: 3\n",
      "Processing view: 8, Prompt: 0\n",
      "Processing view: 8, Prompt: 1\n",
      "Processing view: 8, Prompt: 2\n",
      "Processing view: 8, Prompt: 3\n",
      "Processing view: 9, Prompt: 0\n",
      "Processing view: 9, Prompt: 1\n",
      "Processing view: 9, Prompt: 2\n",
      "Processing view: 9, Prompt: 3\n",
      "Processing view: 10, Prompt: 0\n",
      "Processing view: 10, Prompt: 1\n",
      "Processing view: 10, Prompt: 2\n",
      "Processing view: 10, Prompt: 3\n",
      "Processing view: 11, Prompt: 0\n",
      "Processing view: 11, Prompt: 1\n",
      "Processing view: 11, Prompt: 2\n",
      "Processing view: 11, Prompt: 3\n",
      "Predicitons: torch.Size([19568, 4])\n"
     ]
    }
   ],
   "source": [
    "if (object[-1].isdigit()):\n",
    "    config_path = 'configs/demo/' + object[:-2] + '.yaml'\n",
    "else:\n",
    "    config_path = 'configs/demo/' + object + '.yaml'\n",
    "\n",
    "segment(\n",
    "    config_path,\n",
    "    object + '.obj',\n",
    "    'outputs/demo/ABO/' + object + '/'\n",
    ")"
   ]
  },
  {
   "cell_type": "markdown",
   "metadata": {},
   "source": [
    "## Vizualise Output"
   ]
  },
  {
   "cell_type": "code",
   "execution_count": 11,
   "metadata": {},
   "outputs": [
    {
     "name": "stdout",
     "output_type": "stream",
     "text": [
      "Red :\t bed frame\n",
      "Green :\t headboard\n",
      "Blue :\t legs\n",
      "Yellow :\t mattress\n",
      "Magenta :\t unknown\n"
     ]
    },
    {
     "data": {
      "application/vnd.jupyter.widget-view+json": {
       "model_id": "f2c263c17a7f4161935a6f684aa7e04f",
       "version_major": 2,
       "version_minor": 0
      },
      "text/plain": [
       "Renderer(camera=PerspectiveCamera(children=(DirectionalLight(color='white', intensity=0.6, position=(-0.001309…"
      ]
     },
     "metadata": {},
     "output_type": "display_data"
    }
   ],
   "source": [
    "import json\n",
    "colors_dict = {\n",
    "    0: [1, 0, 0],   # Red\n",
    "    1: [0, 1, 0],   # Green\n",
    "    2: [0, 0, 1],   # Blue\n",
    "    3: [1, 1, 0],   # Yellow\n",
    "    4: [1, 0, 1],   # Magenta\n",
    "    5: [0, 1, 1],   # Cyan\n",
    "    6: [0.5, 0, 0], # Dark Red\n",
    "    7: [0, 0.5, 0], # Dark Green\n",
    "    8: [0, 0, 0.5], # Dark Blue\n",
    "    9: [0.5, 0.5, 0.5] # Gray\n",
    "}\n",
    "colors_lst = ['Red', 'Green', 'Blue', 'Yellow', 'Magenta', 'Cyan', 'Dark Red', 'Dark Green', 'Dark Blue', 'Grey']\n",
    "output_file = open('./outputs/demo/ABO/' + object + '/face_preds.json')\n",
    "output = np.array(json.load(output_file))\n",
    "segments = np.unique(output)\n",
    "segments_idx = np.unique(output, return_inverse=True)[1]\n",
    "prompts = segments.tolist()\n",
    "if ('unknown' in prompts):\n",
    "    prompts.remove('unknown')\n",
    "# print('Prompts: ', prompts)\n",
    "colors = np.array([colors_dict[segment_id] for segment_id in segments_idx])\n",
    "for i in range(len(segments)):\n",
    "    print(colors_lst[i],':\\t',segments[i])\n",
    "mp.plot(vertices, faces, colors)\n",
    "plt.show()"
   ]
  }
 ],
 "metadata": {
  "kernelspec": {
   "display_name": "meshseg",
   "language": "python",
   "name": "python3"
  },
  "language_info": {
   "codemirror_mode": {
    "name": "ipython",
    "version": 3
   },
   "file_extension": ".py",
   "mimetype": "text/x-python",
   "name": "python",
   "nbconvert_exporter": "python",
   "pygments_lexer": "ipython3",
   "version": "3.9.19"
  }
 },
 "nbformat": 4,
 "nbformat_minor": 2
}
