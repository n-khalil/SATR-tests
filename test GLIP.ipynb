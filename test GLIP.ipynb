{
 "cells": [
  {
   "cell_type": "code",
   "execution_count": null,
   "metadata": {},
   "outputs": [],
   "source": [
    "# %reload_ext autoreload\n",
    "# %autoreload 2\n",
    "import imageio\n",
    "import matplotlib.pyplot as plt\n",
    "import torch\n",
    "print(torch.cuda.is_available())\n",
    "import sys\n",
    "sys.path.append(\"./GLIP/\")\n",
    "\n",
    "from meshseg.models.GLIP.glip import GLIPModel\n",
    "GM = GLIPModel()"
   ]
  },
  {
   "cell_type": "code",
   "execution_count": null,
   "metadata": {},
   "outputs": [],
   "source": [
    "si = 128\n",
    "# img = torch.zeros((si, si, 3), dtype=torch.uint8).numpy()\n",
    "img = imageio.imread(\"data/img/table.jpg\")\n",
    "# img += 2\n",
    "# plt.imshow(img)\n",
    "print(img.shape)\n",
    "# prediction = GM.predict(img, \"The legs, head, eyes, arms of people\")\n",
    "# prediction = GM.predict(img, \"the legs, top of the table\")\n",
    "prediction = GM.predict(img, \"legs\")"
   ]
  },
  {
   "cell_type": "code",
   "execution_count": null,
   "metadata": {},
   "outputs": [],
   "source": [
    "print(prediction[1])\n",
    "# plt.figure(figsize=[15, 10])\n",
    "plt.figure(figsize=[8, 6])\n",
    "plt.imshow(prediction[0])\n",
    "plt.show()"
   ]
  }
 ],
 "metadata": {
  "kernelspec": {
   "display_name": "clip",
   "language": "python",
   "name": "python3"
  },
  "language_info": {
   "codemirror_mode": {
    "name": "ipython",
    "version": 3
   },
   "file_extension": ".py",
   "mimetype": "text/x-python",
   "name": "python",
   "nbconvert_exporter": "python",
   "pygments_lexer": "ipython3",
   "version": "3.10.11"
  }
 },
 "nbformat": 4,
 "nbformat_minor": 2
}
